{
  "nbformat": 4,
  "nbformat_minor": 0,
  "metadata": {
    "colab": {
      "provenance": [],
      "include_colab_link": true
    },
    "kernelspec": {
      "name": "python3",
      "display_name": "Python 3"
    },
    "language_info": {
      "name": "python"
    }
  },
  "cells": [
    {
      "cell_type": "markdown",
      "metadata": {
        "id": "view-in-github",
        "colab_type": "text"
      },
      "source": [
        "<a href=\"https://colab.research.google.com/github/pipaber/Python-Programming101/blob/main/programacion-101/modulo1_fundamentos/tareas/Ejercicios_pre_exam.ipynb\" target=\"_parent\"><img src=\"https://colab.research.google.com/assets/colab-badge.svg\" alt=\"Open In Colab\"/></a>"
      ]
    },
    {
      "cell_type": "markdown",
      "source": [
        "<img src=\"https://posgrado.utec.edu.pe/sites/default/files/2023-08/Testimonial-home-2.jpg\" alt=\"HTML5 Icon\" width=\"900\" height=\"250\" >\n"
      ],
      "metadata": {
        "id": "a8zyMsSvRXp5"
      }
    },
    {
      "cell_type": "markdown",
      "source": [
        "#**Preguntas Tipo - Programación 101**\n",
        "## **Examen 1**"
      ],
      "metadata": {
        "id": "9zJeD0SAM13Y"
      }
    },
    {
      "cell_type": "markdown",
      "source": [
        "Restricción: No usar bucles (for, while), funciones definidas (def), ni listas.\n",
        "Usar únicamente variables, condicionales (if, elif, else), operaciones básicas, entrada (input()) y salida (print()).\n",
        "\n"
      ],
      "metadata": {
        "id": "eFGrD-AYNEbv"
      }
    },
    {
      "cell_type": "markdown",
      "source": [
        "###**Pregunta 1:**\n",
        "**Verificación numérica sencilla**\n",
        "\n",
        "Ingresa un número entero de dos dígitos y verifica si ambos dígitos son iguales."
      ],
      "metadata": {
        "id": "Y6CsgRhINSz6"
      }
    },
    {
      "cell_type": "code",
      "source": [
        "#Ejemplo:\n",
        "#Entrada: 44\n",
        "#Salida: Dígitos iguales"
      ],
      "metadata": {
        "id": "2jhsmLYPNTW9"
      },
      "execution_count": null,
      "outputs": []
    },
    {
      "cell_type": "code",
      "source": [
        "# Your code starts here\n",
        "\n",
        "55 == 55\n",
        "\n",
        "# Your code ends here"
      ],
      "metadata": {
        "id": "J5AUksDbNqEV",
        "colab": {
          "base_uri": "https://localhost:8080/"
        },
        "outputId": "4f324b1c-c04b-400a-f676-c8a58504c959"
      },
      "execution_count": null,
      "outputs": [
        {
          "output_type": "execute_result",
          "data": {
            "text/plain": [
              "True"
            ]
          },
          "metadata": {},
          "execution_count": 1
        }
      ]
    },
    {
      "cell_type": "markdown",
      "source": [
        "###**Pregunta 2:**\n",
        "**Clasificación de letra**\n",
        "\n",
        "Dado un carácter ingresado, determina si es consonante minúscula, consonante mayúscula o no consonante.\n"
      ],
      "metadata": {
        "id": "bOruUQBZNrIT"
      }
    },
    {
      "cell_type": "code",
      "source": [
        "#Ejemplo:\n",
        "#Entrada: \"G\"\n",
        "#Salida: Consonante MAYÚSCULA"
      ],
      "metadata": {
        "id": "q9nphTXnN2e-"
      },
      "execution_count": null,
      "outputs": []
    },
    {
      "cell_type": "code",
      "source": [
        "# Your code starts here\n",
        "\n",
        "import string\n",
        "\n",
        "character = \"n\"\n",
        "\n",
        "if character in string.ascii_lowercase:\n",
        "\n",
        "    print(\"Consonante minúscula\")\n",
        "elif character in string.ascii_uppercase:\n",
        "    print(\"Consonante mayúscula\")\n",
        "else:\n",
        "    print(\"No es una consonante\")\n",
        "\n",
        "# Your code ends here"
      ],
      "metadata": {
        "id": "6D49YSMAN5VP",
        "colab": {
          "base_uri": "https://localhost:8080/"
        },
        "outputId": "87ea5055-eea7-455e-b64b-f3822725fca2"
      },
      "execution_count": null,
      "outputs": [
        {
          "output_type": "stream",
          "name": "stdout",
          "text": [
            "Consonante minúscula\n"
          ]
        }
      ]
    },
    {
      "cell_type": "markdown",
      "source": [
        "###**Pregunta 3:**\n",
        "**Verificador de año bisiesto simplificado**\n",
        "\n",
        "Ingresa un año y determina si es bisiesto (divisible entre 4) o no.\n"
      ],
      "metadata": {
        "id": "bd7DcYvbN5yU"
      }
    },
    {
      "cell_type": "code",
      "source": [
        "#Ejemplo\n",
        "#Entrada: 2024\n",
        "#Salida: Bisiesto"
      ],
      "metadata": {
        "id": "gW-9lUhwOFuq"
      },
      "execution_count": null,
      "outputs": []
    },
    {
      "cell_type": "code",
      "source": [
        "# Your code starts here\n",
        "\n",
        "year = 2023\n",
        "\n",
        "if year % 4 == 0:\n",
        "    print(\"Bisiesto\")\n",
        "else:\n",
        "    print(\"No es bisiesto\")\n",
        "\n",
        "# Your code ends here"
      ],
      "metadata": {
        "id": "rguN-tC3OESX",
        "colab": {
          "base_uri": "https://localhost:8080/"
        },
        "outputId": "ef030877-800f-4036-c5cf-5456dd9e6b4f"
      },
      "execution_count": null,
      "outputs": [
        {
          "output_type": "stream",
          "name": "stdout",
          "text": [
            "No es bisiesto\n"
          ]
        }
      ]
    },
    {
      "cell_type": "markdown",
      "source": [
        "###**Pregunta 4:**\n",
        "**Rango numérico**\n",
        "\n",
        "Ingresa un número y verifica si está dentro del rango [10-20] inclusive o fuera del mismo."
      ],
      "metadata": {
        "id": "iNdvTtA6Qbwe"
      }
    },
    {
      "cell_type": "code",
      "source": [
        "#Ejemplo:\n",
        "#Entrada: 15\n",
        "#Salida: Dentro del rango"
      ],
      "metadata": {
        "id": "vBEZbQ4ZPoCd"
      },
      "execution_count": null,
      "outputs": []
    },
    {
      "cell_type": "code",
      "source": [
        "# Your code starts here\n",
        "\n",
        "number = 5\n",
        "\n",
        "if 10 <= number <= 20:\n",
        "    print(\"Dentro del rango\")\n",
        "else:\n",
        "    print(\"Fuera del rango\")\n",
        "\n",
        "# Your code ends here"
      ],
      "metadata": {
        "id": "teGjrMo1PqK2",
        "colab": {
          "base_uri": "https://localhost:8080/"
        },
        "outputId": "c276adfa-c785-42f7-d3a6-c787b02db68a"
      },
      "execution_count": null,
      "outputs": [
        {
          "output_type": "stream",
          "name": "stdout",
          "text": [
            "Fuera del rango\n"
          ]
        }
      ]
    },
    {
      "cell_type": "markdown",
      "source": [
        "###**Pregunta 5:**\n",
        "**Código especial (2 dígitos)**\n",
        "\n",
        "Ingresa un número de dos dígitos. Determina si la multiplicación de ambos dígitos es mayor a 20."
      ],
      "metadata": {
        "id": "U3ct-SRkQhTS"
      }
    },
    {
      "cell_type": "code",
      "source": [
        "#Ejemplo:\n",
        "#Entrada: 57  (5×7=35)\n",
        "#Salida: Producto mayor a 20"
      ],
      "metadata": {
        "id": "l75HDOQ7Qky_"
      },
      "execution_count": null,
      "outputs": []
    },
    {
      "cell_type": "code",
      "source": [
        "# Your code starts here\n",
        "\n",
        "number = 14\n",
        "\n",
        "assert len(str(number)) == 2, \"El número debe tener exactamente dos dígitos\"\n",
        "\n",
        "split_digits = [int(digit) for digit in str(number)]\n",
        "\n",
        "product = split_digits[0] * split_digits[1]\n",
        "\n",
        "if product > 20:\n",
        "    print(\"Producto mayor a 20\")\n",
        "else:\n",
        "    print(\"Producto menor o igual a 20\")\n",
        "\n",
        "\n",
        "# Your code ends here"
      ],
      "metadata": {
        "id": "Z3uRcAcaQnGP",
        "colab": {
          "base_uri": "https://localhost:8080/"
        },
        "outputId": "57cb5f68-21a2-4ddd-a507-2c269ad0c431"
      },
      "execution_count": null,
      "outputs": [
        {
          "output_type": "stream",
          "name": "stdout",
          "text": [
            "Producto menor o igual a 20\n"
          ]
        }
      ]
    },
    {
      "cell_type": "markdown",
      "source": [
        "###**Pregunta 6:**\n",
        "**Comparador de caracteres**\n",
        "\n",
        "Ingresa dos caracteres e indica cuál tiene mayor valor ASCII. Si son iguales, indícalo."
      ],
      "metadata": {
        "id": "9gtPmEjiQpSy"
      }
    },
    {
      "cell_type": "code",
      "source": [
        "#Ejemplo:\n",
        "#Entrada: a, b\n",
        "#Salida: Segundo mayor"
      ],
      "metadata": {
        "id": "eTtpZLqUQsEH"
      },
      "execution_count": null,
      "outputs": []
    },
    {
      "cell_type": "code",
      "source": [
        "# Your code starts here\n",
        "\n",
        "character_1 = input(\"Ingrese el primer carácter: \")\n",
        "\n",
        "\n",
        "assert len(character_1) == 1, \"El primer carácter debe tener exactamente un carácter\"\n",
        "try:\n",
        "    int(character_1)\n",
        "except ValueError:\n",
        "    pass\n",
        "else:\n",
        "    assert False, \"El primer carácter no puede ser un número\"\n",
        "assert len(character_2) == 1, \"El segundo carácter debe tener exactamente un carácter\"\n",
        "\n",
        "character_2 = input(\"Ingrese el segundo carácter: \")\n",
        "\n",
        "if character_1 > character_2:\n",
        "    print(\"Primer carácter mayor\")\n",
        "elif character_1 < character_2:\n",
        "    print(\"Segundo carácter mayor\")\n",
        "else:\n",
        "    print(\"Los caracteres son iguales\")\n",
        "\n",
        "# Your code ends here"
      ],
      "metadata": {
        "id": "M-OcrIy8QstB",
        "outputId": "675f6033-2baf-43a2-b3b2-508d43f7bec1",
        "colab": {
          "base_uri": "https://localhost:8080/"
        }
      },
      "execution_count": 9,
      "outputs": [
        {
          "output_type": "stream",
          "name": "stdout",
          "text": [
            "Ingrese el primer carácter: t\n",
            "Ingrese el segundo carácter: y\n",
            "Segundo carácter mayor\n"
          ]
        }
      ]
    },
    {
      "cell_type": "markdown",
      "source": [
        "\n",
        "###**Pregunta 7:**\n",
        "**Contraseña numérica corta**\n",
        "\n",
        "Verifica una contraseña numérica de 3 cifras ingresada por el usuario. La contraseña válida es 369.\n"
      ],
      "metadata": {
        "id": "DbRYWtFaQuYU"
      }
    },
    {
      "cell_type": "code",
      "source": [
        "#Ejemplo:\n",
        "#Entrada: 369\n",
        "#Salida: Acceso autorizado"
      ],
      "metadata": {
        "id": "fO9BNFo4QYbN"
      },
      "execution_count": null,
      "outputs": []
    },
    {
      "cell_type": "code",
      "source": [],
      "metadata": {
        "id": "d95lnFx3QYFL"
      },
      "execution_count": null,
      "outputs": []
    },
    {
      "cell_type": "markdown",
      "source": [
        "###**Pregunta 8:**\n",
        "**Vocales seguidas**\n",
        "\n",
        "Ingresa dos letras, determina si ambas son vocales (mayúsculas o minúsculas).\n"
      ],
      "metadata": {
        "id": "Ltt7Y9EhQSaa"
      }
    },
    {
      "cell_type": "code",
      "source": [
        "#Ejemplo:\n",
        "#Entrada: a, E\n",
        "#Salida: Ambas son vocales"
      ],
      "metadata": {
        "id": "H_h9E0CoQTMS"
      },
      "execution_count": null,
      "outputs": []
    },
    {
      "cell_type": "code",
      "source": [
        "# Your code starts here\n",
        "\n",
        "\n",
        "\n",
        "# Your code ends here"
      ],
      "metadata": {
        "id": "tqwQPMJ9QVRK"
      },
      "execution_count": null,
      "outputs": []
    },
    {
      "cell_type": "markdown",
      "source": [
        "---\n",
        "\n",
        "# Gracias por completar este laboratorio!\n",
        "\n",
        "---\n"
      ],
      "metadata": {
        "id": "eu9RJbEMRbUd"
      }
    }
  ]
}