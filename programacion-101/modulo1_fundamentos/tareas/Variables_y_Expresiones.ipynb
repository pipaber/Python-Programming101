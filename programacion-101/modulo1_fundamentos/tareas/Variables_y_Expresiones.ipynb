{
  "nbformat": 4,
  "nbformat_minor": 0,
  "metadata": {
    "colab": {
      "provenance": [],
      "include_colab_link": true
    },
    "kernelspec": {
      "name": "python3",
      "display_name": "Python 3"
    },
    "language_info": {
      "name": "python"
    }
  },
  "cells": [
    {
      "cell_type": "markdown",
      "metadata": {
        "id": "view-in-github",
        "colab_type": "text"
      },
      "source": [
        "<a href=\"https://colab.research.google.com/github/pipaber/Python-Programming101/blob/main/programacion-101/modulo1_fundamentos/tareas/Variables_y_Expresiones.ipynb\" target=\"_parent\"><img src=\"https://colab.research.google.com/assets/colab-badge.svg\" alt=\"Open In Colab\"/></a>"
      ]
    },
    {
      "cell_type": "markdown",
      "source": [
        "<img src=\"https://posgrado.utec.edu.pe/sites/default/files/2023-08/Testimonial-home-2.jpg\" alt=\"HTML5 Icon\" width=\"900\" height=\"250\" >\n"
      ],
      "metadata": {
        "id": "cqadFmlrgAXp"
      }
    },
    {
      "cell_type": "markdown",
      "source": [
        "# **Ejercicios - Variables y Expresiones**"
      ],
      "metadata": {
        "id": "tW1-ULBmb0Cm"
      }
    },
    {
      "cell_type": "markdown",
      "source": [
        "**Ejercicio 1: Calculadora de ahorro semanal**\n",
        "\n",
        "Pide al usuario cuánto dinero ahorra cada día de lunes a domingo. Al final, muestra cuánto ahorró en total esa semana y cuánto tendría en un mes si repite el mismo patrón cada semana.\n",
        "\n",
        "- Pista: Usar 7 variables (ahorro_lunes, ahorro_martes, …), input(), float(), +, *."
      ],
      "metadata": {
        "id": "9igzfvIKqNGr"
      }
    },
    {
      "cell_type": "code",
      "source": [
        "##TODO INICIO DE CÓDIGO\n",
        "\n",
        "# Declare days\n",
        "\n",
        "ahorro_lunes = float(input(\"Ingrese el monto ahorrado en lunes: \"))\n",
        "ahorro_martes = float(input(\"Ingrese el monto ahorrado en martes: \"))\n",
        "ahorro_miercoles = float(input(\"Ingrese el monto ahorrado en miercoles: \"))\n",
        "ahorro_jueves = float(input(\"Ingrese el monto ahorrado en jueves: \"))\n",
        "ahorro_viernes = float(input(\"Ingrese el monto ahorrado en viernes: \"))\n",
        "ahorro_sabado = float(input(\"Ingrese el monto ahorrado en sabado: \"))\n",
        "ahorro_domingo = float(input(\"Ingrese el monto ahorrado en domingo: \"))\n",
        "\n",
        "# Declare week and month savings\n",
        "\n",
        "week_total = ahorro_lunes + ahorro_martes + ahorro_miercoles + ahorro_jueves + ahorro_viernes + ahorro_sabado + ahorro_domingo\n",
        "month_total = week_total * 4\n",
        "\n",
        "print(f\"El monto total ahorrado en la semana es: {week_total}\")\n",
        "print(f\"El monto total ahorrado en el mes es: {month_total}\")\n",
        "\n",
        "\n",
        "## FIN DE CÓDIGO"
      ],
      "metadata": {
        "id": "BX-O1-4wqWF9",
        "colab": {
          "base_uri": "https://localhost:8080/"
        },
        "outputId": "8dd2ffd4-600c-42de-bef6-22434a07af68"
      },
      "execution_count": 2,
      "outputs": [
        {
          "output_type": "stream",
          "name": "stdout",
          "text": [
            "Ingrese el monto ahorrado en lunes: 20\n",
            "Ingrese el monto ahorrado en martes: 21\n",
            "Ingrese el monto ahorrado en miercoles: 15\n",
            "Ingrese el monto ahorrado en jueves: 25\n",
            "Ingrese el monto ahorrado en viernes: 30\n",
            "Ingrese el monto ahorrado en sabado: 80\n",
            "Ingrese el monto ahorrado en domingo: 90\n",
            "El monto total ahorrado en la semana es: 281.0\n",
            "El monto total ahorrado en el mes es: 1124.0\n"
          ]
        }
      ]
    },
    {
      "cell_type": "markdown",
      "source": [
        "**Ejercicio 2: Conversor de segundos**\n",
        "\n",
        "Solicita una cantidad total de segundos y muestra cuántos minutos y segundos representa.\n",
        "\n",
        "Ejemplo: 130 segundos → 2 minutos y 10 segundos\n",
        "* Pista: Usar // y %\n"
      ],
      "metadata": {
        "id": "oLaw6UggqV3E"
      }
    },
    {
      "cell_type": "code",
      "source": [
        "## INICIO DE CÓDIGO\n",
        "\n",
        "# Declare seconds variable\n",
        "\n",
        "seconds = float(input(\"Ingrese la cantidad de segundos: \"))\n",
        "\n",
        "# Math\n",
        "\n",
        "minutes = seconds // 60\n",
        "remaining_seconds = seconds % 60\n",
        "\n",
        "# Printing\n",
        "\n",
        "print(f\"{seconds} segundos son {minutes} minutos y {remaining_seconds} segundos.\")\n",
        "\n",
        "## FIN DE CÓDIGO"
      ],
      "metadata": {
        "id": "bAuxBROrqaWb",
        "colab": {
          "base_uri": "https://localhost:8080/"
        },
        "outputId": "79e0d5ab-ad53-4f50-ddcd-61080fe6a0c0"
      },
      "execution_count": 3,
      "outputs": [
        {
          "output_type": "stream",
          "name": "stdout",
          "text": [
            "Ingrese la cantidad de segundos: 2590\n",
            "2590.0 segundos son 43.0 minutos y 10.0 segundos.\n"
          ]
        }
      ]
    },
    {
      "cell_type": "markdown",
      "source": [
        "**Ejercicio 3: Puntuación de juego**\n",
        "\n",
        "Un videojuego otorga:\n",
        "\n",
        "* 10 puntos por cada estrella recolectada,\n",
        "* 50 puntos por cada gema recolectada, y\n",
        "* 1 punto por cada segundo que el jugador se mantuvo vivo.\n",
        "\n",
        "Pide al usuario las tres cantidades y muestra su puntaje total.\n",
        "\n",
        "* Pista: total = estrellas*10 + gemas*50 + tiempo"
      ],
      "metadata": {
        "id": "dK4EIGoKrW2B"
      }
    },
    {
      "cell_type": "code",
      "source": [
        "## INICIO DE CÓDIGO\n",
        "\n",
        "# Declare variables\n",
        "\n",
        "star_collected = int(input(\"Ingrese la cantidad de estrellas recolectadas: \"))\n",
        "gem_collected = int(input(\"Ingrese la cantidad de gemas recolectadas: \"))\n",
        "time_played = int(input(\"Ingrese la cantidad de segundos que el jugador se mantuvo vivo: \"))\n",
        "\n",
        "# Total score\n",
        "\n",
        "total_score = star_collected * 10 + gem_collected * 50 + time_played\n",
        "\n",
        "print(f\"El puntaje total del jugador es: {total_score}\")\n",
        "\n",
        "## FIN DE CÓDIGO"
      ],
      "metadata": {
        "id": "jkBQHQF1rlUY",
        "colab": {
          "base_uri": "https://localhost:8080/"
        },
        "outputId": "ada9d05b-559f-49d3-be33-1b7fe7c571af"
      },
      "execution_count": 4,
      "outputs": [
        {
          "output_type": "stream",
          "name": "stdout",
          "text": [
            "Ingrese la cantidad de estrellas recolectadas: 5\n",
            "Ingrese la cantidad de gemas recolectadas: 6\n",
            "Ingrese la cantidad de segundos que el jugador se mantuvo vivo: 60\n",
            "El puntaje total del jugador es: 410\n"
          ]
        }
      ]
    },
    {
      "cell_type": "markdown",
      "source": [
        "**Ejercicio 4: Conversor de monedas con tasa personalizada**\n",
        "\n",
        "Solicita al usuario:\n",
        "\n",
        "* El monto en soles\n",
        "* La tasa de cambio a dólares\n",
        "\n",
        "Muestra el equivalente en dólares, redondeado a 2 decimales.\n",
        "\n",
        "* Pista: Usar float(), *, round(valor, 2)"
      ],
      "metadata": {
        "id": "wW9Edl_8rlt1"
      }
    },
    {
      "cell_type": "code",
      "source": [
        "## INICIO DE CÓDIGO\n",
        "\n",
        "# Declare variables\n",
        "\n",
        "soles_amount = float(input(\"Ingrese el monto en soles: \"))\n",
        "exchange_rate = float(input(\"Ingrese la tasa de cambio a dólares: \"))\n",
        "\n",
        "# Convert to dollars\n",
        "\n",
        "dollars_amount = round(soles_amount / exchange_rate, 2)\n",
        "\n",
        "print(f\"Your money in dollars: {dollars_amount}\")\n",
        "\n",
        "## FIN DE CÓDIGO"
      ],
      "metadata": {
        "id": "fTCsCohHrmQW",
        "colab": {
          "base_uri": "https://localhost:8080/"
        },
        "outputId": "6e6ef3f7-271d-4f51-f027-81d19e3a4266"
      },
      "execution_count": 6,
      "outputs": [
        {
          "output_type": "stream",
          "name": "stdout",
          "text": [
            "Ingrese el monto en soles: 3700\n",
            "Ingrese la tasa de cambio a dólares: 3.7\n",
            "Your money in dollars: 1000.0\n"
          ]
        }
      ]
    },
    {
      "cell_type": "markdown",
      "source": [
        "**Ejercicio 5: Costo compartido de viaje**\n",
        "\n",
        "Tres amigos hacen un viaje y pagan distintos montos:\n",
        "\n",
        "* Ana pagó gasolina,\n",
        "* Luis pagó peajes,\n",
        "* Carla pagó comida.\n",
        "\n",
        "Pide los tres montos, calcula el total y cuánto debería aportar cada uno para que paguen igual.\n",
        "\n",
        "* Pista: Calcular el total y luego dividirlo entre 3"
      ],
      "metadata": {
        "id": "JYUyJAidrmnT"
      }
    },
    {
      "cell_type": "code",
      "source": [
        "## INICIO DE CÓDIGO\n",
        "\n",
        "# People variables\n",
        "\n",
        "ana_payment = float(input(\"Ingrese el monto pagado por Ana: \"))\n",
        "luis_payment = float(input(\"Ingrese el monto pagado por Luis: \"))\n",
        "carla_payment = float(input(\"Ingrese el monto pagado por Carla: \"))\n",
        "\n",
        "# Math\n",
        "\n",
        "total_payment = ana_payment + luis_payment + carla_payment\n",
        "average_payment = total_payment / 3\n",
        "\n",
        "print(f\"El monto total a pagar es: {total_payment}\")\n",
        "print(f\"Cada uno debe pagar: {average_payment:.2f}\")\n",
        "\n",
        "## FIN DE CÓDIGO"
      ],
      "metadata": {
        "id": "SGjH-m_mrom9",
        "colab": {
          "base_uri": "https://localhost:8080/"
        },
        "outputId": "1427f3d5-eb8e-46bb-c52e-b55c9700e313"
      },
      "execution_count": 8,
      "outputs": [
        {
          "output_type": "stream",
          "name": "stdout",
          "text": [
            "Ingrese el monto pagado por Ana: 80\n",
            "Ingrese el monto pagado por Luis: 20\n",
            "Ingrese el monto pagado por Carla: 150\n",
            "El monto total a pagar es: 250.0\n",
            "Cada uno debe pagar: 83.33\n"
          ]
        }
      ]
    },
    {
      "cell_type": "markdown",
      "source": [
        "**Ejercicio 6: Tiempo total de estudio**\n",
        "\n",
        "Solicita al usuario cuántas horas estudió en 4 materias distintas.\n",
        "\n",
        "Muestra el total de horas de estudio en la semana y el promedio diario (considerando 7 días).\n"
      ],
      "metadata": {
        "id": "skhBiCaCro5l"
      }
    },
    {
      "cell_type": "code",
      "source": [
        "## INICIO DE CÓDIGO\n",
        "\n",
        "# Declare variables\n",
        "\n",
        "subject_1 = float(input(\"Ingrese las horas estudiadas en la materia 1: \"))\n",
        "subject_2 = float(input(\"Ingrese las horas estudiadas en la materia 2: \"))\n",
        "subject_3 = float(input(\"Ingrese las horas estudiadas en la materia 3: \"))\n",
        "subject_4 = float(input(\"Ingrese las horas estudiadas en la materia 4: \"))\n",
        "\n",
        "# Math\n",
        "\n",
        "total_hours = subject_1 + subject_2 + subject_3 + subject_4\n",
        "average_daily_hours = total_hours / 7\n",
        "\n",
        "# Printing\n",
        "\n",
        "print(f\"El total de horas de estudio en la semana es: {total_hours}\")\n",
        "print(f\"El promedio de horas de estudio diario es: {average_daily_hours}\")\n",
        "\n",
        "## FIN DE CÓDIGO"
      ],
      "metadata": {
        "id": "HnFuV1RPrqXQ",
        "colab": {
          "base_uri": "https://localhost:8080/"
        },
        "outputId": "51260aad-0336-43ba-a090-441ac7eca5ae"
      },
      "execution_count": 9,
      "outputs": [
        {
          "output_type": "stream",
          "name": "stdout",
          "text": [
            "Ingrese las horas estudiadas en la materia 1: 5\n",
            "Ingrese las horas estudiadas en la materia 2: 6\n",
            "Ingrese las horas estudiadas en la materia 3: 8\n",
            "Ingrese las horas estudiadas en la materia 4: 2\n",
            "El total de horas de estudio en la semana es: 21.0\n",
            "El promedio de horas de estudio diario es: 3.0\n"
          ]
        }
      ]
    },
    {
      "cell_type": "markdown",
      "source": [
        "**Ejercicio 7: Nombre codificado (nivel string)**\n",
        "\n",
        "Pide al usuario su nombre completo y muestra:\n",
        "\n",
        "* La cantidad de caracteres (con len())\n",
        "* Su nombre todo en mayúsculas (.upper())\n",
        "* Su nombre todo en minúsculas (.lower())\n"
      ],
      "metadata": {
        "id": "rNjtOXKWrqs5"
      }
    },
    {
      "cell_type": "code",
      "source": [
        "## INICIO DE CÓDIGO\n",
        "\n",
        "# Variables\n",
        "\n",
        "name = input(\"Ingrese su nombre completo: \")\n",
        "\n",
        "# Printing\n",
        "\n",
        "print(f\"La cantidad de caracteres es: {len(name)}\")\n",
        "print(f\"Su nombre todo en mayúsculas es: {name.upper()}\")\n",
        "print(f\"Su nombre todo en minúsculas es: {name.lower()}\")\n",
        "\n",
        "## FIN DE CÓDIGO"
      ],
      "metadata": {
        "id": "GnGm74GXrsL0",
        "colab": {
          "base_uri": "https://localhost:8080/"
        },
        "outputId": "343c7ae6-5fb3-4457-f144-c291afd34f5f"
      },
      "execution_count": 10,
      "outputs": [
        {
          "output_type": "stream",
          "name": "stdout",
          "text": [
            "Ingrese su nombre completo: Piero Palacios Bernuy\n",
            "La cantidad de caracteres es: 21\n",
            "Su nombre todo en mayúsculas es: PIERO PALACIOS BERNUY\n",
            "Su nombre todo en minúsculas es: piero palacios bernuy\n"
          ]
        }
      ]
    },
    {
      "cell_type": "markdown",
      "source": [
        "**Ejercicio 8: Frase repetida**\n",
        "\n",
        "Pide una frase y un número n, y muestra la frase repetida n veces, cada una en una línea.\n",
        "\n",
        "* Pista: print(frase * n)  # y/o con '\\n'"
      ],
      "metadata": {
        "id": "lrhPyjmWrse2"
      }
    },
    {
      "cell_type": "code",
      "source": [
        "## INICIO DE CÓDIGO\n",
        "\n",
        "# Declare variables\n",
        "\n",
        "phrase = input(\"Ingrese una frase: \")\n",
        "n = int(input(\"Ingrese un número: \"))\n",
        "\n",
        "# Printing\n",
        "\n",
        "print((phrase + \"\\n\") * n)\n",
        "\n",
        "## FIN DE CÓDIGO"
      ],
      "metadata": {
        "id": "Vzef3t_Lru0p",
        "colab": {
          "base_uri": "https://localhost:8080/"
        },
        "outputId": "f49837ab-0ba2-445c-e78f-56bc25a6b366"
      },
      "execution_count": 11,
      "outputs": [
        {
          "output_type": "stream",
          "name": "stdout",
          "text": [
            "Ingrese una frase: Wenas\n",
            "Ingrese un número: 22\n",
            "Wenas\n",
            "Wenas\n",
            "Wenas\n",
            "Wenas\n",
            "Wenas\n",
            "Wenas\n",
            "Wenas\n",
            "Wenas\n",
            "Wenas\n",
            "Wenas\n",
            "Wenas\n",
            "Wenas\n",
            "Wenas\n",
            "Wenas\n",
            "Wenas\n",
            "Wenas\n",
            "Wenas\n",
            "Wenas\n",
            "Wenas\n",
            "Wenas\n",
            "Wenas\n",
            "Wenas\n",
            "\n"
          ]
        }
      ]
    },
    {
      "cell_type": "markdown",
      "source": [
        "**Ejercicio 9: División de cuentas**\n",
        "\n",
        "Un grupo de amigos pide una cuenta por S/ 250.\n",
        "Pide al usuario cuántas personas están en el grupo y muestra cuánto debe pagar cada uno.\n",
        "\n",
        "Asegúrate de redondear el resultado a 2 decimales.\n",
        "\n",
        "* Pista: Usa la funcion round()"
      ],
      "metadata": {
        "id": "5NpbbGR_rvNH"
      }
    },
    {
      "cell_type": "code",
      "source": [
        "## INICIO DE CÓDIGO\n",
        "\n",
        "# variables\n",
        "\n",
        "total_amount = 250\n",
        "people = int(input(\"Ingrese la cantidad de personas en el grupo: \"))\n",
        "\n",
        "# Math\n",
        "\n",
        "amount_per_person = round(total_amount / people, 2)\n",
        "\n",
        "# Printing\n",
        "\n",
        "print(f\"Cada persona debe pagar: {amount_per_person}\")\n",
        "\n",
        "## FIN DE CÓDIGO"
      ],
      "metadata": {
        "id": "uMxuVCUVrvj6",
        "colab": {
          "base_uri": "https://localhost:8080/"
        },
        "outputId": "51732d59-7293-43e5-b5ce-f6d7ff073c68"
      },
      "execution_count": 13,
      "outputs": [
        {
          "output_type": "stream",
          "name": "stdout",
          "text": [
            "Ingrese la cantidad de personas en el grupo: 11\n",
            "Cada persona debe pagar: 22.73\n"
          ]
        }
      ]
    },
    {
      "cell_type": "markdown",
      "source": [
        "**Ejercicio 10: Calendario de clases**\n",
        "\n",
        "Pide cuántas horas se estudia en promedio por día, y cuántos días tiene el mes.\n",
        "\n",
        "Calcula cuántas horas de estudio habrá ese mes."
      ],
      "metadata": {
        "id": "p3PYp0l4pxuI"
      }
    },
    {
      "cell_type": "code",
      "source": [
        "## INICIO DE CÓDIGO\n",
        "\n",
        "# Variables\n",
        "\n",
        "average_hours_per_day = float(input(\"Ingrese las horas promedio de estudio por día: \"))\n",
        "days_in_month = int(input(\"Ingrese el número de días en el mes: \"))\n",
        "\n",
        "# Math\n",
        "\n",
        "hours_in_month = average_hours_per_day * days_in_month\n",
        "\n",
        "# Printing\n",
        "\n",
        "print(f\"El número de horas de estudio en el mes es: {hours_in_month}\")\n",
        "\n",
        "## FIN DE CÓDIGO"
      ],
      "metadata": {
        "id": "y1bXFffhrxk2",
        "colab": {
          "base_uri": "https://localhost:8080/"
        },
        "outputId": "8f09886d-d7c8-407c-c691-29e643d0d936"
      },
      "execution_count": 15,
      "outputs": [
        {
          "output_type": "stream",
          "name": "stdout",
          "text": [
            "Ingrese las horas promedio de estudio por día: 5\n",
            "Ingrese el número de días en el mes: 31\n",
            "El número de horas de estudio en el mes es: 155.0\n"
          ]
        }
      ]
    },
    {
      "cell_type": "markdown",
      "source": [
        "---\n",
        "\n",
        "# Gracias por completar este laboratorio!\n",
        "\n",
        "---\n"
      ],
      "metadata": {
        "id": "8_ZocYoOrx3Z"
      }
    }
  ]
}