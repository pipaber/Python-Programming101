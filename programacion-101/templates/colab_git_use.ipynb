{
  "nbformat": 4,
  "nbformat_minor": 0,
  "metadata": {
    "colab": {
      "provenance": [],
      "authorship_tag": "ABX9TyNCBd3YC6vbg+fhMVhI9jvj",
      "include_colab_link": true
    },
    "kernelspec": {
      "name": "python3",
      "display_name": "Python 3"
    },
    "language_info": {
      "name": "python"
    }
  },
  "cells": [
    {
      "cell_type": "markdown",
      "metadata": {
        "id": "view-in-github",
        "colab_type": "text"
      },
      "source": [
        "<a href=\"https://colab.research.google.com/github/john-caballero/Python-Programming101/blob/main/programacion-101/templates/colab_git_use.ipynb\" target=\"_parent\"><img src=\"https://colab.research.google.com/assets/colab-badge.svg\" alt=\"Open In Colab\"/></a>"
      ]
    },
    {
      "cell_type": "code",
      "execution_count": null,
      "metadata": {
        "id": "Xewl1A-gvoe-"
      },
      "outputs": [],
      "source": [
        "# 1. Crear estructura de carpetas\n",
        "!mkdir -p Programacion-Python-Utec/modulo1_fundamentos/clase01_algoritmos_y_programas\n",
        "!mkdir -p Programacion-Python-Utec/modulo1_fundamentos/clase02_variables_expresiones\n",
        "!mkdir -p Programacion-Python-Utec/modulo1_fundamentos/clase03_condicionales\n",
        "!mkdir -p Programacion-Python-Utec/modulo1_fundamentos/clase04_bucles\n",
        "!mkdir -p Programacion-Python-Utec/modulo1_fundamentos/clase05_funciones\n",
        "!mkdir -p Programacion-Python-Utec/modulo1_fundamentos/clase06_recursividad\n",
        "\n",
        "!mkdir -p Programacion-Python-Utec/modulo2_estructuras_datos/clase07_listas_y_tuplas\n",
        "!mkdir -p Programacion-Python-Utec/modulo2_estructuras_datos/clase08_diccionarios\n",
        "!mkdir -p Programacion-Python-Utec/modulo2_estructuras_datos/clase09_numpy_matrices\n",
        "!mkdir -p Programacion-Python-Utec/modulo2_estructuras_datos/clase10_pandas_dataframes\n",
        "!mkdir -p Programacion-Python-Utec/modulo2_estructuras_datos/clase11_fuentes_datos_csv_api\n",
        "\n",
        "!mkdir -p Programacion-Python-Utec/modulo3_analisis_visualizacion/clase12_estadistica_basica\n",
        "!mkdir -p Programacion-Python-Utec/modulo3_analisis_visualizacion/clase13_simulacion\n",
        "!mkdir -p Programacion-Python-Utec/modulo3_analisis_visualizacion/clase14_visualizacion_datos\n",
        "!mkdir -p Programacion-Python-Utec/modulo3_analisis_visualizacion/clase15_presentacion_datos\n",
        "\n",
        "!mkdir -p Programacion-Python-Utec/ejercicios\n",
        "!mkdir -p Programacion-Python-Utec/proyectos\n",
        "!mkdir -p Programacion-Python-Utec/examenes\n",
        "!mkdir -p Programacion-Python-Utec/recursos\n",
        "!mkdir -p Programacion-Python-Utec/soluciones\n",
        "!mkdir -p Programacion-Python-Utec/templates\n",
        "!mkdir -p Programacion-Python-Utec/utils\n"
      ]
    },
    {
      "cell_type": "code",
      "source": [
        "# Crear un archivo .gitkeep en cada carpeta vacía para que Git las incluya\n",
        "import os\n",
        "\n",
        "carpetas = [\n",
        "    \"modulo1_fundamentos/clase01_algoritmos_y_programas\",\n",
        "    \"modulo1_fundamentos/clase02_variables_expresiones\",\n",
        "    \"modulo1_fundamentos/clase03_condicionales\",\n",
        "    \"modulo1_fundamentos/clase04_bucles\",\n",
        "    \"modulo1_fundamentos/clase05_funciones\",\n",
        "    \"modulo1_fundamentos/clase06_recursividad\",\n",
        "    \"modulo2_estructuras_datos/clase07_listas_y_tuplas\",\n",
        "    \"modulo2_estructuras_datos/clase08_diccionarios\",\n",
        "    \"modulo2_estructuras_datos/clase09_numpy_matrices\",\n",
        "    \"modulo2_estructuras_datos/clase10_pandas_dataframes\",\n",
        "    \"modulo2_estructuras_datos/clase11_fuentes_datos_csv_api\",\n",
        "    \"modulo3_analisis_visualizacion/clase12_estadistica_basica\",\n",
        "    \"modulo3_analisis_visualizacion/clase13_simulacion\",\n",
        "    \"modulo3_analisis_visualizacion/clase14_visualizacion_datos\",\n",
        "    \"modulo3_analisis_visualizacion/clase15_presentacion_datos\",\n",
        "    \"ejercicios\", \"proyectos\", \"examenes\", \"recursos\", \"soluciones\", \"templates\", \"utils\"\n",
        "]\n",
        "\n",
        "for carpeta in carpetas:\n",
        "    ruta = os.path.join(\"Programacion-Python-Utec\", carpeta, \".gitkeep\")\n",
        "    os.makedirs(os.path.dirname(ruta), exist_ok=True)\n",
        "    with open(ruta, \"w\") as f:\n",
        "        pass  # archivo vacío\n"
      ],
      "metadata": {
        "id": "_VS_ihKj6jVZ"
      },
      "execution_count": null,
      "outputs": []
    },
    {
      "cell_type": "code",
      "source": [
        "\n",
        "# 2. Entrar a la carpeta correcta\n",
        "%cd /content/Programacion-Python-Utec\n",
        "\n",
        "# 3. Inicializar Git\n",
        "!git init\n",
        "!git config user.name \"john-caballero\"\n",
        "!git config user.email \"jcaballeroterrazos@gmail.com\"\n",
        "!git branch -m main\n",
        "\n",
        "# 4. Agregar archivos y hacer commit\n",
        "!git add .\n",
        "!git commit -m \"Primer commit - estructura inicial\"\n",
        "\n",
        "# 5. Coloca aquí tu NUEVO token personal\n",
        "token = \"\"\n",
        "\n",
        "# 6. URL del repositorio\n",
        "repo_url = f\"https://{token}@github.com/john-caballero/Programacion-Python-Utec.git\"\n",
        "\n",
        "# 7. Establecer el remote y hacer push\n",
        "!git remote remove origin || echo \"No remote to remove\"\n",
        "!git remote add origin $repo_url\n",
        "\n",
        "# 1. Indicar que deseas hacer pull con merge\n",
        "#!git config pull.rebase false\n",
        "\n",
        "# 2. Hacer el pull aceptando que las historias son distintas\n",
        "!git pull origin main\n",
        "#!git pull origin main --allow-unrelated-histories\n",
        "\n"
      ],
      "metadata": {
        "colab": {
          "base_uri": "https://localhost:8080/"
        },
        "id": "zVAjYdVT07tc",
        "outputId": "8933e534-0365-411d-9fc9-bca811d834ee"
      },
      "execution_count": null,
      "outputs": [
        {
          "output_type": "stream",
          "name": "stdout",
          "text": [
            "/content/Programacion-Python-Utec\n",
            "Reinitialized existing Git repository in /content/Programacion-Python-Utec/.git/\n",
            "[main 4a1271e] Primer commit - estructura inicial\n",
            " 22 files changed, 0 insertions(+), 0 deletions(-)\n",
            " create mode 100644 Programacion-Python-Utec/ejercicios/.gitkeep\n",
            " create mode 100644 Programacion-Python-Utec/examenes/.gitkeep\n",
            " create mode 100644 Programacion-Python-Utec/modulo1_fundamentos/clase01_algoritmos_y_programas/.gitkeep\n",
            " create mode 100644 Programacion-Python-Utec/modulo1_fundamentos/clase02_variables_expresiones/.gitkeep\n",
            " create mode 100644 Programacion-Python-Utec/modulo1_fundamentos/clase03_condicionales/.gitkeep\n",
            " create mode 100644 Programacion-Python-Utec/modulo1_fundamentos/clase04_bucles/.gitkeep\n",
            " create mode 100644 Programacion-Python-Utec/modulo1_fundamentos/clase05_funciones/.gitkeep\n",
            " create mode 100644 Programacion-Python-Utec/modulo1_fundamentos/clase06_recursividad/.gitkeep\n",
            " create mode 100644 Programacion-Python-Utec/modulo2_estructuras_datos/clase07_listas_y_tuplas/.gitkeep\n",
            " create mode 100644 Programacion-Python-Utec/modulo2_estructuras_datos/clase08_diccionarios/.gitkeep\n",
            " create mode 100644 Programacion-Python-Utec/modulo2_estructuras_datos/clase09_numpy_matrices/.gitkeep\n",
            " create mode 100644 Programacion-Python-Utec/modulo2_estructuras_datos/clase10_pandas_dataframes/.gitkeep\n",
            " create mode 100644 Programacion-Python-Utec/modulo2_estructuras_datos/clase11_fuentes_datos_csv_api/.gitkeep\n",
            " create mode 100644 Programacion-Python-Utec/modulo3_analisis_visualizacion/clase12_estadistica_basica/.gitkeep\n",
            " create mode 100644 Programacion-Python-Utec/modulo3_analisis_visualizacion/clase13_simulacion/.gitkeep\n",
            " create mode 100644 Programacion-Python-Utec/modulo3_analisis_visualizacion/clase14_visualizacion_datos/.gitkeep\n",
            " create mode 100644 Programacion-Python-Utec/modulo3_analisis_visualizacion/clase15_presentacion_datos/.gitkeep\n",
            " create mode 100644 Programacion-Python-Utec/proyectos/.gitkeep\n",
            " create mode 100644 Programacion-Python-Utec/recursos/.gitkeep\n",
            " create mode 100644 Programacion-Python-Utec/soluciones/.gitkeep\n",
            " create mode 100644 Programacion-Python-Utec/templates/.gitkeep\n",
            " create mode 100644 Programacion-Python-Utec/utils/.gitkeep\n",
            "From https://github.com/john-caballero/Programacion-Python-Utec\n",
            " * branch            main       -> FETCH_HEAD\n",
            " * [new branch]      main       -> origin/main\n",
            "Already up to date.\n"
          ]
        }
      ]
    },
    {
      "cell_type": "code",
      "source": [
        "# 3. Luego ya puedes hacer el push final\n",
        "!git push -u origin main --force\n"
      ],
      "metadata": {
        "colab": {
          "base_uri": "https://localhost:8080/"
        },
        "id": "Q-Jeza8l5qeh",
        "outputId": "a66ebcdd-7b97-4b5b-b963-0760b2688d93"
      },
      "execution_count": null,
      "outputs": [
        {
          "output_type": "stream",
          "name": "stdout",
          "text": [
            "Enumerating objects: 9, done.\n",
            "Counting objects:  11% (1/9)\rCounting objects:  22% (2/9)\rCounting objects:  33% (3/9)\rCounting objects:  44% (4/9)\rCounting objects:  55% (5/9)\rCounting objects:  66% (6/9)\rCounting objects:  77% (7/9)\rCounting objects:  88% (8/9)\rCounting objects: 100% (9/9)\rCounting objects: 100% (9/9), done.\n",
            "Delta compression using up to 2 threads\n",
            "Compressing objects:  16% (1/6)\rCompressing objects:  33% (2/6)\rCompressing objects:  50% (3/6)\rCompressing objects:  66% (4/6)\rCompressing objects:  83% (5/6)\rCompressing objects: 100% (6/6)\rCompressing objects: 100% (6/6), done.\n",
            "Writing objects:  12% (1/8)\rWriting objects:  25% (2/8)\rWriting objects:  37% (3/8)\rWriting objects:  50% (4/8)\rWriting objects:  62% (5/8)\rWriting objects:  75% (6/8)\rWriting objects:  87% (7/8)\rWriting objects: 100% (8/8)\rWriting objects: 100% (8/8), 975 bytes | 975.00 KiB/s, done.\n",
            "Total 8 (delta 0), reused 0 (delta 0), pack-reused 0\n",
            "To https://github.com/john-caballero/Programacion-Python-Utec.git\n",
            "   b03ca88..4a1271e  main -> main\n",
            "Branch 'main' set up to track remote branch 'main' from 'origin'.\n"
          ]
        }
      ]
    }
  ]
}