{
 "cells": [
  {
   "cell_type": "markdown",
   "id": "a39fe447",
   "metadata": {},
   "source": [
    "# Examen: Construyendo el Sistema de Recomendación de PythonFlix\n",
    "\n",
    "*Contexto*: Eres parte del equipo de ingeniería de PythonFlix, una plataforma de streaming que necesita construir y mejorar su sistema de recomendación. Vas a trabajar con estructuras de datos como listas, tuplas, diccionarios y sets para procesar ratings, historiales y perfiles de usuario.\n"
   ]
  },
  {
   "cell_type": "markdown",
   "id": "d48e7d08",
   "metadata": {},
   "source": [
    "1. Catálogo de contenido (Listas y tuplas)\n",
    "Tienes una tupla inmutable con las series más vistas:\n",
    "\n",
    "```\n",
    "catalogo_popular = (\"Breaking Python\", \"Data Science 101\", \"Machine Love\", \"Debug Wars\")\n",
    "```\n",
    "\n",
    "Convierte esta tupla en una lista y realiza lo siguiente:\n",
    "\n",
    "●\tAgrega una nueva serie: \"Neural Networks\"\n",
    "\n",
    "●\tReemplaza \"Debug Wars\" por \"AI Rebellion\"\n",
    "\n",
    "●\tOrdena la lista alfabéticamente\n"
   ]
  },
  {
   "cell_type": "code",
   "execution_count": null,
   "id": "b297ba94",
   "metadata": {},
   "outputs": [
    {
     "name": "stdout",
     "output_type": "stream",
     "text": [
      "Previous list: ['Breaking Python', 'Data Science 101', 'Machine Love', 'AI Rebelion', 'Neural Networks']\n",
      "Ordered list: ['AI Rebelion', 'Breaking Python', 'Data Science 101', 'Machine Love', 'Neural Networks']\n"
     ]
    }
   ],
   "source": [
    "catalogo_popular = (\"Breaking Python\", \"Data Science 101\", \"Machine Love\", \"Debug Wars\")\n",
    "\n",
    "# To list\n",
    "\n",
    "catalogo_popular_list = list(catalogo_popular)\n",
    "\n",
    "# adding new series\n",
    "\n",
    "catalogo_popular_list.append(\"Neural Networks\")\n",
    "\n",
    "# replace Debug Wars for AI Rebelion\n",
    "\n",
    "catalogo_popular_list[3] = \"AI Rebelion\"\n",
    "\n",
    "# order the list alphabetical order\n",
    "\n",
    "ordered_list = sorted(catalogo_popular_list)\n",
    "\n",
    "# print the list\n",
    "\n",
    "print(f\"Previous list: {catalogo_popular_list}\")\n",
    "print(f\"Ordered list: {ordered_list}\")"
   ]
  },
  {
   "cell_type": "markdown",
   "id": "8d768a85",
   "metadata": {},
   "source": [
    "2. Filtrado de géneros (Slicing)\n",
    "Tienes una lista con los géneros disponibles:\n",
    "\n",
    "```\n",
    "generos = [\"Drama\", \"Comedia\", \"Acción\", \"Sci-Fi\", \"Documental\", \"Terror\", \"Romance\"]\n",
    "```\n",
    "\n",
    "Realiza:\n",
    "\n",
    "●\tUn slicing que obtenga los géneros del medio\n",
    "\n",
    "●\tUn slicing que obtenga los tres primeros géneros\n",
    "\n",
    "●\tLos géneros ordenados en orden inverso (usando slicing)\n"
   ]
  },
  {
   "cell_type": "code",
   "execution_count": 17,
   "id": "28aa85f4",
   "metadata": {},
   "outputs": [
    {
     "name": "stdout",
     "output_type": "stream",
     "text": [
      "Sci-Fi\n",
      "['Drama', 'Comedia', 'Acción']\n",
      "['Romance', 'Terror', 'Documental', 'Sci-Fi', 'Acción', 'Comedia', 'Drama']\n"
     ]
    }
   ],
   "source": [
    "generos = [\"Drama\", \"Comedia\", \"Acción\", \"Sci-Fi\", \"Documental\", \"Terror\", \"Romance\"]\n",
    "\n",
    "\n",
    "# Get the genders of the middle\n",
    "\n",
    "## get one if len is odd\n",
    "## get two if len is even\n",
    "\n",
    "middle = generos[len(generos) // 2] if len(generos) % 2 == 1 else generos[len(generos) // 2 - 1:len(generos) // 2 + 1]\n",
    "\n",
    "print(f\"{middle}\")\n",
    "\n",
    "# Get the first 3\n",
    "\n",
    "first_three = generos[:3]\n",
    "print(f\"{first_three}\")\n",
    "\n",
    "# Order in reverse\n",
    "\n",
    "print(f\"{generos[::-1]}\")\n"
   ]
  },
  {
   "cell_type": "markdown",
   "id": "f9cc3800",
   "metadata": {},
   "source": [
    "3. Puntajes de usuarios (Listas por comprensión)\n",
    "Tienes una lista de ratings otorgados por un usuario a distintas series:\n",
    "\n",
    "```\n",
    "ratings = [4.5, 3.0, 5.0, 2.5, 4.0, 1.5]\n",
    "```\n",
    "\n",
    "Con listas por comprensión, crea:\n",
    "\n",
    "●\tUna lista con solo los ratings mayores a 3.5\n",
    "\n",
    "●\tUna lista con los ratings convertidos a una escala del 1 al 100\n",
    "\n",
    "●\tUna lista de strings que diga \"Alta\" si rating > 4, \"Media\" si entre 3 y 4, \"Baja\" si menor\n"
   ]
  },
  {
   "cell_type": "code",
   "execution_count": null,
   "id": "be22b7d3",
   "metadata": {},
   "outputs": [
    {
     "name": "stdout",
     "output_type": "stream",
     "text": [
      "Ratings bigger than 3.5: [4.5, 5.0, 4.0]\n",
      "Scaled ratings: [87.625, 50.5, 100.0, 38.125, 75.25, 13.375]\n",
      "Categorical rating: ['Alta', 'Media', 'Alta', 'Baja', 'Baja', 'Baja']\n"
     ]
    }
   ],
   "source": [
    "ratings = [4.5, 3.0, 5.0, 2.5, 4.0, 1.5]\n",
    "\n",
    "# list with ratings bigger that 3.5\n",
    "\n",
    "ratings_bigger_than_3_5 = [rating for rating in ratings if rating > 3.5]\n",
    "print(f\"Ratings bigger than 3.5: {ratings_bigger_than_3_5}\")\n",
    "\n",
    "# list with ratings converted to 1 to 100 scale\n",
    "\n",
    "old_min, old_max = 1, 5      \n",
    "new_min, new_max = 1, 100 \n",
    "\n",
    "# relative position * length of new range + new min (1 in this case to have 1 as minimum)\n",
    "\n",
    "scaled = [((r - old_min) / (old_max - old_min)) * (new_max - new_min) + new_min for r in ratings]\n",
    "\n",
    "print(f\"Scaled ratings: {scaled}\")\n",
    "\n",
    "# List with Aalta, Media and Baja\n",
    "\n",
    "categorical_rating = [\"Alta\" if rating > 4 else \"Media\" if rating >= 3.0 and rating < 4 else \"Baja\" for rating in ratings]\n",
    "print(f\"Categorical rating: {categorical_rating}\")\n",
    "\n"
   ]
  },
  {
   "cell_type": "markdown",
   "id": "5228f250",
   "metadata": {},
   "source": [
    "4. Historial de visualización (Diccionarios)\n",
    "Tienes un diccionario que representa el historial de un usuario:\n",
    "\n",
    "```\n",
    "historial = {\n",
    "  \"Breaking Python\": 3,\n",
    "  \"Machine Love\": 5,\n",
    "  \"Data Science 101\": 2\n",
    "}\n",
    "```\n",
    "\n",
    "Realiza lo siguiente:\n",
    "\n",
    "●\tAumenta en 1 la cantidad de veces que vio \"Data Science 101\"\n",
    "\n",
    "●\tAñade la serie \"AI Rebellion\" con 1 visualización\n",
    "\n",
    "●\tElimina \"Machine Love\" del historial\n",
    "\n",
    "●\tMuestra todas las series que el usuario vio más de 2 veces\n"
   ]
  },
  {
   "cell_type": "code",
   "execution_count": 30,
   "id": "21b8543f",
   "metadata": {},
   "outputs": [
    {
     "name": "stdout",
     "output_type": "stream",
     "text": [
      "Data Science 101: 3 times\n",
      "AI Rebelion: 1 times\n",
      "Machine Love: No data times\n",
      "Most saw series: ['Breaking Python', 'Data Science 101']\n"
     ]
    }
   ],
   "source": [
    "historial = {\n",
    "  \"Breaking Python\": 3,\n",
    "  \"Machine Love\": 5,\n",
    "  \"Data Science 101\": 2\n",
    "}\n",
    "\n",
    "# augment in 1 the times we see Data Science 101\n",
    "\n",
    "historial[\"Data Science 101\"] += 1\n",
    "print(f\"Data Science 101: {historial['Data Science 101']} times\")\n",
    "\n",
    "# add a new serie to the history\n",
    "\n",
    "historial.setdefault(\"AI Rebelion\", 1)\n",
    "print(f\"AI Rebelion: {historial['AI Rebelion']} times\")\n",
    "\n",
    "# remove Machine Love from the history\n",
    "\n",
    "del historial[\"Machine Love\"]\n",
    "print(f\"Machine Love: {historial.get('Machine Love', 'No data')} times\")\n",
    "\n",
    "# Show all the series that the user saw more than 2 times\n",
    "\n",
    "most_saw_series = [serie for serie, times in historial.items() if times > 2]\n",
    "print(f\"Most saw series: {most_saw_series}\")\n",
    "\n"
   ]
  },
  {
   "cell_type": "markdown",
   "id": "25830ba4",
   "metadata": {},
   "source": [
    "5. Usuarios únicos por serie (Sets)\n",
    "Tienes la siguiente información:\n",
    "\n",
    "```\n",
    "usuarios_serie_A = {\"ana\", \"luis\", \"pedro\", \"maria\"}\n",
    "usuarios_serie_B = {\"maria\", \"pedro\", \"carla\", \"lucas\"}\n",
    "```\n",
    "\n",
    "Usando sets:\n",
    "\n",
    "●\tEncuentra qué usuarios vieron ambas series\n",
    "\n",
    "●\tQué usuarios vieron solo la serie A\n",
    "\n",
    "●\tQué usuarios únicos vieron al menos una de las dos\n"
   ]
  },
  {
   "cell_type": "code",
   "execution_count": 38,
   "id": "30e0d593",
   "metadata": {},
   "outputs": [
    {
     "name": "stdout",
     "output_type": "stream",
     "text": [
      "Users that saw both series: {'maria', 'pedro'}\n",
      "Users that only saw A: {'ana', 'luis'}\n",
      "Users that saw at least one of the two series: {'ana', 'luis', 'maria', 'pedro', 'lucas', 'carla'}\n"
     ]
    }
   ],
   "source": [
    "usuarios_serie_A = {\"ana\", \"luis\", \"pedro\", \"maria\"}\n",
    "usuarios_serie_B = {\"maria\", \"pedro\", \"carla\", \"lucas\"}\n",
    "\n",
    "# find users that saw both series\n",
    "\n",
    "both_series = usuarios_serie_A.intersection(usuarios_serie_B) \n",
    "print(f\"Users that saw both series: {both_series}\")\n",
    "\n",
    "# which users only saw A\n",
    "\n",
    "only_A = usuarios_serie_A - usuarios_serie_B\n",
    "print(f\"Users that only saw A: {only_A}\")\n",
    "\n",
    "# which users saw at least one of the two series\n",
    "\n",
    "at_least_one = usuarios_serie_A.union(usuarios_serie_B)\n",
    "print(f\"Users that saw at least one of the two series: {at_least_one}\")\n"
   ]
  },
  {
   "cell_type": "markdown",
   "id": "eb6c5e90",
   "metadata": {},
   "source": [
    "6. Recomendaciones compartidas (Diccionario + Sets)\n",
    "Tienes una estructura con recomendaciones por usuario:\n",
    "\n",
    "```\n",
    "recomendaciones = {\n",
    "  \"ana\": {\"Machine Love\", \"AI Rebellion\"},\n",
    "  \"luis\": {\"AI Rebellion\", \"Debug Wars\"},\n",
    "  \"pedro\": {\"Debug Wars\", \"Machine Love\"}\n",
    "}\n",
    "``` \n",
    "\n",
    "Encuentra con código:\n",
    "\n",
    "●\tLas series que fueron recomendadas a todos\n",
    "\n",
    "●\tLas series recomendadas a al menos dos personas\n",
    "\n",
    "●\tLas series recomendadas solo a una persona\n"
   ]
  },
  {
   "cell_type": "code",
   "execution_count": 64,
   "id": "5f07099f",
   "metadata": {},
   "outputs": [
    {
     "name": "stdout",
     "output_type": "stream",
     "text": [
      "All recommendations: ['AI Rebellion', 'Machine Love', 'Debug Wars', 'AI Rebellion', 'Debug Wars', 'Machine Love']\n",
      "Recommended series to at least two users: {'AI Rebellion', 'Debug Wars', 'Machine Love'}\n",
      "Recommended series to a single user: {'Debug Wars', 'AI Rebellion', 'Machine Love'}\n"
     ]
    }
   ],
   "source": [
    "recomendaciones = {\n",
    "  \"ana\": {\"Machine Love\", \"AI Rebellion\"},\n",
    "  \"luis\": {\"AI Rebellion\", \"Debug Wars\"},\n",
    "  \"pedro\": {\"Debug Wars\", \"Machine Love\"}\n",
    "}\n",
    "\n",
    "# recommended series to all\n",
    "\n",
    "all_recommendations = [item for series in recomendaciones.values() for item in series]\n",
    "\n",
    "print(f\"All recommendations: {all_recommendations}\")\n",
    "\n",
    "# recommended series to at least two users\n",
    "\n",
    "unique_values = set(all_recommendations)\n",
    "\n",
    "## Create a counts dictionary\n",
    "\n",
    "recomendations_count = {item: all_recommendations.count(item) for item in unique_values}\n",
    "\n",
    "## Get the ones that have at least 2 counts\n",
    "\n",
    "recommended_to_two = {item for item, count in recomendations_count.items() if count >= 2}\n",
    "print(f\"Recommended series to at least two users: {recommended_to_two}\")\n",
    "\n",
    "\n",
    "# recommended series to a single user\n",
    "\n",
    "one_user = {item for series in recomendaciones.values() for item in series}\n",
    "print(f\"Recommended series to a single user: {one_user}\")\n"
   ]
  },
  {
   "cell_type": "markdown",
   "id": "cb1439df",
   "metadata": {},
   "source": [
    "7. Transformar ratings (Tuplas + comprensión de diccionario)\n",
    "Tienes una lista de tuplas con (serie, rating):\n",
    "\n",
    "```\n",
    "puntuaciones = [(\"Breaking Python\", 4.0), (\"AI Rebellion\", 5.0), (\"Debug Wars\", 2.0)]\n",
    "```\n",
    "\n",
    "Crea un diccionario en el formato:\n",
    "\n",
    "```\n",
    "{\n",
    "  \"Breaking Python\": \"Buena\",\n",
    "  \"AI Rebellion\": \"Excelente\",\n",
    "  \"Debug Wars\": \"Regular\"\n",
    "}\n",
    "```\n",
    "\n",
    "Regla:\n",
    "\n",
    "●\tRating >= 4.5 → \"Excelente\"\n",
    "\n",
    "●\t3 <= rating < 4.5 → \"Buena\"\n",
    "\n",
    "●\t< 3 → \"Regular\"\n"
   ]
  },
  {
   "cell_type": "code",
   "execution_count": 67,
   "id": "826ae4be",
   "metadata": {},
   "outputs": [
    {
     "name": "stdout",
     "output_type": "stream",
     "text": [
      "Ratings dictionary: {'Breaking Python': 4.0, 'AI Rebellion': 5.0, 'Debug Wars': 2.0}\n",
      "Categorized ratings: {'Breaking Python': 'Media', 'AI Rebellion': 'Alta', 'Debug Wars': 'Baja'}\n"
     ]
    }
   ],
   "source": [
    "puntuaciones = [(\"Breaking Python\", 4.0), (\"AI Rebellion\", 5.0), (\"Debug Wars\", 2.0)]\n",
    "\n",
    "# Dict comprehension\n",
    "\n",
    "puntuaciones_dict = {serie: rating for serie, rating in puntuaciones}\n",
    "print(f\"Ratings dictionary: {puntuaciones_dict}\")\n",
    "\n",
    "# New categorized dict\n",
    "\n",
    "puntuaciones_categorized = {serie: \"Alta\" if rating >= 4.5 else \"Media\" if rating >= 3.0 and rating < 4.5 else \"Baja\" for serie, rating in puntuaciones}\n",
    "print(f\"Categorized ratings: {puntuaciones_categorized}\")\n",
    "\n"
   ]
  },
  {
   "cell_type": "markdown",
   "id": "261a6b0a",
   "metadata": {},
   "source": [
    "8. Usuarios y géneros favoritos (Diccionario + slicing)\n",
    "Cada usuario tiene una lista de sus géneros preferidos (ordenados por preferencia):\n",
    "\n",
    "``` \n",
    "gustos = {\n",
    "  \"ana\": [\"Sci-Fi\", \"Drama\", \"Documental\"],\n",
    "  \"luis\": [\"Comedia\", \"Acción\", \"Sci-Fi\"],\n",
    "  \"pedro\": [\"Drama\", \"Sci-Fi\", \"Romance\"]\n",
    "}\n",
    "```\n",
    "\n",
    "Realiza:\n",
    "\n",
    "●\tUna lista con el primer género favorito de cada usuario\n",
    "\n",
    "●\tUna lista con todos los géneros mencionados sin repeticiones\n",
    "\n",
    "●\t¿Cuál género aparece más veces en la primera posición?\n"
   ]
  },
  {
   "cell_type": "code",
   "execution_count": 90,
   "id": "09055730",
   "metadata": {},
   "outputs": [
    {
     "name": "stdout",
     "output_type": "stream",
     "text": [
      "First user gender list: ['Sci-Fi', 'Comedia', 'Drama']\n",
      "All genders: ['Sci-Fi', 'Documental', 'Romance', 'Comedia', 'Acción', 'Drama']\n",
      "All appears one time: {'Sci-Fi': 1, 'Drama': 1, 'Comedia': 1}\n"
     ]
    }
   ],
   "source": [
    "gustos = {\n",
    "  \"ana\": [\"Sci-Fi\", \"Drama\", \"Documental\"],\n",
    "  \"luis\": [\"Comedia\", \"Acción\", \"Sci-Fi\"],\n",
    "  \"pedro\": [\"Drama\", \"Sci-Fi\", \"Romance\"]\n",
    "}\n",
    "\n",
    "# A list with the first gender for each user\n",
    "\n",
    "first_gender_list = [gustos[user][0] for user in gustos]\n",
    "print(f\"First user gender list: {first_gender_list}\")\n",
    "\n",
    "\n",
    "# A list with all the mentioned genders\n",
    "\n",
    "all_genders = list(values for key, values in gustos.items())\n",
    "\n",
    "## A trick from itertools \n",
    "\n",
    "from itertools import chain\n",
    "\n",
    "all_genders_unnested = list(set(list(chain.from_iterable(all_genders))))\n",
    "print(f\"All genders: {all_genders_unnested}\")\n",
    "\n",
    "# Which gender appears the most on the first position\n",
    "\n",
    "unique_values = set(first_gender_list)\n",
    "\n",
    "count_dict =  {item: first_gender_list.count(item) for item in unique_values}\n",
    "\n",
    "print(f\"All appears one time: {count_dict}\")\n",
    "\n"
   ]
  },
  {
   "cell_type": "markdown",
   "id": "a30590e0",
   "metadata": {},
   "source": [
    "9. Resumen de votos por serie (Diccionario + listas)\n",
    "Tienes una lista de votos como pares (serie, puntaje):\n",
    "\n",
    "```\n",
    "votos = [(\"Breaking Python\", 5), (\"AI Rebellion\", 4), (\"Breaking Python\", 4), (\"Debug Wars\", 3), (\"AI Rebellion\", 5)]\n",
    "```\n",
    "\n",
    "Crea un diccionario donde la clave sea la serie y el valor una lista con todos sus votos. Ejemplo:\n",
    "{\n",
    "  \"Breaking Python\": [5, 4],\n",
    "  ...\n",
    "}\n",
    "\n",
    "Luego, calcula el promedio de rating de cada serie.\n"
   ]
  },
  {
   "cell_type": "code",
   "execution_count": 92,
   "id": "b190cb38",
   "metadata": {},
   "outputs": [
    {
     "name": "stdout",
     "output_type": "stream",
     "text": [
      "Average ratings: {'Breaking Python': 4.5, 'AI Rebellion': 4.5, 'Debug Wars': 3.0}\n"
     ]
    }
   ],
   "source": [
    "votos = [(\"Breaking Python\", 5), (\"AI Rebellion\", 4), (\"Breaking Python\", 4), (\"Debug Wars\", 3), (\"AI Rebellion\", 5)]\n",
    "\n",
    "# Create a dictionary with the average rating for each series\n",
    "from collections import defaultdict\n",
    "\n",
    "ratings_dict = defaultdict(list)\n",
    "for serie, rating in votos:\n",
    "    ratings_dict[serie].append(rating)\n",
    "\n",
    "    \n",
    "average_ratings = {\n",
    "    serie: sum(ratings) / len(ratings) \n",
    "    for serie, ratings in ratings_dict.items()\n",
    "}\n",
    "\n",
    "print(f\"Average ratings: {average_ratings}\")"
   ]
  },
  {
   "cell_type": "markdown",
   "id": "4cedb836",
   "metadata": {},
   "source": [
    "10. Motor básico de recomendaciones (Integrador)\n",
    "Define una función recomendar_series(usuario, historial, catalogo) que:\n",
    "\n",
    "●\tReciba el nombre de usuario, su historial en forma de diccionario {serie: vistas} y un catálogo con todas las series disponibles.\n",
    "\n",
    "●\tDevuelva una lista de series del catálogo que no haya visto aún.\n",
    "\n",
    "Ejemplo:\n",
    "\n",
    "```\n",
    "usuario = \"ana\"\n",
    "historial = {\"AI Rebellion\": 3, \"Debug Wars\": 1}\n",
    "catalogo = [\"AI Rebellion\", \"Debug Wars\", \"Machine Love\", \"Data Science 101\"]\n",
    "```\n",
    "\n",
    "Resultado:\n",
    "[\"Machine Love\", \"Data Science 101\"]\n"
   ]
  },
  {
   "cell_type": "code",
   "execution_count": 93,
   "id": "ff6035d2",
   "metadata": {},
   "outputs": [
    {
     "name": "stdout",
     "output_type": "stream",
     "text": [
      "ana has not seen: Data Science 101, Machine Love\n"
     ]
    }
   ],
   "source": [
    "usuario = \"ana\"\n",
    "historial = {\"AI Rebellion\": 3, \"Debug Wars\": 1}\n",
    "catalogo = [\"AI Rebellion\", \"Debug Wars\", \"Machine Love\", \"Data Science 101\"]\n",
    "\n",
    "\n",
    "# Check if the user has seen all the series in the catalog\n",
    "\n",
    "def recomedar_series(usuario, historial, catalogo):\n",
    "    \n",
    "    user_seen = set(historial.keys())\n",
    "    catalogo_set = set(catalogo)\n",
    "\n",
    "    not_seen = catalogo_set - user_seen\n",
    "\n",
    "    if not_seen:\n",
    "        print(f\"{usuario} has not seen: {', '.join(not_seen)}\")\n",
    "    else:\n",
    "        print(f\"{usuario} has seen all the series in the catalog\")\n",
    "\n",
    "recomedar_series(usuario, historial, catalogo)"
   ]
  }
 ],
 "metadata": {
  "kernelspec": {
   "display_name": "piero",
   "language": "python",
   "name": "python3"
  },
  "language_info": {
   "codemirror_mode": {
    "name": "ipython",
    "version": 3
   },
   "file_extension": ".py",
   "mimetype": "text/x-python",
   "name": "python",
   "nbconvert_exporter": "python",
   "pygments_lexer": "ipython3",
   "version": "3.10.14"
  }
 },
 "nbformat": 4,
 "nbformat_minor": 5
}
