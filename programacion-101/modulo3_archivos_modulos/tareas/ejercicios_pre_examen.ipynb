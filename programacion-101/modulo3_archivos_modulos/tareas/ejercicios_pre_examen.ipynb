{
  "nbformat": 4,
  "nbformat_minor": 0,
  "metadata": {
    "colab": {
      "provenance": [],
      "include_colab_link": true
    },
    "kernelspec": {
      "name": "python3",
      "display_name": "Python 3"
    },
    "language_info": {
      "name": "python"
    }
  },
  "cells": [
    {
      "cell_type": "markdown",
      "metadata": {
        "id": "view-in-github",
        "colab_type": "text"
      },
      "source": [
        "<a href=\"https://colab.research.google.com/github/pipaber/Python-Programming101/blob/main/programacion-101/modulo3_archivos_modulos/tareas/ejercicios_pre_examen.ipynb\" target=\"_parent\"><img src=\"https://colab.research.google.com/assets/colab-badge.svg\" alt=\"Open In Colab\"/></a>"
      ]
    },
    {
      "cell_type": "markdown",
      "source": [
        "#**Ejercicios - Funciones y Clases**"
      ],
      "metadata": {
        "id": "rD7lP48iAvnR"
      }
    },
    {
      "cell_type": "code",
      "source": [
        "# --------------------------------------------\n",
        "# Ejercicio 1: Registro de astronautas\n",
        "# --------------------------------------------\n",
        "# Crea una función que registre astronautas con nombre, edad y especialidad.\n",
        "# Luego, almacena 3 astronautas y devuelve una lista con aquellos cuya\n",
        "# especialidad sea exactamente \"Ingeniero de vuelo\" (case-sensitive).\n",
        "\n",
        "from collections import defaultdict\n",
        "\n",
        "data = defaultdict(list)\n",
        "\n",
        "def registrar_astronauta(nombre: str, edad: int, especialidad: str, data: defaultdict) -> str:\n",
        "\n",
        "    data[nombre].append(edad)\n",
        "    data[nombre].append(especialidad)\n",
        "\n",
        "    print(f\"Astronauta registrado: {nombre} - {edad} años - Especialidad: {especialidad}\")\n",
        "\n",
        "# Tu código aquí para crear lista y filtrar\n",
        "\n",
        "\n",
        "registrar_astronauta(\"Piero\", 30, \"Biologia\", data)\n",
        "registrar_astronauta(\"Juan\", 33, \"Fisico\", data)\n",
        "registrar_astronauta(\"Jesus\", 38, \"Ingeniero de vuelo\", data)\n",
        "registrar_astronauta(\"Lamine\", 40, \"Ingeniero de vuelo\", data)\n",
        "\n",
        "\n",
        "# Filter Ingeniero de Vuelo\n",
        "\n",
        "print([k for k,v in data.items() if v[1].lower() == \"ingeniero de vuelo\"])\n"
      ],
      "metadata": {
        "id": "UAIGVucPAEdr",
        "colab": {
          "base_uri": "https://localhost:8080/"
        },
        "outputId": "d408047d-3d80-4bef-eddd-a7e6084bf652"
      },
      "execution_count": 35,
      "outputs": [
        {
          "output_type": "stream",
          "name": "stdout",
          "text": [
            "Astronauta registrado: Piero - 30 años - Especialidad: Biologia\n",
            "Astronauta registrado: Juan - 33 años - Especialidad: Fisico\n",
            "Astronauta registrado: Jesus - 38 años - Especialidad: Ingeniero de vuelo\n",
            "Astronauta registrado: Lamine - 40 años - Especialidad: Ingeniero de vuelo\n",
            "['Jesus', 'Lamine']\n"
          ]
        }
      ]
    },
    {
      "cell_type": "code",
      "source": [
        "# --------------------------------------------\n",
        "# Ejercicio 2: Códigos de lanzamiento\n",
        "# --------------------------------------------\n",
        "# Dado un string como \"A23B56C90\", extrae los números y retorna\n",
        "# el promedio de los números pares. Usa slicing y comprensión de listas.\n",
        "\n",
        "import string\n",
        "\n",
        "\n",
        "\n",
        "def procesar_codigo(codigo: str) -> float:\n",
        "\n",
        "    numbers = [int(i) for i in codigo if i in string.digits and int(i) % 2 == 0]\n",
        "    print(numbers)\n",
        "    return sum(numbers)/len(numbers)\n",
        "\n",
        "\n",
        "\n",
        "procesar_codigo(\"A23B56C90\")\n"
      ],
      "metadata": {
        "id": "iMZC8QQA-svk",
        "colab": {
          "base_uri": "https://localhost:8080/"
        },
        "outputId": "bb72c44e-0642-4282-8c8f-f090ce625b90"
      },
      "execution_count": 45,
      "outputs": [
        {
          "output_type": "stream",
          "name": "stdout",
          "text": [
            "[2, 6, 0]\n"
          ]
        },
        {
          "output_type": "execute_result",
          "data": {
            "text/plain": [
              "2.6666666666666665"
            ]
          },
          "metadata": {},
          "execution_count": 45
        }
      ]
    },
    {
      "cell_type": "code",
      "source": [
        "# --------------------------------------------\n",
        "# Ejercicio 3: Mapeo de módulos de la nave\n",
        "# --------------------------------------------\n",
        "# Dado un diccionario con estados de módulos (\"activo\"/\"inactivo\"),\n",
        "# devuelve un set con los módulos activos.\n",
        "# Usa assert y lanza RuntimeError si todos están inactivos.\n",
        "\n",
        "def modulos_activos(sistema: dict[str, str]) -> set[str]:\n",
        "\n",
        "    assert len(sistema) > 0, \"El diccionario está vacío\"\n",
        "\n",
        "    inactivos = {k for k,v in sistema.items() if v.lower() == \"inactivo\"}\n",
        "    activos = {k for k,v in sistema.items() if v.lower() == \"activo\"}\n",
        "\n",
        "    if len(inactivos) == len(sistema):\n",
        "        raise RuntimeError(\"Todos los módulos están inactivos\")\n",
        "\n",
        "    return activos\n",
        "\n"
      ],
      "metadata": {
        "id": "0uZX9eqmAQuZ"
      },
      "execution_count": 53,
      "outputs": []
    },
    {
      "cell_type": "code",
      "source": [
        "sistema = {\"Módulo 1\": \"activo\", \"Módulo 2\": \"inactivo\", \"Módulo 3\": \"activo\"}\n",
        "modulos_activos(sistema)"
      ],
      "metadata": {
        "id": "RZMFMr5uARNq",
        "colab": {
          "base_uri": "https://localhost:8080/"
        },
        "outputId": "97e2ca5d-e50b-4b48-eaf1-8764f2d3793c"
      },
      "execution_count": 56,
      "outputs": [
        {
          "output_type": "execute_result",
          "data": {
            "text/plain": [
              "{'Módulo 1', 'Módulo 3'}"
            ]
          },
          "metadata": {},
          "execution_count": 56
        }
      ]
    },
    {
      "cell_type": "code",
      "source": [
        "# --------------------------------------------\n",
        "# Ejercicio 4: Simulación de batería\n",
        "# --------------------------------------------\n",
        "# Crea una clase BateriaSolar con atributos y métodos para cargar y consumir batería.\n",
        "# Simula la operación y devuelve el nivel antes y después.\n",
        "\n",
        "class BateriaSolar:\n",
        "    def __init__(self, nivel: float):\n",
        "        self.nivel = max(0, min(nivel, 100))\n",
        "\n",
        "    def cargar(self, horas: float, tasa: float = 0.10):\n",
        "        self.nivel += horas * 100 * tasa\n",
        "        self.nivel = min(self.nivel, 100)\n",
        "\n",
        "    def consumir(self, uso: float):\n",
        "        self.nivel -= uso\n",
        "        self.nivel = max(self.nivel, 0)\n",
        "\n",
        "    def simular(self, horas: float, uso: float) -> tuple[float, float]:\n",
        "        antes = self.nivel\n",
        "        self.cargar(horas)\n",
        "        self.consumir(uso)\n",
        "        return (antes, self.nivel)\n",
        "\n",
        "# Prueba tu clase aquí\n",
        "\n",
        "\n",
        "bateria = BateriaSolar(nivel=40.0)\n",
        "\n",
        "print(bateria.simular(horas=2.0, uso=5.0))"
      ],
      "metadata": {
        "id": "sY91STxWARqu",
        "colab": {
          "base_uri": "https://localhost:8080/"
        },
        "outputId": "16921792-692d-4a87-e057-a44e90930bf9"
      },
      "execution_count": 72,
      "outputs": [
        {
          "output_type": "stream",
          "name": "stdout",
          "text": [
            "(40.0, 55.0)\n"
          ]
        }
      ]
    },
    {
      "cell_type": "code",
      "source": [],
      "metadata": {
        "id": "zicrDM7ddsP4"
      },
      "execution_count": null,
      "outputs": []
    },
    {
      "cell_type": "code",
      "source": [
        "# --------------------------------------------\n",
        "# Ejercicio 5: Matriz de sensores\n",
        "# --------------------------------------------\n",
        "# Crea una clase SensorMatriz con métodos para calcular el promedio\n",
        "# de temperaturas y retornar las coordenadas donde hay alertas > 70.\n",
        "\n",
        "class SensorMatriz:\n",
        "    def __init__(self, matriz: list[list[float]]):\n",
        "        self.matriz = matriz\n",
        "\n",
        "    def promedio(self) -> float:\n",
        "        total = sum(sum(fila) for fila in self.matriz)\n",
        "        count = sum(len(fila) for fila in self.matriz)\n",
        "        return total / count\n",
        "\n",
        "    def alertas(self, umbral: float = 70.0) -> list[tuple[int, int]]:\n",
        "        return [(i, j)\n",
        "                for i in range(len(self.matriz))\n",
        "                for j in range(len(self.matriz[0]))\n",
        "                if self.matriz[i][j] > umbral]\n",
        "\n",
        "# Prueba aquí con una matriz 3x3\n"
      ],
      "metadata": {
        "id": "QVMRouR8AZZA"
      },
      "execution_count": 75,
      "outputs": []
    },
    {
      "cell_type": "code",
      "source": [
        "matriz = [[20,75,90],\n",
        "          [1,56,87],\n",
        "          [5,45,67]]\n",
        "\n",
        "matriz_sens = SensorMatriz(matriz=matriz)\n",
        "\n",
        "print(matriz_sens.alertas())\n",
        "print(matriz_sens.promedio())"
      ],
      "metadata": {
        "id": "0x4iX5a1AZ9Y",
        "colab": {
          "base_uri": "https://localhost:8080/"
        },
        "outputId": "4256e5b1-6aff-4f6a-c872-81bc6b0b2fd8"
      },
      "execution_count": 78,
      "outputs": [
        {
          "output_type": "stream",
          "name": "stdout",
          "text": [
            "[(0, 1), (0, 2), (1, 2)]\n",
            "49.55555555555556\n"
          ]
        }
      ]
    },
    {
      "cell_type": "code",
      "source": [
        "# --------------------------------------------\n",
        "# Ejercicio 6: Bitácora de vuelo\n",
        "# --------------------------------------------\n",
        "# Escribe mensajes con fecha en un archivo de bitácora. Si hay error, loguea en otro archivo.\n",
        "\n",
        "from datetime import datetime\n",
        "\n",
        "def escribir_bitacora(mensaje: str) -> None:\n",
        "    timestamp = datetime.now().strftime('%Y-%m-%d %H:%M')\n",
        "    try:\n",
        "        with open(\"bitacora.txt\", \"a\") as f:\n",
        "            f.write(f\"{timestamp} - {mensaje}\\n\")\n",
        "    except:\n",
        "        with open(\"bitacora_error.log\", \"a\") as f:\n",
        "            f.write(f\"{timestamp} - ERROR DE ESCRITURA\\n\")\n",
        "\n",
        "# Prueba aquí\n"
      ],
      "metadata": {
        "id": "cc5y7rhtAaNn"
      },
      "execution_count": null,
      "outputs": []
    },
    {
      "cell_type": "code",
      "source": [],
      "metadata": {
        "id": "XbnDU4pIAcbn"
      },
      "execution_count": null,
      "outputs": []
    },
    {
      "cell_type": "code",
      "source": [
        "# --------------------------------------------\n",
        "# Ejercicio 7: Módulo de comunicación\n",
        "# --------------------------------------------\n",
        "# Crea una clase que simule un canal de comunicación con validación de conexión\n",
        "# y bloqueo por palabras clave.\n",
        "\n",
        "class ModuloComunicacion:\n",
        "    def __init__(self):\n",
        "        self.conectado = False\n",
        "\n",
        "    def conectar(self):\n",
        "        self.conectado = True\n",
        "\n",
        "    def desconectar(self):\n",
        "        self.conectado = False\n",
        "\n",
        "    def enviar_mensaje(self, msg: str) -> str:\n",
        "        if not self.conectado:\n",
        "            raise ConnectionError(\"Sin enlace\")\n",
        "\n",
        "        prohibidas = {\"error\", \"falla\", \"crítico\"}\n",
        "        count = sum(1 for palabra in prohibidas if palabra in msg.lower())\n",
        "        if count >= 3:\n",
        "            return \"Mensaje bloqueado\"\n",
        "        return \"Mensaje enviado\"\n",
        "\n",
        "# Prueba tu clase aquí\n",
        "\n",
        "com = ModuloComunicacion()\n",
        "com.conectar()\n",
        "com.enviar_mensaje(\"Holi\")\n"
      ],
      "metadata": {
        "id": "GrI0sNWwAcwZ",
        "colab": {
          "base_uri": "https://localhost:8080/",
          "height": 35
        },
        "outputId": "0f88c174-247b-4154-df15-dc7d84c1089e"
      },
      "execution_count": 84,
      "outputs": [
        {
          "output_type": "execute_result",
          "data": {
            "text/plain": [
              "'Mensaje enviado'"
            ],
            "application/vnd.google.colaboratory.intrinsic+json": {
              "type": "string"
            }
          },
          "metadata": {},
          "execution_count": 84
        }
      ]
    },
    {
      "cell_type": "code",
      "source": [],
      "metadata": {
        "id": "dC5IaFNzAelD"
      },
      "execution_count": null,
      "outputs": []
    },
    {
      "cell_type": "code",
      "source": [
        "# --------------------------------------------\n",
        "# Ejercicio 8: Carga útil de la nave\n",
        "# --------------------------------------------\n",
        "# Filtra cargas cuyo peso sea menor a 130 y devuelve la lista y el total.\n",
        "\n",
        "def filtrar_carga(cargas: list[tuple[str, int]], limite: int = 130) -> tuple[list[tuple[str,int]], int]:\n",
        "    filtradas = [c for c in cargas if c[1] < limite]\n",
        "    total = sum(c[1] for c in filtradas)\n",
        "    return filtradas, total\n",
        "\n",
        "# Prueba con ejemplo\n"
      ],
      "metadata": {
        "id": "EAJSHjKiAe-A"
      },
      "execution_count": null,
      "outputs": []
    },
    {
      "cell_type": "code",
      "source": [],
      "metadata": {
        "id": "mFLqd88FAhXh"
      },
      "execution_count": null,
      "outputs": []
    },
    {
      "cell_type": "code",
      "source": [
        "# --------------------------------------------\n",
        "# Ejercicio 9: Monitor de fallas\n",
        "# --------------------------------------------\n",
        "# Recibe un diccionario con niveles de falla. Lanza excepción si alguno > 90\n",
        "# y devuelve módulos \"seguros\" (nivel < 70).\n",
        "\n",
        "def verificar_modulos(fallas: dict[str, int]) -> list[str]:\n",
        "    for modulo, nivel in fallas.items():\n",
        "        if nivel > 90:\n",
        "            raise ValueError(f\"Falla crítica en {modulo}\")\n",
        "    return [m for m, n in fallas.items() if n < 70]\n",
        "\n",
        "# Prueba aquí\n"
      ],
      "metadata": {
        "id": "4PiPTFGiAhoX"
      },
      "execution_count": null,
      "outputs": []
    },
    {
      "cell_type": "code",
      "source": [],
      "metadata": {
        "id": "DuKkbbIxAj3L"
      },
      "execution_count": null,
      "outputs": []
    },
    {
      "cell_type": "code",
      "source": [
        "# --------------------------------------------\n",
        "# Ejercicio 10: Nave espacial (módulos y paquetes)\n",
        "# --------------------------------------------\n",
        "# Crea un archivo llamado nave.py con la siguiente clase:\n",
        "\n",
        "# En nave.py\n",
        "# --------------------------\n",
        "# class NaveEspacial:\n",
        "#     def __init__(self, nombre, combustible, tripulacion):\n",
        "#         self.nombre = nombre\n",
        "#         self.combustible = combustible\n",
        "#         self.tripulacion = tripulacion\n",
        "#\n",
        "#     def despegar(self):\n",
        "#         return \"Despegue exitoso\" if self.combustible > 50 else \"Combustible insuficiente\"\n",
        "# --------------------------\n",
        "\n",
        "# En tu notebook o script principal:\n",
        "from nave import NaveEspacial\n",
        "\n",
        "nave = NaveEspacial(\"Odisea\", 75, [\"Alice\", \"Bob\"])\n",
        "print(nave.despegar())\n"
      ],
      "metadata": {
        "id": "hcYcB7fpAkFr"
      },
      "execution_count": null,
      "outputs": []
    },
    {
      "cell_type": "code",
      "source": [],
      "metadata": {
        "id": "EYk5WNAMAmGK"
      },
      "execution_count": null,
      "outputs": []
    },
    {
      "cell_type": "markdown",
      "source": [
        "#Gracias por completar este laboratorio!"
      ],
      "metadata": {
        "id": "e9C9Bv6aArcZ"
      }
    }
  ]
}