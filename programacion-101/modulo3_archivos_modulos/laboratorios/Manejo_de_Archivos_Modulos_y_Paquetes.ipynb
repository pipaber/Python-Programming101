{
  "nbformat": 4,
  "nbformat_minor": 0,
  "metadata": {
    "colab": {
      "provenance": [],
      "include_colab_link": true
    },
    "kernelspec": {
      "name": "python3",
      "display_name": "Python 3"
    },
    "language_info": {
      "name": "python"
    }
  },
  "cells": [
    {
      "cell_type": "markdown",
      "metadata": {
        "id": "view-in-github",
        "colab_type": "text"
      },
      "source": [
        "<a href=\"https://colab.research.google.com/github/pipaber/Python-Programming101/blob/main/programacion-101/modulo3_archivos_modulos/laboratorios/Manejo_de_Archivos_Modulos_y_Paquetes.ipynb\" target=\"_parent\"><img src=\"https://colab.research.google.com/assets/colab-badge.svg\" alt=\"Open In Colab\"/></a>"
      ]
    },
    {
      "cell_type": "markdown",
      "source": [
        "<img src=\"https://posgrado.utec.edu.pe/sites/default/files/2023-08/Testimonial-home-2.jpg\" alt=\"HTML5 Icon\" width=\"900\" height=\"250\" >\n"
      ],
      "metadata": {
        "id": "VpH7sAoVTmos"
      }
    },
    {
      "cell_type": "markdown",
      "source": [
        "# **Funciones y Clases**"
      ],
      "metadata": {
        "id": "Y7FbnZbKTpRn"
      }
    },
    {
      "cell_type": "markdown",
      "source": [
        "**Objetivo**\n",
        "\n",
        "Consolidar los conocimientos sobre funciones y clases en Python, mediante el desarrollo de teoría, ejemplos guiados y ejercicios retadores. Al finalizar, serás capaz de:\n",
        "\n",
        "1. Comprender qué son las funciones, cómo se definen y cómo se utilizan.\n",
        "2. Usar distintos tipos de argumentos (posicionales, por nombre, arbitrarios).\n",
        "3. Retornar valores simples o compuestos desde una función.\n",
        "4. Aplicar funciones sobre listas y modularizar código en módulos.\n",
        "5. Documentar y estructurar funciones siguiendo buenas prácticas de estilo.\n",
        "6. Crear clases, instanciar objetos, y trabajar con atributos y métodos.\n",
        "7. Aplicar principios de herencia y reutilización de código en clases.\n",
        "8. Utilizar la biblioteca estándar de Python y organizar clases en módulos."
      ],
      "metadata": {
        "id": "34pdCtM-T-QQ"
      }
    },
    {
      "cell_type": "markdown",
      "source": [
        "# Funciones"
      ],
      "metadata": {
        "id": "aLMAo_QGWh_5"
      }
    },
    {
      "cell_type": "markdown",
      "source": [
        "## 1. Defining a Function"
      ],
      "metadata": {
        "id": "u5oSkRxxTwLx"
      }
    },
    {
      "cell_type": "markdown",
      "source": [
        "- Las funciones encapsulan código reutilizable.\n",
        "- Se definen usando 'def' seguido de un nombre y paréntesis.\n",
        "- El cuerpo debe estar indentado."
      ],
      "metadata": {
        "id": "rMx8aaViUPkk"
      }
    },
    {
      "cell_type": "markdown",
      "source": [
        "**Ejemplo:**\n"
      ],
      "metadata": {
        "id": "dHTMVPmOUSIV"
      }
    },
    {
      "cell_type": "code",
      "execution_count": 2,
      "metadata": {
        "id": "ONvTKb-GThia",
        "colab": {
          "base_uri": "https://localhost:8080/"
        },
        "outputId": "49f5794a-80e5-41ad-801c-0e1f35cd6aef"
      },
      "outputs": [
        {
          "output_type": "stream",
          "name": "stdout",
          "text": [
            "Bienvenido al laboratorio de funciones.\n"
          ]
        }
      ],
      "source": [
        "def saludar():\n",
        "    print(\"Bienvenido al laboratorio de funciones.\")\n",
        "\n",
        "saludar()\n"
      ]
    },
    {
      "cell_type": "markdown",
      "source": [
        "**Ejercicios:**\n",
        "\n",
        "1. Crea una función 'mostrar_menu()' que imprima un menú con 3 opciones.\n",
        "\n",
        "2. Define una función 'mensaje_diario()' que imprima una frase aleatoria de motivación.\n",
        "\n",
        "3. Crea una función 'borde_decorativo()' que imprima una cadena rodeada de asteriscos."
      ],
      "metadata": {
        "id": "JIvRAXycUX7u"
      }
    },
    {
      "cell_type": "code",
      "source": [],
      "metadata": {
        "id": "M6EZHQLLUl0t"
      },
      "execution_count": null,
      "outputs": []
    },
    {
      "cell_type": "markdown",
      "source": [
        "## 2. Passing Arguments"
      ],
      "metadata": {
        "id": "wMZPUnXIUljj"
      }
    },
    {
      "cell_type": "markdown",
      "source": [
        "- Puedes pasar información a las funciones mediante parámetros.\n",
        "- Argumentos posicionales: el orden importa.\n",
        "- Argumentos por nombre (keyword arguments): más claros y seguros."
      ],
      "metadata": {
        "id": "gqKGi2gtUp_O"
      }
    },
    {
      "cell_type": "markdown",
      "source": [
        "**Ejemplo:**"
      ],
      "metadata": {
        "id": "gJ9SfvF8Ur7M"
      }
    },
    {
      "cell_type": "code",
      "source": [
        "def presentar(nombre, edad):\n",
        "    print(f\"Hola, soy {nombre} y tengo {edad} años.\")"
      ],
      "metadata": {
        "id": "L6a58TgAUtFJ"
      },
      "execution_count": null,
      "outputs": []
    },
    {
      "cell_type": "markdown",
      "source": [
        "**Ejercicios:**\n",
        "\n",
        "1. Define 'calcular_impuesto(monto, tasa)' que retorne el impuesto total.\n",
        "\n",
        "2. Crea 'evaluar_puntaje(nombre, puntaje)' que imprima si aprueba (>=12) o no.\n",
        "\n",
        "3. Escribe 'detallar_producto(nombre, precio, stock)' que imprima un resumen."
      ],
      "metadata": {
        "id": "vyHEcaizVBi7"
      }
    },
    {
      "cell_type": "code",
      "source": [
        "def calcular_impuesto(monto:float, tasa:float) -> float:\n",
        "    return monto * tasa/100\n",
        "\n",
        "def evaluar_puntaje(nombre:str, puntaje:int):\n",
        "    if puntaje >= 12:\n",
        "        print(f\"{nombre} aprobó\")\n",
        "    else:\n",
        "        print(f\"{nombre} reprobó\")\n",
        "\n",
        "def detallar_producto(nombre:str, precio:float, stock:int):\n",
        "    print(f\"Nombre: {nombre}\")\n",
        "    print(f\"Precio: {precio}\")\n",
        "    print(f\"Stock: {stock}\")"
      ],
      "metadata": {
        "id": "vlOv7cpSVOCO",
        "colab": {
          "base_uri": "https://localhost:8080/",
          "height": 356
        },
        "outputId": "b4a0da47-fdee-4758-93af-dfb13fbf3f0a"
      },
      "execution_count": 25,
      "outputs": [
        {
          "output_type": "error",
          "ename": "TypeError",
          "evalue": "<module '__main__'> is a built-in module",
          "traceback": [
            "\u001b[0;31m---------------------------------------------------------------------------\u001b[0m",
            "\u001b[0;31mTypeError\u001b[0m                                 Traceback (most recent call last)",
            "\u001b[0;32m<ipython-input-25-0149ed25412e>\u001b[0m in \u001b[0;36m<cell line: 0>\u001b[0;34m()\u001b[0m\n\u001b[1;32m      1\u001b[0m \u001b[0;32mfrom\u001b[0m \u001b[0mtypeguard\u001b[0m \u001b[0;32mimport\u001b[0m \u001b[0mtypechecked\u001b[0m\u001b[0;34m\u001b[0m\u001b[0;34m\u001b[0m\u001b[0m\n\u001b[1;32m      2\u001b[0m \u001b[0;34m\u001b[0m\u001b[0m\n\u001b[0;32m----> 3\u001b[0;31m \u001b[0;34m@\u001b[0m\u001b[0mtypechecked\u001b[0m\u001b[0;34m\u001b[0m\u001b[0;34m\u001b[0m\u001b[0m\n\u001b[0m\u001b[1;32m      4\u001b[0m \u001b[0;32mdef\u001b[0m \u001b[0mcalcular_impuesto\u001b[0m\u001b[0;34m(\u001b[0m\u001b[0mmonto\u001b[0m\u001b[0;34m:\u001b[0m\u001b[0mfloat\u001b[0m\u001b[0;34m,\u001b[0m \u001b[0mtasa\u001b[0m\u001b[0;34m:\u001b[0m\u001b[0mfloat\u001b[0m\u001b[0;34m)\u001b[0m \u001b[0;34m->\u001b[0m \u001b[0mfloat\u001b[0m\u001b[0;34m:\u001b[0m\u001b[0;34m\u001b[0m\u001b[0;34m\u001b[0m\u001b[0m\n\u001b[1;32m      5\u001b[0m     \u001b[0;32mreturn\u001b[0m \u001b[0mmonto\u001b[0m \u001b[0;34m*\u001b[0m \u001b[0mtasa\u001b[0m\u001b[0;34m/\u001b[0m\u001b[0;36m100\u001b[0m\u001b[0;34m\u001b[0m\u001b[0;34m\u001b[0m\u001b[0m\n",
            "\u001b[0;32m/usr/local/lib/python3.11/dist-packages/typeguard/_decorators.py\u001b[0m in \u001b[0;36mtypechecked\u001b[0;34m(target, forward_ref_policy, typecheck_fail_callback, collection_check_strategy, debug_instrumentation)\u001b[0m\n\u001b[1;32m    222\u001b[0m         \u001b[0mtarget\u001b[0m \u001b[0;34m=\u001b[0m \u001b[0mtarget\u001b[0m\u001b[0;34m.\u001b[0m\u001b[0m__func__\u001b[0m  \u001b[0;31m# type: ignore[assignment]\u001b[0m\u001b[0;34m\u001b[0m\u001b[0;34m\u001b[0m\u001b[0m\n\u001b[1;32m    223\u001b[0m \u001b[0;34m\u001b[0m\u001b[0m\n\u001b[0;32m--> 224\u001b[0;31m     \u001b[0mretval\u001b[0m \u001b[0;34m=\u001b[0m \u001b[0minstrument\u001b[0m\u001b[0;34m(\u001b[0m\u001b[0mtarget\u001b[0m\u001b[0;34m)\u001b[0m\u001b[0;34m\u001b[0m\u001b[0;34m\u001b[0m\u001b[0m\n\u001b[0m\u001b[1;32m    225\u001b[0m     \u001b[0;32mif\u001b[0m \u001b[0misinstance\u001b[0m\u001b[0;34m(\u001b[0m\u001b[0mretval\u001b[0m\u001b[0;34m,\u001b[0m \u001b[0mstr\u001b[0m\u001b[0;34m)\u001b[0m\u001b[0;34m:\u001b[0m\u001b[0;34m\u001b[0m\u001b[0;34m\u001b[0m\u001b[0m\n\u001b[1;32m    226\u001b[0m         warn(\n",
            "\u001b[0;32m/usr/local/lib/python3.11/dist-packages/typeguard/_decorators.py\u001b[0m in \u001b[0;36minstrument\u001b[0;34m(f)\u001b[0m\n\u001b[1;32m     67\u001b[0m \u001b[0;34m\u001b[0m\u001b[0m\n\u001b[1;32m     68\u001b[0m     \u001b[0mtarget_path\u001b[0m \u001b[0;34m=\u001b[0m \u001b[0;34m[\u001b[0m\u001b[0mitem\u001b[0m \u001b[0;32mfor\u001b[0m \u001b[0mitem\u001b[0m \u001b[0;32min\u001b[0m \u001b[0mf\u001b[0m\u001b[0;34m.\u001b[0m\u001b[0m__qualname__\u001b[0m\u001b[0;34m.\u001b[0m\u001b[0msplit\u001b[0m\u001b[0;34m(\u001b[0m\u001b[0;34m\".\"\u001b[0m\u001b[0;34m)\u001b[0m \u001b[0;32mif\u001b[0m \u001b[0mitem\u001b[0m \u001b[0;34m!=\u001b[0m \u001b[0;34m\"<locals>\"\u001b[0m\u001b[0;34m]\u001b[0m\u001b[0;34m\u001b[0m\u001b[0;34m\u001b[0m\u001b[0m\n\u001b[0;32m---> 69\u001b[0;31m     \u001b[0mmodule_source\u001b[0m \u001b[0;34m=\u001b[0m \u001b[0minspect\u001b[0m\u001b[0;34m.\u001b[0m\u001b[0mgetsource\u001b[0m\u001b[0;34m(\u001b[0m\u001b[0msys\u001b[0m\u001b[0;34m.\u001b[0m\u001b[0mmodules\u001b[0m\u001b[0;34m[\u001b[0m\u001b[0mf\u001b[0m\u001b[0;34m.\u001b[0m\u001b[0m__module__\u001b[0m\u001b[0;34m]\u001b[0m\u001b[0;34m)\u001b[0m\u001b[0;34m\u001b[0m\u001b[0;34m\u001b[0m\u001b[0m\n\u001b[0m\u001b[1;32m     70\u001b[0m     \u001b[0mmodule_ast\u001b[0m \u001b[0;34m=\u001b[0m \u001b[0mast\u001b[0m\u001b[0;34m.\u001b[0m\u001b[0mparse\u001b[0m\u001b[0;34m(\u001b[0m\u001b[0mmodule_source\u001b[0m\u001b[0;34m)\u001b[0m\u001b[0;34m\u001b[0m\u001b[0;34m\u001b[0m\u001b[0m\n\u001b[1;32m     71\u001b[0m     \u001b[0minstrumentor\u001b[0m \u001b[0;34m=\u001b[0m \u001b[0mTypeguardTransformer\u001b[0m\u001b[0;34m(\u001b[0m\u001b[0mtarget_path\u001b[0m\u001b[0;34m,\u001b[0m \u001b[0mf\u001b[0m\u001b[0;34m.\u001b[0m\u001b[0m__code__\u001b[0m\u001b[0;34m.\u001b[0m\u001b[0mco_firstlineno\u001b[0m\u001b[0;34m)\u001b[0m\u001b[0;34m\u001b[0m\u001b[0;34m\u001b[0m\u001b[0m\n",
            "\u001b[0;32m/usr/lib/python3.11/inspect.py\u001b[0m in \u001b[0;36mgetsource\u001b[0;34m(object)\u001b[0m\n\u001b[1;32m   1256\u001b[0m     \u001b[0;32mor\u001b[0m \u001b[0mcode\u001b[0m \u001b[0mobject\u001b[0m\u001b[0;34m.\u001b[0m  \u001b[0mThe\u001b[0m \u001b[0msource\u001b[0m \u001b[0mcode\u001b[0m \u001b[0;32mis\u001b[0m \u001b[0mreturned\u001b[0m \u001b[0;32mas\u001b[0m \u001b[0ma\u001b[0m \u001b[0msingle\u001b[0m \u001b[0mstring\u001b[0m\u001b[0;34m.\u001b[0m  \u001b[0mAn\u001b[0m\u001b[0;34m\u001b[0m\u001b[0;34m\u001b[0m\u001b[0m\n\u001b[1;32m   1257\u001b[0m     OSError is raised if the source code cannot be retrieved.\"\"\"\n\u001b[0;32m-> 1258\u001b[0;31m     \u001b[0mlines\u001b[0m\u001b[0;34m,\u001b[0m \u001b[0mlnum\u001b[0m \u001b[0;34m=\u001b[0m \u001b[0mgetsourcelines\u001b[0m\u001b[0;34m(\u001b[0m\u001b[0mobject\u001b[0m\u001b[0;34m)\u001b[0m\u001b[0;34m\u001b[0m\u001b[0;34m\u001b[0m\u001b[0m\n\u001b[0m\u001b[1;32m   1259\u001b[0m     \u001b[0;32mreturn\u001b[0m \u001b[0;34m''\u001b[0m\u001b[0;34m.\u001b[0m\u001b[0mjoin\u001b[0m\u001b[0;34m(\u001b[0m\u001b[0mlines\u001b[0m\u001b[0;34m)\u001b[0m\u001b[0;34m\u001b[0m\u001b[0;34m\u001b[0m\u001b[0m\n\u001b[1;32m   1260\u001b[0m \u001b[0;34m\u001b[0m\u001b[0m\n",
            "\u001b[0;32m/usr/lib/python3.11/inspect.py\u001b[0m in \u001b[0;36mgetsourcelines\u001b[0;34m(object)\u001b[0m\n\u001b[1;32m   1238\u001b[0m     raised if the source code cannot be retrieved.\"\"\"\n\u001b[1;32m   1239\u001b[0m     \u001b[0mobject\u001b[0m \u001b[0;34m=\u001b[0m \u001b[0munwrap\u001b[0m\u001b[0;34m(\u001b[0m\u001b[0mobject\u001b[0m\u001b[0;34m)\u001b[0m\u001b[0;34m\u001b[0m\u001b[0;34m\u001b[0m\u001b[0m\n\u001b[0;32m-> 1240\u001b[0;31m     \u001b[0mlines\u001b[0m\u001b[0;34m,\u001b[0m \u001b[0mlnum\u001b[0m \u001b[0;34m=\u001b[0m \u001b[0mfindsource\u001b[0m\u001b[0;34m(\u001b[0m\u001b[0mobject\u001b[0m\u001b[0;34m)\u001b[0m\u001b[0;34m\u001b[0m\u001b[0;34m\u001b[0m\u001b[0m\n\u001b[0m\u001b[1;32m   1241\u001b[0m \u001b[0;34m\u001b[0m\u001b[0m\n\u001b[1;32m   1242\u001b[0m     \u001b[0;32mif\u001b[0m \u001b[0mistraceback\u001b[0m\u001b[0;34m(\u001b[0m\u001b[0mobject\u001b[0m\u001b[0;34m)\u001b[0m\u001b[0;34m:\u001b[0m\u001b[0;34m\u001b[0m\u001b[0;34m\u001b[0m\u001b[0m\n",
            "\u001b[0;32m/usr/lib/python3.11/inspect.py\u001b[0m in \u001b[0;36mfindsource\u001b[0;34m(object)\u001b[0m\n\u001b[1;32m   1057\u001b[0m     is raised if the source code cannot be retrieved.\"\"\"\n\u001b[1;32m   1058\u001b[0m \u001b[0;34m\u001b[0m\u001b[0m\n\u001b[0;32m-> 1059\u001b[0;31m     \u001b[0mfile\u001b[0m \u001b[0;34m=\u001b[0m \u001b[0mgetsourcefile\u001b[0m\u001b[0;34m(\u001b[0m\u001b[0mobject\u001b[0m\u001b[0;34m)\u001b[0m\u001b[0;34m\u001b[0m\u001b[0;34m\u001b[0m\u001b[0m\n\u001b[0m\u001b[1;32m   1060\u001b[0m     \u001b[0;32mif\u001b[0m \u001b[0mfile\u001b[0m\u001b[0;34m:\u001b[0m\u001b[0;34m\u001b[0m\u001b[0;34m\u001b[0m\u001b[0m\n\u001b[1;32m   1061\u001b[0m         \u001b[0;31m# Invalidate cache if needed.\u001b[0m\u001b[0;34m\u001b[0m\u001b[0;34m\u001b[0m\u001b[0m\n",
            "\u001b[0;32m/usr/lib/python3.11/inspect.py\u001b[0m in \u001b[0;36mgetsourcefile\u001b[0;34m(object)\u001b[0m\n\u001b[1;32m    934\u001b[0m     \u001b[0mReturn\u001b[0m \u001b[0;32mNone\u001b[0m \u001b[0;32mif\u001b[0m \u001b[0mno\u001b[0m \u001b[0mway\u001b[0m \u001b[0mcan\u001b[0m \u001b[0mbe\u001b[0m \u001b[0midentified\u001b[0m \u001b[0mto\u001b[0m \u001b[0mget\u001b[0m \u001b[0mthe\u001b[0m \u001b[0msource\u001b[0m\u001b[0;34m.\u001b[0m\u001b[0;34m\u001b[0m\u001b[0;34m\u001b[0m\u001b[0m\n\u001b[1;32m    935\u001b[0m     \"\"\"\n\u001b[0;32m--> 936\u001b[0;31m     \u001b[0mfilename\u001b[0m \u001b[0;34m=\u001b[0m \u001b[0mgetfile\u001b[0m\u001b[0;34m(\u001b[0m\u001b[0mobject\u001b[0m\u001b[0;34m)\u001b[0m\u001b[0;34m\u001b[0m\u001b[0;34m\u001b[0m\u001b[0m\n\u001b[0m\u001b[1;32m    937\u001b[0m     \u001b[0mall_bytecode_suffixes\u001b[0m \u001b[0;34m=\u001b[0m \u001b[0mimportlib\u001b[0m\u001b[0;34m.\u001b[0m\u001b[0mmachinery\u001b[0m\u001b[0;34m.\u001b[0m\u001b[0mDEBUG_BYTECODE_SUFFIXES\u001b[0m\u001b[0;34m[\u001b[0m\u001b[0;34m:\u001b[0m\u001b[0;34m]\u001b[0m\u001b[0;34m\u001b[0m\u001b[0;34m\u001b[0m\u001b[0m\n\u001b[1;32m    938\u001b[0m     \u001b[0mall_bytecode_suffixes\u001b[0m \u001b[0;34m+=\u001b[0m \u001b[0mimportlib\u001b[0m\u001b[0;34m.\u001b[0m\u001b[0mmachinery\u001b[0m\u001b[0;34m.\u001b[0m\u001b[0mOPTIMIZED_BYTECODE_SUFFIXES\u001b[0m\u001b[0;34m[\u001b[0m\u001b[0;34m:\u001b[0m\u001b[0;34m]\u001b[0m\u001b[0;34m\u001b[0m\u001b[0;34m\u001b[0m\u001b[0m\n",
            "\u001b[0;32m/usr/lib/python3.11/inspect.py\u001b[0m in \u001b[0;36mgetfile\u001b[0;34m(object)\u001b[0m\n\u001b[1;32m    895\u001b[0m         \u001b[0;32mif\u001b[0m \u001b[0mgetattr\u001b[0m\u001b[0;34m(\u001b[0m\u001b[0mobject\u001b[0m\u001b[0;34m,\u001b[0m \u001b[0;34m'__file__'\u001b[0m\u001b[0;34m,\u001b[0m \u001b[0;32mNone\u001b[0m\u001b[0;34m)\u001b[0m\u001b[0;34m:\u001b[0m\u001b[0;34m\u001b[0m\u001b[0;34m\u001b[0m\u001b[0m\n\u001b[1;32m    896\u001b[0m             \u001b[0;32mreturn\u001b[0m \u001b[0mobject\u001b[0m\u001b[0;34m.\u001b[0m\u001b[0m__file__\u001b[0m\u001b[0;34m\u001b[0m\u001b[0;34m\u001b[0m\u001b[0m\n\u001b[0;32m--> 897\u001b[0;31m         \u001b[0;32mraise\u001b[0m \u001b[0mTypeError\u001b[0m\u001b[0;34m(\u001b[0m\u001b[0;34m'{!r} is a built-in module'\u001b[0m\u001b[0;34m.\u001b[0m\u001b[0mformat\u001b[0m\u001b[0;34m(\u001b[0m\u001b[0mobject\u001b[0m\u001b[0;34m)\u001b[0m\u001b[0;34m)\u001b[0m\u001b[0;34m\u001b[0m\u001b[0;34m\u001b[0m\u001b[0m\n\u001b[0m\u001b[1;32m    898\u001b[0m     \u001b[0;32mif\u001b[0m \u001b[0misclass\u001b[0m\u001b[0;34m(\u001b[0m\u001b[0mobject\u001b[0m\u001b[0;34m)\u001b[0m\u001b[0;34m:\u001b[0m\u001b[0;34m\u001b[0m\u001b[0;34m\u001b[0m\u001b[0m\n\u001b[1;32m    899\u001b[0m         \u001b[0;32mif\u001b[0m \u001b[0mhasattr\u001b[0m\u001b[0;34m(\u001b[0m\u001b[0mobject\u001b[0m\u001b[0;34m,\u001b[0m \u001b[0;34m'__module__'\u001b[0m\u001b[0;34m)\u001b[0m\u001b[0;34m:\u001b[0m\u001b[0;34m\u001b[0m\u001b[0;34m\u001b[0m\u001b[0m\n",
            "\u001b[0;31mTypeError\u001b[0m: <module '__main__'> is a built-in module"
          ]
        }
      ]
    },
    {
      "cell_type": "code",
      "source": [
        "calcular_impuesto(int(3),int(2))"
      ],
      "metadata": {
        "id": "BBDZZ34oihCE",
        "outputId": "26f0bd1f-7745-4118-8112-0d74e08a9109",
        "colab": {
          "base_uri": "https://localhost:8080/"
        }
      },
      "execution_count": 24,
      "outputs": [
        {
          "output_type": "execute_result",
          "data": {
            "text/plain": [
              "0.06"
            ]
          },
          "metadata": {},
          "execution_count": 24
        }
      ]
    },
    {
      "cell_type": "markdown",
      "source": [
        "## 3. Return Values"
      ],
      "metadata": {
        "id": "fyNSml7GVP1Y"
      }
    },
    {
      "cell_type": "markdown",
      "source": [
        "- Las funciones pueden devolver valores con 'return'.\n",
        "- Es útil para guardar o reutilizar resultados."
      ],
      "metadata": {
        "id": "VkdpHBVfVTH1"
      }
    },
    {
      "cell_type": "markdown",
      "source": [
        "**Ejemplo:**\n"
      ],
      "metadata": {
        "id": "4xZ4orNzVVBT"
      }
    },
    {
      "cell_type": "code",
      "source": [
        "def cuadrado(numero):\n",
        "    return numero ** 2"
      ],
      "metadata": {
        "id": "-bVDPbECVWaa"
      },
      "execution_count": null,
      "outputs": []
    },
    {
      "cell_type": "markdown",
      "source": [
        "**Ejercicios:**\n",
        "\n",
        "1. 'diferencia_absoluta(a, b)' que retorne el valor absoluto de su diferencia.\n",
        "\n",
        "2. 'comparar_cadenas(cad1, cad2)' que retorne True si tienen la misma longitud.\n",
        "\n",
        "3. 'es_primo(n)' que retorne True si el número es primo."
      ],
      "metadata": {
        "id": "tlMLYSgJVZ0b"
      }
    },
    {
      "cell_type": "code",
      "source": [],
      "metadata": {
        "id": "jwdBX6VeVhVL"
      },
      "execution_count": null,
      "outputs": []
    },
    {
      "cell_type": "markdown",
      "source": [
        "## 4. Passing a List"
      ],
      "metadata": {
        "id": "pltHrWQ9Vg8k"
      }
    },
    {
      "cell_type": "markdown",
      "source": [
        "- Las funciones pueden recibir listas para iterar, modificar o procesar.\n"
      ],
      "metadata": {
        "id": "jtrh3ce9Vjze"
      }
    },
    {
      "cell_type": "markdown",
      "source": [
        "**Ejemplo:**"
      ],
      "metadata": {
        "id": "uqslCsi8VnkE"
      }
    },
    {
      "cell_type": "code",
      "source": [
        "def imprimir_nombres(lista):\n",
        "    for nombre in lista:\n",
        "        print(f\"- {nombre}\")"
      ],
      "metadata": {
        "id": "quUt25oSVmwn"
      },
      "execution_count": null,
      "outputs": []
    },
    {
      "cell_type": "markdown",
      "source": [
        "**Ejercicios:**\n",
        "\n",
        "1. 'invertir_lista(lista)' que retorne la lista invertida.\n",
        "\n",
        "2. 'sumar_pares(lista)' que sume solo los números pares.\n",
        "\n",
        "3. 'normalizar_textos(lista)' que convierta todo texto a minúsculas y sin espacios."
      ],
      "metadata": {
        "id": "IsvUCmvvVrAh"
      }
    },
    {
      "cell_type": "markdown",
      "source": [
        "## 5. Passing Arbitrary Number of Arguments\n"
      ],
      "metadata": {
        "id": "d8BRZt95VyWp"
      }
    },
    {
      "cell_type": "markdown",
      "source": [
        "- *args permite recibir cualquier número de argumentos posicionales.\n",
        "- **kwargs permite recibir pares clave-valor (keyword args)."
      ],
      "metadata": {
        "id": "kKvjnskFV09D"
      }
    },
    {
      "cell_type": "markdown",
      "source": [
        "**Ejemplo:**"
      ],
      "metadata": {
        "id": "1OUZd86jV3Bd"
      }
    },
    {
      "cell_type": "code",
      "source": [
        "def sumar_todo(*numeros):\n",
        "    return sum(numeros)"
      ],
      "metadata": {
        "id": "vDW2boqYV4Wo"
      },
      "execution_count": 3,
      "outputs": []
    },
    {
      "cell_type": "markdown",
      "source": [
        "**Ejercicios:**\n",
        "\n",
        "1. 'registrar_evento(nombre, *participantes)' que imprima el evento y los asistentes.\n",
        "\n",
        "2. 'generar_reporte(**datos)' que imprima claves y valores con formato.\n",
        "\n",
        "3. 'concatenar_textos(*cadenas)' que retorne el texto unificado, separado por guiones."
      ],
      "metadata": {
        "id": "_mXSkDMEV8UN"
      }
    },
    {
      "cell_type": "code",
      "source": [],
      "metadata": {
        "id": "aKkaSEnfWAWR"
      },
      "execution_count": null,
      "outputs": []
    },
    {
      "cell_type": "markdown",
      "source": [
        "## 6. Storing Functions in Modules"
      ],
      "metadata": {
        "id": "jtSzw0j4WDO1"
      }
    },
    {
      "cell_type": "markdown",
      "source": [
        "- Guardar funciones en archivos .py permite modularidad y reutilización.\n",
        "- Luego se importa el archivo usando 'import'."
      ],
      "metadata": {
        "id": "x92n04kVWFvb"
      }
    },
    {
      "cell_type": "markdown",
      "source": [
        "**Ejemplo (módulo: utilidades.py):**"
      ],
      "metadata": {
        "id": "m0OytKHeWKpG"
      }
    },
    {
      "cell_type": "code",
      "source": [
        "# def saludar():\n",
        "#     print(\"Hola desde utilidades\")\n",
        "#\n",
        "# En main.py:\n",
        "# import utilidades\n",
        "# utilidades.saludar()"
      ],
      "metadata": {
        "id": "TvpqNFZrWIql"
      },
      "execution_count": null,
      "outputs": []
    },
    {
      "cell_type": "markdown",
      "source": [
        "**Ejercicios:**\n",
        "\n",
        "1. Crea un módulo 'texto_utils.py' con funciones para contar palabras, quitar tildes y convertir a minúsculas.\n",
        "\n",
        "2. Crea un módulo 'calculadora.py' con funciones básicas y una función especial: factorial.\n",
        "\n",
        "3. Importa y usa ambos módulos en un script principal."
      ],
      "metadata": {
        "id": "x8q9ucUCWP0Q"
      }
    },
    {
      "cell_type": "code",
      "source": [],
      "metadata": {
        "id": "85vCyvMOWOsT"
      },
      "execution_count": null,
      "outputs": []
    },
    {
      "cell_type": "markdown",
      "source": [
        "# Clases"
      ],
      "metadata": {
        "id": "7l-hr6DcWgdN"
      }
    },
    {
      "cell_type": "markdown",
      "source": [
        "## 1. Creating and Using a Class"
      ],
      "metadata": {
        "id": "9Sl8DOmmXMaw"
      }
    },
    {
      "cell_type": "markdown",
      "source": [
        "- Las clases son plantillas para crear objetos.\n",
        "- Usan __init__() para inicializar atributos."
      ],
      "metadata": {
        "id": "PnfwiJaaXOqM"
      }
    },
    {
      "cell_type": "markdown",
      "source": [
        "**Ejemplo:**\n"
      ],
      "metadata": {
        "id": "E1P_UQ6YXQhz"
      }
    },
    {
      "cell_type": "code",
      "source": [
        "class Persona:\n",
        "    def __init__(self, nombre, edad):\n",
        "        self.nombre = nombre\n",
        "        self.edad = edad\n",
        "\n",
        "    def saludar(self):\n",
        "        print(f\"Hola, soy {self.nombre}.\")"
      ],
      "metadata": {
        "id": "FxZIxKxXXTbu"
      },
      "execution_count": null,
      "outputs": []
    },
    {
      "cell_type": "markdown",
      "source": [
        "**Ejercicios:**\n",
        "\n",
        "1. Crea la clase 'Libro' con atributos titulo, autor y año.\n",
        "\n",
        "2. Crea 'CuentaBancaria' con saldo inicial y métodos para depositar y retirar.\n",
        "\n",
        "3. Define 'Pelicula' con método 'resumen()' que imprima una sinopsis."
      ],
      "metadata": {
        "id": "ylthqvSRXVtQ"
      }
    },
    {
      "cell_type": "code",
      "source": [],
      "metadata": {
        "id": "C_tqThPaXasA"
      },
      "execution_count": null,
      "outputs": []
    },
    {
      "cell_type": "markdown",
      "source": [
        "## 2. Working with Classes and Instances"
      ],
      "metadata": {
        "id": "mtIfxNHdXbnl"
      }
    },
    {
      "cell_type": "markdown",
      "source": [
        "- Cada objeto instanciado es independiente.\n",
        "- Puedes modificar atributos directamente o con métodos."
      ],
      "metadata": {
        "id": "L16QES7wXeqt"
      }
    },
    {
      "cell_type": "markdown",
      "source": [
        "**Ejemplo:**\n"
      ],
      "metadata": {
        "id": "8OxEe0U2XhhR"
      }
    },
    {
      "cell_type": "code",
      "source": [
        "juan = Persona(\"Juan\", 28)\n",
        "juan.saludar()"
      ],
      "metadata": {
        "id": "Wv8s90KeXjsA"
      },
      "execution_count": null,
      "outputs": []
    },
    {
      "cell_type": "markdown",
      "source": [
        "**Ejercicios:**\n",
        "\n",
        "1. Crea múltiples instancias de una clase 'Jugador' y cámbiales puntaje.\n",
        "\n",
        "2. Añade un método 'actualizar_email' a una clase 'Usuario'.\n",
        "\n",
        "3. Añade método 'subir_nivel()' que incremente un atributo nivel."
      ],
      "metadata": {
        "id": "tcnWv2HXXkPZ"
      }
    },
    {
      "cell_type": "code",
      "source": [],
      "metadata": {
        "id": "5sRPt7_5Xq4C"
      },
      "execution_count": null,
      "outputs": []
    },
    {
      "cell_type": "markdown",
      "source": [
        "## 3. Inheritance"
      ],
      "metadata": {
        "id": "oIg5A5egXrPJ"
      }
    },
    {
      "cell_type": "markdown",
      "source": [
        "- Las clases pueden heredar atributos y métodos de otras.\n",
        "- La subclase puede extender o sobreescribir métodos."
      ],
      "metadata": {
        "id": "Cz1HHIqBXt9b"
      }
    },
    {
      "cell_type": "markdown",
      "source": [
        "**Ejemplo:**"
      ],
      "metadata": {
        "id": "5-m40bQOXwaI"
      }
    },
    {
      "cell_type": "code",
      "source": [
        "class Animal:\n",
        "    def __init__(self, especie):\n",
        "        self.especie = especie\n",
        "\n",
        "    def hablar(self):\n",
        "        print(\"Este animal hace un sonido\")\n",
        "\n",
        "class Perro(Animal):\n",
        "    def hablar(self):\n",
        "        print(\"Guau\")"
      ],
      "metadata": {
        "id": "5EPTKxOsXukH"
      },
      "execution_count": null,
      "outputs": []
    },
    {
      "cell_type": "markdown",
      "source": [
        "**Ejercicios:**\n",
        "\n",
        "1. Crea 'Empleado' y 'Gerente' que herede e incluya equipo a cargo.\n",
        "\n",
        "2. Crea 'Vehiculo' y subclases 'Auto', 'Moto', con métodos específicos.\n",
        "\n",
        "3. 'Cuenta' y subclases 'CuentaAhorro', 'CuentaCorriente' con comisiones."
      ],
      "metadata": {
        "id": "zuD1o50LX2ao"
      }
    },
    {
      "cell_type": "code",
      "source": [],
      "metadata": {
        "id": "qx2aPbmQX54_"
      },
      "execution_count": null,
      "outputs": []
    },
    {
      "cell_type": "markdown",
      "source": [
        "## 4. Importing Classes"
      ],
      "metadata": {
        "id": "S316TViTX-kr"
      }
    },
    {
      "cell_type": "markdown",
      "source": [
        "- Puedes importar clases específicas con 'from modulo import Clase'.\n"
      ],
      "metadata": {
        "id": "M2CBMnsjYAt_"
      }
    },
    {
      "cell_type": "markdown",
      "source": [
        "**Ejemplo:**\n",
        "\n",
        "from persona import Persona\n"
      ],
      "metadata": {
        "id": "vezz8XZhYELW"
      }
    },
    {
      "cell_type": "markdown",
      "source": [
        "**Ejercicios:**\n",
        "\n",
        "1. Guarda tu clase 'Libro' en un archivo y úsala desde otro script.\n",
        "\n",
        "2. Importa múltiples clases desde un solo módulo.\n",
        "\n",
        "3. Reorganiza tu código en paquetes (carpetas con __init__.py)."
      ],
      "metadata": {
        "id": "J42HjMtBYGov"
      }
    },
    {
      "cell_type": "code",
      "source": [],
      "metadata": {
        "id": "qAyHLysLYQKS"
      },
      "execution_count": null,
      "outputs": []
    },
    {
      "cell_type": "markdown",
      "source": [
        "## 5. The Python Standard Library\n"
      ],
      "metadata": {
        "id": "EIQGzTKYYWJN"
      }
    },
    {
      "cell_type": "markdown",
      "source": [
        "- La biblioteca estándar incluye módulos como random, datetime, os, math.\n"
      ],
      "metadata": {
        "id": "eNPMxa25YZIu"
      }
    },
    {
      "cell_type": "markdown",
      "source": [
        "**Ejemplo:**\n",
        "\n"
      ],
      "metadata": {
        "id": "2CyC8dUKYdaI"
      }
    },
    {
      "cell_type": "code",
      "source": [
        "import random\n",
        "print(random.randint(1, 10))"
      ],
      "metadata": {
        "id": "0NHr99hBYlO-"
      },
      "execution_count": null,
      "outputs": []
    },
    {
      "cell_type": "markdown",
      "source": [
        "**Ejercicios:**\n",
        "\n",
        "1. Usa datetime para imprimir la fecha de nacimiento a partir de edad.\n",
        "\n",
        "2. Usa os para listar todos los archivos de un directorio.\n",
        "\n",
        "3. Usa math para resolver la fórmula cuadrática."
      ],
      "metadata": {
        "id": "GSddpGVvYfB9"
      }
    },
    {
      "cell_type": "markdown",
      "source": [
        "---\n",
        "\n",
        "# Gracias por completar este laboratorio!\n",
        "\n",
        "---\n"
      ],
      "metadata": {
        "id": "AFdUbz_9XDVM"
      }
    }
  ]
}