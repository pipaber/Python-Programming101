{
  "nbformat": 4,
  "nbformat_minor": 0,
  "metadata": {
    "colab": {
      "provenance": [],
      "include_colab_link": true
    },
    "kernelspec": {
      "name": "python3",
      "display_name": "Python 3"
    },
    "language_info": {
      "name": "python"
    }
  },
  "cells": [
    {
      "cell_type": "markdown",
      "metadata": {
        "id": "view-in-github",
        "colab_type": "text"
      },
      "source": [
        "<a href=\"https://colab.research.google.com/github/pipaber/Python-Programming101/blob/main/01_Introduccion_a_Python/06_NumPy_Arrays_ipynb.ipynb\" target=\"_parent\"><img src=\"https://colab.research.google.com/assets/colab-badge.svg\" alt=\"Open In Colab\"/></a>"
      ]
    },
    {
      "cell_type": "markdown",
      "source": [
        "<img src=\"https://www.ctic.uni.edu.pe/wp-content/uploads/2022/04/588px-x-348px-web-1.png\" alt=\"HTML5 Icon\" width=\"900\" height=\"350\" >\n"
      ],
      "metadata": {
        "id": "ymw2mOrhFyiu"
      }
    },
    {
      "cell_type": "markdown",
      "source": [
        "# **NumPy Arrays**\n"
      ],
      "metadata": {
        "id": "MNMPVfxEF1mE"
      }
    },
    {
      "cell_type": "markdown",
      "source": [
        "**Objetivo**\n",
        "\n",
        "El objetivo de este laboratorio es brindar una comprensión profunda y práctica de la biblioteca NumPy en Python, una herramienta esencial para el cálculo numérico y el análisis en data science.\n"
      ],
      "metadata": {
        "id": "Gn8gUPBiGfrU"
      }
    },
    {
      "cell_type": "markdown",
      "source": [
        "**Índice del Laboratorio**\n",
        "\n",
        "- 1. Introducción y Configuración\n",
        "- 2. Creación de Arrays\n",
        "- 3. Propiedades de los Arrays\n",
        "- 4. Operaciones Básicas\n",
        "- 5. Indexación y Slicing\n",
        "- 6. Manipulación de la Forma\n",
        "- 7. Broadcasting\n",
        "- 8. Álgebra Lineal\n"
      ],
      "metadata": {
        "id": "MnbV7B5LGFuv"
      }
    },
    {
      "cell_type": "markdown",
      "source": [
        "## 1. Introducción y Configuración\n",
        "\n",
        "**¿Qué es NumPy?**\n",
        "\n",
        "NumPy (Numerical Python) es una librería esencial en Python para el cálculo numérico y el análisis de datos. Proporciona:\n",
        "\n",
        "\n",
        "- **Arrays multidimensionales:** Estructuras de datos eficientes para almacenar y manipular grandes conjuntos de datos numéricos.\n",
        "- **Funciones matemáticas:** Operaciones vectorizadas para realizar cálculos rápidos y eficientes.\n",
        "- **Herramientas avanzadas:** Funciones para álgebra lineal, transformadas de Fourier, generación de números aleatorios, y más.\n"
      ],
      "metadata": {
        "id": "AzvAvOKKIHFg"
      }
    },
    {
      "cell_type": "markdown",
      "source": [
        "**Instalación y Configuración**\n",
        "\n",
        "Antes de comenzar, asegúrate de tener NumPy instalado en tu entorno de Python. Puedes instalarlo usando pip:"
      ],
      "metadata": {
        "id": "fRG8iIwnIPcI"
      }
    },
    {
      "cell_type": "code",
      "execution_count": 3,
      "metadata": {
        "id": "E6n0_5YgEx3b",
        "outputId": "a05f98ec-25b2-4d7e-8ab9-72da65973dd7",
        "colab": {
          "base_uri": "https://localhost:8080/"
        }
      },
      "outputs": [
        {
          "output_type": "stream",
          "name": "stdout",
          "text": [
            "NumPy ya se encuentra instalado.\n",
            "Versión de NumPy: 2.0.2\n"
          ]
        }
      ],
      "source": [
        "# Instalación\n",
        "\n",
        "try:\n",
        "    import numpy as np\n",
        "    print(\"NumPy ya se encuentra instalado.\")\n",
        "except ImportError:\n",
        "    print(\"NumPy no se encuentra instalado. Instalando...\")\n",
        "\n",
        "print(\"Versión de NumPy:\", np.__version__)\n"
      ]
    },
    {
      "cell_type": "markdown",
      "source": [
        "## 2. Creación de Arrays\n",
        "\n",
        "Los arrays son la base de NumPy y representan colecciones de elementos del mismo tipo de datos. Veamos cómo crearlos de diferentes maneras."
      ],
      "metadata": {
        "id": "RrMGewNBIZn6"
      }
    },
    {
      "cell_type": "markdown",
      "source": [
        "### 2.1. Crear un Array desde una Lista\n",
        "\n"
      ],
      "metadata": {
        "id": "2XsuIW6uId-l"
      }
    },
    {
      "cell_type": "markdown",
      "source": [
        "**Ejemplo 1:** Array Unidimensional"
      ],
      "metadata": {
        "id": "4pvP6k9WIhc0"
      }
    },
    {
      "cell_type": "code",
      "source": [
        "# Array unidimensional desde una lista\n",
        "array_1d = np.array([10, 20, 30, 40])\n",
        "print(\"Array 1D:\", array_1d)\n"
      ],
      "metadata": {
        "id": "qDP_GFbxIkKw",
        "outputId": "f5cce46d-d0f3-44e9-ca5f-774eeeb998c8",
        "colab": {
          "base_uri": "https://localhost:8080/"
        }
      },
      "execution_count": null,
      "outputs": [
        {
          "output_type": "stream",
          "name": "stdout",
          "text": [
            "Array 1D: [10 20 30 40]\n"
          ]
        }
      ]
    },
    {
      "cell_type": "markdown",
      "source": [
        "**Ejemplo 2:** Array Multidimensional\n"
      ],
      "metadata": {
        "id": "mXxNsPyvIlV1"
      }
    },
    {
      "cell_type": "code",
      "source": [
        "# Array bidimensional desde una lista de listas\n",
        "array_2d = np.array([[1, 2, 3], [4, 5, 6]])\n",
        "print(\"Array 2D:\\n\", array_2d)\n"
      ],
      "metadata": {
        "id": "aS-adtWIIn4-",
        "outputId": "8f088c13-4753-4f54-89c9-a4c2061af1a8",
        "colab": {
          "base_uri": "https://localhost:8080/"
        }
      },
      "execution_count": null,
      "outputs": [
        {
          "output_type": "stream",
          "name": "stdout",
          "text": [
            "Array 2D:\n",
            " [[1 2 3]\n",
            " [4 5 6]]\n"
          ]
        }
      ]
    },
    {
      "cell_type": "markdown",
      "source": [
        "**Ejercicios**\n",
        "\n",
        "Crea un array unidimensional con los números del 5 al 15.\n"
      ],
      "metadata": {
        "id": "1lO2bWukIpsZ"
      }
    },
    {
      "cell_type": "code",
      "source": [
        "np.arange(5,16)"
      ],
      "metadata": {
        "id": "UvYaoXNNIr3s",
        "outputId": "6ec1b451-9898-4f89-f0da-a984c68a9a9c",
        "colab": {
          "base_uri": "https://localhost:8080/"
        }
      },
      "execution_count": null,
      "outputs": [
        {
          "output_type": "execute_result",
          "data": {
            "text/plain": [
              "array([ 5,  6,  7,  8,  9, 10, 11, 12, 13, 14, 15])"
            ]
          },
          "metadata": {},
          "execution_count": 8
        }
      ]
    },
    {
      "cell_type": "markdown",
      "source": [
        "Genera un array bidimensional de 2 filas y 3 columnas con números decimales.\n"
      ],
      "metadata": {
        "id": "fQAxYYgGIsPI"
      }
    },
    {
      "cell_type": "code",
      "source": [
        "np.random.rand(2,3)"
      ],
      "metadata": {
        "id": "6xk_t1lvItOc",
        "outputId": "ec0dfc1f-43f4-4f83-b4b4-6454116e823b",
        "colab": {
          "base_uri": "https://localhost:8080/"
        }
      },
      "execution_count": null,
      "outputs": [
        {
          "output_type": "execute_result",
          "data": {
            "text/plain": [
              "array([[0.15453843, 0.44037634, 0.66166563],\n",
              "       [0.22330527, 0.58808245, 0.58000371]])"
            ]
          },
          "metadata": {},
          "execution_count": 10
        }
      ]
    },
    {
      "cell_type": "markdown",
      "source": [
        "Crea un array tridimensional de forma (2, 2, 2) con números enteros."
      ],
      "metadata": {
        "id": "neWSQ9rhItix"
      }
    },
    {
      "cell_type": "code",
      "source": [
        "np.random.randint(0,100,(2,2,2))"
      ],
      "metadata": {
        "id": "ipNPU5llIuMe",
        "outputId": "37227755-6654-4924-c3ce-bdd5d310f1c0",
        "colab": {
          "base_uri": "https://localhost:8080/"
        }
      },
      "execution_count": null,
      "outputs": [
        {
          "output_type": "execute_result",
          "data": {
            "text/plain": [
              "array([[[76, 66],\n",
              "        [ 6,  4]],\n",
              "\n",
              "       [[31, 36],\n",
              "        [29, 88]]])"
            ]
          },
          "metadata": {},
          "execution_count": 18
        }
      ]
    },
    {
      "cell_type": "markdown",
      "source": [
        "### 2.2. Arrays Predefinidos\n",
        "\n",
        "NumPy ofrece funciones para crear arrays con valores predefinidos, lo cual es útil para inicializar matrices o vectores."
      ],
      "metadata": {
        "id": "BfYFGcnUIxHJ"
      }
    },
    {
      "cell_type": "markdown",
      "source": [
        "**Ejemplo 1:** Arrays de Ceros y Unos"
      ],
      "metadata": {
        "id": "PWIFkBp_Iy4P"
      }
    },
    {
      "cell_type": "code",
      "source": [
        "# Array de ceros de forma (3, 3)\n",
        "zeros_array = np.zeros((3, 3))\n",
        "print(\"Array de ceros:\\n\", zeros_array)\n",
        "\n",
        "# Array de unos de forma (2, 4)\n",
        "ones_array = np.ones((2, 4))\n",
        "print(\"Array de unos:\\n\", ones_array)\n"
      ],
      "metadata": {
        "id": "hbuDDRF8I25u"
      },
      "execution_count": null,
      "outputs": []
    },
    {
      "cell_type": "markdown",
      "source": [
        "**Ejemplo 2:** Array de Valores Constantes\n"
      ],
      "metadata": {
        "id": "LqQHXuY7I4Ym"
      }
    },
    {
      "cell_type": "code",
      "source": [
        "# Array lleno con el valor 7 de forma (3, 2)\n",
        "full_array = np.full((3, 2), 7)\n",
        "print(\"Array lleno de 7:\\n\", full_array)\n"
      ],
      "metadata": {
        "id": "9vwS36YPI7xY"
      },
      "execution_count": null,
      "outputs": []
    },
    {
      "cell_type": "markdown",
      "source": [
        "**Ejercicios**\n",
        "\n",
        "Crea un array de ceros de forma (5, 5).\n"
      ],
      "metadata": {
        "id": "b1SwQWMsI9FP"
      }
    },
    {
      "cell_type": "code",
      "source": [],
      "metadata": {
        "id": "-_yEyccZI-6P"
      },
      "execution_count": null,
      "outputs": []
    },
    {
      "cell_type": "markdown",
      "source": [
        "Genera un array de unos de forma (4, 1).\n"
      ],
      "metadata": {
        "id": "GhwXx5PtJAAW"
      }
    },
    {
      "cell_type": "code",
      "source": [],
      "metadata": {
        "id": "XT48dMVZJA5j"
      },
      "execution_count": null,
      "outputs": []
    },
    {
      "cell_type": "markdown",
      "source": [
        "Crea un array lleno con el número pi (π) de forma (2, 3)."
      ],
      "metadata": {
        "id": "SGvxmghRJBLI"
      }
    },
    {
      "cell_type": "code",
      "source": [],
      "metadata": {
        "id": "sS20FWviJBxa"
      },
      "execution_count": null,
      "outputs": []
    },
    {
      "cell_type": "markdown",
      "source": [
        "### 2.3. Arrays con Rangos\n",
        "\n",
        "Puedes crear arrays con secuencias de números utilizando funciones como arange y linspace."
      ],
      "metadata": {
        "id": "BAgwhzjLJED9"
      }
    },
    {
      "cell_type": "markdown",
      "source": [
        "**Ejemplo 1:** Usando arange\n"
      ],
      "metadata": {
        "id": "rtmwuh78JH0V"
      }
    },
    {
      "cell_type": "code",
      "source": [
        "# Números del 0 al 9\n",
        "arange_array = np.arange(10)\n",
        "print(\"Array con arange:\", arange_array)\n",
        "\n",
        "# Números del 5 al 20 con paso de 3\n",
        "step_array = np.arange(5, 21, 3)\n",
        "print(\"Array con paso de 3:\", step_array)\n"
      ],
      "metadata": {
        "id": "RP2Brk9_JNCb"
      },
      "execution_count": null,
      "outputs": []
    },
    {
      "cell_type": "markdown",
      "source": [
        "**Ejemplo 2:** Usando linspace\n"
      ],
      "metadata": {
        "id": "pd9S1zftJPsh"
      }
    },
    {
      "cell_type": "code",
      "source": [
        "# 5 números igualmente espaciados entre 0 y 1\n",
        "linspace_array = np.linspace(0, 1, 5)\n",
        "print(\"Array con linspace:\", linspace_array)\n",
        "\n",
        "# 4 números igualmente espaciados entre 10 y 50\n",
        "linspace_array2 = np.linspace(10, 50, 4)\n",
        "print(\"Otro array con linspace:\", linspace_array2)\n"
      ],
      "metadata": {
        "id": "Bl9p1w6bJTiE"
      },
      "execution_count": null,
      "outputs": []
    },
    {
      "cell_type": "markdown",
      "source": [
        "**Ejercicios**\n",
        "\n",
        "Crea un array con números del 0 al 50, cada 5 unidades.\n"
      ],
      "metadata": {
        "id": "rDSGA2q0JTDW"
      }
    },
    {
      "cell_type": "code",
      "source": [],
      "metadata": {
        "id": "Bi__OawoJYDp"
      },
      "execution_count": null,
      "outputs": []
    },
    {
      "cell_type": "markdown",
      "source": [
        "Genera un array con 7 números igualmente espaciados entre 2 y 3.\n"
      ],
      "metadata": {
        "id": "fxwDjQ-8JYbd"
      }
    },
    {
      "cell_type": "code",
      "source": [],
      "metadata": {
        "id": "qzw4xbfEJZQL"
      },
      "execution_count": null,
      "outputs": []
    },
    {
      "cell_type": "markdown",
      "source": [
        "Crea un array con números enteros del 10 al 1 en orden descendente."
      ],
      "metadata": {
        "id": "MKgchpFDJZjJ"
      }
    },
    {
      "cell_type": "markdown",
      "source": [
        "## 2.4. Arrays Aleatorios\n",
        "\n",
        "NumPy incluye funciones para generar arrays con números aleatorios, lo cual es útil en simulaciones y pruebas.\n",
        "\n"
      ],
      "metadata": {
        "id": "YQuW--NgJcMw"
      }
    },
    {
      "cell_type": "markdown",
      "source": [
        "**Ejemplo 1:** Números Aleatorios Uniformes"
      ],
      "metadata": {
        "id": "_AwItmsDJeNK"
      }
    },
    {
      "cell_type": "code",
      "source": [
        "# Array de forma (2, 3) con números aleatorios entre 0 y 1\n",
        "random_array = np.random.rand(2, 3)\n",
        "print(\"Array aleatorio uniforme:\\n\", random_array)\n"
      ],
      "metadata": {
        "id": "oT08w9NcJi54"
      },
      "execution_count": null,
      "outputs": []
    },
    {
      "cell_type": "markdown",
      "source": [
        "**Ejemplo 2:** Números Aleatorios Enteros"
      ],
      "metadata": {
        "id": "TBBPzNawJkOP"
      }
    },
    {
      "cell_type": "code",
      "source": [
        "# Array de enteros aleatorios entre 1 y 100 de forma (3, 3)\n",
        "random_int_array = np.random.randint(1, 100, (3, 3))\n",
        "print(\"Array aleatorio de enteros:\\n\", random_int_array)\n"
      ],
      "metadata": {
        "id": "GiSrB3l7Jm9w"
      },
      "execution_count": null,
      "outputs": []
    },
    {
      "cell_type": "markdown",
      "source": [
        "**Ejercicios**\n",
        "\n",
        "Genera un array de forma (5,) con números aleatorios entre 0 y 1.\n"
      ],
      "metadata": {
        "id": "D8xpw6UOJo6n"
      }
    },
    {
      "cell_type": "code",
      "source": [],
      "metadata": {
        "id": "hwCmoXRxJrPy"
      },
      "execution_count": null,
      "outputs": []
    },
    {
      "cell_type": "markdown",
      "source": [
        "Crea un array de enteros aleatorios entre 50 y 100 de forma (4, 2).\n"
      ],
      "metadata": {
        "id": "0aQPLSfXJrqZ"
      }
    },
    {
      "cell_type": "code",
      "source": [],
      "metadata": {
        "id": "BO8rQm96JtMW"
      },
      "execution_count": null,
      "outputs": []
    },
    {
      "cell_type": "markdown",
      "source": [
        "Genera un array aleatorio de forma (3, 3) y multiplica todos sus elementos por 10."
      ],
      "metadata": {
        "id": "uV1hVnPSJsxQ"
      }
    },
    {
      "cell_type": "code",
      "source": [],
      "metadata": {
        "id": "ituje20kJuOI"
      },
      "execution_count": null,
      "outputs": []
    },
    {
      "cell_type": "markdown",
      "source": [
        "## 3. Propiedades de los Arrays\n",
        "\n",
        "Es importante comprender las propiedades de los arrays para manipularlos eficazmente."
      ],
      "metadata": {
        "id": "6FMC8GNeKKO_"
      }
    },
    {
      "cell_type": "markdown",
      "source": [
        "**Ejemplo 1:** Explorando las Propiedades"
      ],
      "metadata": {
        "id": "fOVWQxxyKL-v"
      }
    },
    {
      "cell_type": "code",
      "source": [
        "array = np.array([[1, 2, 3], [4, 5, 6]])\n",
        "\n",
        "print(\"Array:\\n\", array)\n",
        "print(\"Dimensiones (ndim):\", array.ndim)\n",
        "print(\"Forma (shape):\", array.shape)\n",
        "print(\"Tamaño total (size):\", array.size)\n",
        "print(\"Tipo de datos (dtype):\", array.dtype)\n"
      ],
      "metadata": {
        "id": "XpZnpGyzKQqy",
        "colab": {
          "base_uri": "https://localhost:8080/"
        },
        "outputId": "272eca79-ac31-4d5b-e39d-18c9dbbce1d1"
      },
      "execution_count": 5,
      "outputs": [
        {
          "output_type": "stream",
          "name": "stdout",
          "text": [
            "Array:\n",
            " [[1 2 3]\n",
            " [4 5 6]]\n",
            "Dimensiones (ndim): 2\n",
            "Forma (shape): (2, 3)\n",
            "Tamaño total (size): 6\n",
            "Tipo de datos (dtype): int64\n"
          ]
        }
      ]
    },
    {
      "cell_type": "markdown",
      "source": [
        "**Ejemplo 2:** Tamaño en Memoria\n"
      ],
      "metadata": {
        "id": "j7WLYVfrKScL"
      }
    },
    {
      "cell_type": "code",
      "source": [
        "print(\"Tamaño en bytes de un elemento (itemsize):\", array.itemsize)\n",
        "print(\"Tamaño total en memoria (nbytes):\", array.nbytes)\n"
      ],
      "metadata": {
        "id": "8dF0Jx68KVPG",
        "colab": {
          "base_uri": "https://localhost:8080/"
        },
        "outputId": "4c30820b-39d4-437c-dd81-31b7c4508ce1"
      },
      "execution_count": 6,
      "outputs": [
        {
          "output_type": "stream",
          "name": "stdout",
          "text": [
            "Tamaño en bytes de un elemento (itemsize): 8\n",
            "Tamaño total en memoria (nbytes): 48\n"
          ]
        }
      ]
    },
    {
      "cell_type": "markdown",
      "source": [
        "**Ejercicios**\n",
        "\n",
        "Crea un array de forma (3, 4) y muestra todas sus propiedades.\n"
      ],
      "metadata": {
        "id": "LM9V_Q-4KZ-s"
      }
    },
    {
      "cell_type": "code",
      "source": [],
      "metadata": {
        "id": "KV_opwtRKcis"
      },
      "execution_count": null,
      "outputs": []
    },
    {
      "cell_type": "markdown",
      "source": [
        "Cambia el tipo de datos de un array a float64 y verifica el cambio en dtype.\n"
      ],
      "metadata": {
        "id": "ysZnX5CUKc0J"
      }
    },
    {
      "cell_type": "code",
      "source": [],
      "metadata": {
        "id": "gKxtGsNnKds1"
      },
      "execution_count": null,
      "outputs": []
    },
    {
      "cell_type": "markdown",
      "source": [
        "Calcula el tamaño total en memoria de un array de forma (1000,) con tipo de datos int32."
      ],
      "metadata": {
        "id": "GdDUhD_JKeJc"
      }
    },
    {
      "cell_type": "code",
      "source": [],
      "metadata": {
        "id": "rG4Cic73Keo9"
      },
      "execution_count": null,
      "outputs": []
    },
    {
      "cell_type": "markdown",
      "source": [
        "## 4. Operaciones Básicas\n",
        "\n",
        "Las operaciones vectorizadas en NumPy permiten realizar cálculos de forma eficiente sin necesidad de bucles."
      ],
      "metadata": {
        "id": "_ZfzbbZMKggL"
      }
    },
    {
      "cell_type": "code",
      "source": [],
      "metadata": {
        "id": "zqQaJZbNKiTT"
      },
      "execution_count": null,
      "outputs": []
    },
    {
      "cell_type": "markdown",
      "source": [
        "### 4.1. Operaciones Matemáticas\n",
        "\n",
        "**Ejemplo 1:** Operaciones Elemento a Elemento"
      ],
      "metadata": {
        "id": "ZZ5ZiJ23Kjr8"
      }
    },
    {
      "cell_type": "code",
      "source": [
        "a = np.array([1, 2, 3])\n",
        "b = np.array([4, 5, 6])\n",
        "\n",
        "print(\"Suma:\", a + b)\n",
        "print(\"Resta:\", a - b)\n",
        "print(\"Multiplicación:\", a * b)\n",
        "print(\"División:\", a / b)\n"
      ],
      "metadata": {
        "id": "J8k70bK1KnfQ",
        "colab": {
          "base_uri": "https://localhost:8080/"
        },
        "outputId": "53fa1f2c-ed05-432e-f344-d1abbe8707e7"
      },
      "execution_count": 7,
      "outputs": [
        {
          "output_type": "stream",
          "name": "stdout",
          "text": [
            "Suma: [5 7 9]\n",
            "Resta: [-3 -3 -3]\n",
            "Multiplicación: [ 4 10 18]\n",
            "División: [0.25 0.4  0.5 ]\n"
          ]
        }
      ]
    },
    {
      "cell_type": "markdown",
      "source": [
        "**Ejemplo 2:** Operaciones con Escalares"
      ],
      "metadata": {
        "id": "3zdS8pjHKp5y"
      }
    },
    {
      "cell_type": "code",
      "source": [
        "# Multiplicación por un escalar\n",
        "scalar_mult = a * 10\n",
        "print(\"Multiplicación por escalar:\", scalar_mult)\n",
        "\n",
        "# Exponenciación\n",
        "exp_array = a ** 2\n",
        "print(\"Exponenciación:\", exp_array)\n"
      ],
      "metadata": {
        "id": "ToBiN8JpKsoA",
        "colab": {
          "base_uri": "https://localhost:8080/"
        },
        "outputId": "85627402-ea41-4c0c-fcba-a35210dd0c53"
      },
      "execution_count": 8,
      "outputs": [
        {
          "output_type": "stream",
          "name": "stdout",
          "text": [
            "Multiplicación por escalar: [10 20 30]\n",
            "Exponenciación: [1 4 9]\n"
          ]
        }
      ]
    },
    {
      "cell_type": "markdown",
      "source": [
        "**Ejercicios**\n",
        "\n",
        "Dado x = np.array([2, 4, 6]) y y = np.array([1, 3, 5]), calcula x * y y x / y.\n"
      ],
      "metadata": {
        "id": "nhMdHCVMKwek"
      }
    },
    {
      "cell_type": "code",
      "source": [
        "x = np.array([2, 4, 6])\n",
        "y = np.array([1, 3, 5])\n",
        "print(\"x * y:\", x * y)\n",
        "print(\"x / y:\", x / y)"
      ],
      "metadata": {
        "id": "OH1e4ZKeKya9",
        "colab": {
          "base_uri": "https://localhost:8080/"
        },
        "outputId": "8a7622be-ab6b-4800-bc28-dd611076f559"
      },
      "execution_count": 12,
      "outputs": [
        {
          "output_type": "stream",
          "name": "stdout",
          "text": [
            "x * y: [ 2 12 30]\n",
            "x / y: [2.         1.33333333 1.2       ]\n"
          ]
        }
      ]
    },
    {
      "cell_type": "markdown",
      "source": [
        "Eleva al cubo cada elemento del array x.\n"
      ],
      "metadata": {
        "id": "IZz-g8RLKyuR"
      }
    },
    {
      "cell_type": "code",
      "source": [
        "x**3"
      ],
      "metadata": {
        "id": "7clSC3JQKzeS",
        "colab": {
          "base_uri": "https://localhost:8080/"
        },
        "outputId": "f9abaa50-8e7c-495f-9a4b-1cec5ffdb4f9"
      },
      "execution_count": 13,
      "outputs": [
        {
          "output_type": "execute_result",
          "data": {
            "text/plain": [
              "array([  8,  64, 216])"
            ]
          },
          "metadata": {},
          "execution_count": 13
        }
      ]
    },
    {
      "cell_type": "markdown",
      "source": [
        "Suma 5 a cada elemento del array y y luego calcula la raíz cuadrada."
      ],
      "metadata": {
        "id": "Q2mjFACFKz8A"
      }
    },
    {
      "cell_type": "code",
      "source": [
        "(y + 5)**0.5"
      ],
      "metadata": {
        "id": "hcVvU9_kK0ex",
        "colab": {
          "base_uri": "https://localhost:8080/"
        },
        "outputId": "02eb0f4b-4c10-4ec9-b08e-bc773bfebe08"
      },
      "execution_count": 15,
      "outputs": [
        {
          "output_type": "execute_result",
          "data": {
            "text/plain": [
              "array([2.44948974, 2.82842712, 3.16227766])"
            ]
          },
          "metadata": {},
          "execution_count": 15
        }
      ]
    },
    {
      "cell_type": "markdown",
      "source": [
        "### 4.2. Funciones Matemáticas\n",
        "\n",
        "NumPy proporciona funciones universales (ufuncs) para realizar operaciones matemáticas."
      ],
      "metadata": {
        "id": "WODIREp4K2ib"
      }
    },
    {
      "cell_type": "markdown",
      "source": [
        "**Ejemplo 1:** Funciones Estadísticas"
      ],
      "metadata": {
        "id": "jNGzBcfVK4_o"
      }
    },
    {
      "cell_type": "code",
      "source": [
        "array = np.array([1, 5, 2, 8, 3])\n",
        "\n",
        "print(\"Suma total:\", array.sum())\n",
        "print(\"Promedio:\", array.mean())\n",
        "print(\"Mediana:\", np.median(array))\n",
        "print(\"Desviación estándar:\", array.std(ddof=1))\n"
      ],
      "metadata": {
        "id": "xASKDx3_K7iJ",
        "colab": {
          "base_uri": "https://localhost:8080/"
        },
        "outputId": "fefd1c6f-ccda-479f-d44e-d93496e079d2"
      },
      "execution_count": 10,
      "outputs": [
        {
          "output_type": "stream",
          "name": "stdout",
          "text": [
            "Suma total: 19\n",
            "Promedio: 3.8\n",
            "Mediana: 3.0\n",
            "Desviación estándar: 2.7748873851023217\n"
          ]
        }
      ]
    },
    {
      "cell_type": "markdown",
      "source": [
        "**Ejemplo 2:** Funciones Trigonométricas y Exponenciales"
      ],
      "metadata": {
        "id": "wq0HpPy_K829"
      }
    },
    {
      "cell_type": "code",
      "source": [
        "angles = np.array([0, np.pi/2, np.pi])\n",
        "\n",
        "print(\"Seno:\", np.sin(angles))\n",
        "print(\"Coseno:\", np.cos(angles))\n",
        "print(\"Exponencial:\", np.exp(array))\n"
      ],
      "metadata": {
        "id": "p6lBxM1tK_Uv",
        "colab": {
          "base_uri": "https://localhost:8080/"
        },
        "outputId": "e3510544-c00c-4be5-fed5-7cfd7106f093"
      },
      "execution_count": 16,
      "outputs": [
        {
          "output_type": "stream",
          "name": "stdout",
          "text": [
            "Seno: [0.0000000e+00 1.0000000e+00 1.2246468e-16]\n",
            "Coseno: [ 1.000000e+00  6.123234e-17 -1.000000e+00]\n",
            "Exponencial: [2.71828183e+00 1.48413159e+02 7.38905610e+00 2.98095799e+03\n",
            " 2.00855369e+01]\n"
          ]
        }
      ]
    },
    {
      "cell_type": "markdown",
      "source": [
        "**Ejercicios**\n",
        "\n",
        "Calcula el valor máximo y mínimo de un array aleatorio de forma (10,).\n"
      ],
      "metadata": {
        "id": "HLe7TxnSLB4f"
      }
    },
    {
      "cell_type": "code",
      "source": [
        "x = np.random.randint(0,100,(10,))\n",
        "print(x)\n",
        "print(\"Máximo:\", x.max())\n",
        "print(\"Mínimo:\", x.min())"
      ],
      "metadata": {
        "id": "-sIV4FogLECl",
        "colab": {
          "base_uri": "https://localhost:8080/"
        },
        "outputId": "b6e5f1fc-c46f-4f42-a2ea-9876a63d6bda"
      },
      "execution_count": 22,
      "outputs": [
        {
          "output_type": "stream",
          "name": "stdout",
          "text": [
            "[79 88 69 24 14 52 80 90 60 88]\n",
            "Máximo: 90\n",
            "Mínimo: 14\n"
          ]
        }
      ]
    },
    {
      "cell_type": "markdown",
      "source": [
        "Dado un array de ángulos en grados, conviértelos a radianes y calcula su seno.\n"
      ],
      "metadata": {
        "id": "lHX70BQ8LEoH"
      }
    },
    {
      "cell_type": "code",
      "source": [
        "x = np.array([0, 30, 45, 60, 90])\n",
        "print(\"Seno:\", np.sin(np.deg2rad(x)))"
      ],
      "metadata": {
        "id": "ZnbtCRT9LFxL",
        "colab": {
          "base_uri": "https://localhost:8080/"
        },
        "outputId": "c0815d16-dc9c-49e1-c7e0-ad039e3ac19f"
      },
      "execution_count": 28,
      "outputs": [
        {
          "output_type": "stream",
          "name": "stdout",
          "text": [
            "Seno: [0.         0.5        0.70710678 0.8660254  1.        ]\n"
          ]
        }
      ]
    },
    {
      "cell_type": "markdown",
      "source": [
        "Genera un array y normalízalo restando la media y dividiendo por la desviación estándar."
      ],
      "metadata": {
        "id": "_e4fCBRnLGHq"
      }
    },
    {
      "cell_type": "code",
      "source": [
        "x = np.random.randint(0,100,(10,))\n",
        "print(x)\n",
        "\n",
        "x_normalized = (x - x.mean())/x.std()\n",
        "print(x_normalized)\n"
      ],
      "metadata": {
        "id": "v6VxZ1wULGli",
        "colab": {
          "base_uri": "https://localhost:8080/"
        },
        "outputId": "cba25ce1-284b-43f6-8cff-6ef0ebc4dd79"
      },
      "execution_count": 27,
      "outputs": [
        {
          "output_type": "stream",
          "name": "stdout",
          "text": [
            "[99 87  5 87 86 34  3  2 52 51]\n",
            "[ 1.33063479  1.00072534 -1.25365592  1.00072534  0.97323288 -0.45637474\n",
            " -1.30864083 -1.33613328  0.03848944  0.01099698]\n"
          ]
        }
      ]
    },
    {
      "cell_type": "markdown",
      "source": [
        "## 5. Indexación y Slicing\n",
        "\n",
        "La indexación y el slicing te permiten acceder y modificar partes específicas de un array."
      ],
      "metadata": {
        "id": "KF8Ww8C2LJun"
      }
    },
    {
      "cell_type": "markdown",
      "source": [
        "**Ejemplo 1:** Acceso a Elementos Individuales"
      ],
      "metadata": {
        "id": "kVCshuOMLMeH"
      }
    },
    {
      "cell_type": "code",
      "source": [
        "array = np.array([[10, 20, 30], [40, 50, 60]])\n",
        "\n",
        "# Acceder al elemento en la fila 1, columna 2\n",
        "element = array[1, 2]\n",
        "print(\"Elemento en (1, 2):\", element)\n"
      ],
      "metadata": {
        "id": "N6FHk0zCLOkn",
        "colab": {
          "base_uri": "https://localhost:8080/"
        },
        "outputId": "315dfec7-5f15-479c-9a91-51e606706c59"
      },
      "execution_count": 31,
      "outputs": [
        {
          "output_type": "stream",
          "name": "stdout",
          "text": [
            "Elemento en (1, 2): 60\n"
          ]
        }
      ]
    },
    {
      "cell_type": "markdown",
      "source": [
        "**Ejemplo 2:** Slicing de Subarrays"
      ],
      "metadata": {
        "id": "W04G7WXhLQY7"
      }
    },
    {
      "cell_type": "code",
      "source": [
        "# Obtener la primera fila\n",
        "first_row = array[0, :]\n",
        "print(\"Primera fila:\", first_row)\n",
        "\n",
        "# Obtener la segunda columna\n",
        "second_col = array[:, 1]\n",
        "print(\"Segunda columna:\", second_col)\n",
        "\n",
        "# Obtener un subarray de forma (2, 2)\n",
        "subarray = array[:, :2]\n",
        "print(\"Subarray:\\n\", subarray)\n"
      ],
      "metadata": {
        "id": "nYsbLlPkLTkE",
        "colab": {
          "base_uri": "https://localhost:8080/"
        },
        "outputId": "20c47b60-6228-4414-9cae-b7e613054b23"
      },
      "execution_count": 33,
      "outputs": [
        {
          "output_type": "stream",
          "name": "stdout",
          "text": [
            "Primera fila: [10 20 30]\n",
            "Segunda columna: [20 50]\n",
            "Subarray:\n",
            " [[10 20]\n",
            " [40 50]]\n"
          ]
        }
      ]
    },
    {
      "cell_type": "markdown",
      "source": [
        "**Ejercicios**\n",
        "\n",
        "Dado un array de forma (5, 5), extrae la submatriz central de forma (3, 3).\n"
      ],
      "metadata": {
        "id": "h0hmXAUWLVMH"
      }
    },
    {
      "cell_type": "code",
      "source": [
        "x = np.random.randint(0,100,(5,5))\n",
        "print(x)\n",
        "print(x[1:4,1:4])"
      ],
      "metadata": {
        "id": "pE8qS-fkLXMs",
        "colab": {
          "base_uri": "https://localhost:8080/"
        },
        "outputId": "7afe1077-10b0-43d7-e7fd-723519f218ab"
      },
      "execution_count": 39,
      "outputs": [
        {
          "output_type": "stream",
          "name": "stdout",
          "text": [
            "[[23 15 12 14 89]\n",
            " [40 94 74 76 57]\n",
            " [94 91 80 14  1]\n",
            " [ 9 66 10  5 22]\n",
            " [63 36 60 47  1]]\n",
            "[[94 74 76]\n",
            " [91 80 14]\n",
            " [66 10  5]]\n"
          ]
        }
      ]
    },
    {
      "cell_type": "markdown",
      "source": [
        "Cambia los elementos de la última fila de un array a ceros.\n"
      ],
      "metadata": {
        "id": "kCzFymdvLXeE"
      }
    },
    {
      "cell_type": "code",
      "source": [
        "x[-1, :] = 0\n",
        "print(x)"
      ],
      "metadata": {
        "id": "uhlekJpXLYNM",
        "colab": {
          "base_uri": "https://localhost:8080/"
        },
        "outputId": "af9f70d3-24a9-475c-c1fb-7b202295ef4c"
      },
      "execution_count": 40,
      "outputs": [
        {
          "output_type": "stream",
          "name": "stdout",
          "text": [
            "[[23 15 12 14 89]\n",
            " [40 94 74 76 57]\n",
            " [94 91 80 14  1]\n",
            " [ 9 66 10  5 22]\n",
            " [ 0  0  0  0  0]]\n"
          ]
        }
      ]
    },
    {
      "cell_type": "markdown",
      "source": [
        "Invierte el orden de los elementos en un array unidimensional.\n"
      ],
      "metadata": {
        "id": "8Jd2SqOnLYjM"
      }
    },
    {
      "cell_type": "code",
      "source": [
        "np.random.seed(42)\n",
        "\n",
        "x = np.random.rand(5)\n",
        "print(f\"Current: {x}\")\n",
        "x_inv = x[::-1]\n",
        "print(f\"Inverted: {x_inv}\")"
      ],
      "metadata": {
        "id": "gfP97SQ-LZDH",
        "colab": {
          "base_uri": "https://localhost:8080/"
        },
        "outputId": "5f90b244-51da-4cb9-a420-ab395855c0a5"
      },
      "execution_count": 48,
      "outputs": [
        {
          "output_type": "stream",
          "name": "stdout",
          "text": [
            "Current: [0.37454012 0.95071431 0.73199394 0.59865848 0.15601864]\n",
            "Inverted: [0.15601864 0.59865848 0.73199394 0.95071431 0.37454012]\n"
          ]
        }
      ]
    },
    {
      "cell_type": "markdown",
      "source": [
        "## 6. Manipulación de la Forma"
      ],
      "metadata": {
        "id": "tUQbknw-La1r"
      }
    },
    {
      "cell_type": "markdown",
      "source": [
        "### 6.1. Reshape\n",
        "\n",
        "Cambiar la forma de un array sin alterar sus datos."
      ],
      "metadata": {
        "id": "awa1o4IaLiBN"
      }
    },
    {
      "cell_type": "markdown",
      "source": [
        "**Ejemplo 1:** Reshape Básico"
      ],
      "metadata": {
        "id": "wz7bgZdOLlBz"
      }
    },
    {
      "cell_type": "code",
      "source": [
        "array = np.arange(12)\n",
        "reshaped_array = array.reshape(3, 4)\n",
        "print(\"Array reestructurado:\\n\", reshaped_array)\n"
      ],
      "metadata": {
        "id": "pDdVT82jLoLT",
        "colab": {
          "base_uri": "https://localhost:8080/"
        },
        "outputId": "97b274dd-4958-4bdf-e72d-08300e529dc9"
      },
      "execution_count": 49,
      "outputs": [
        {
          "output_type": "stream",
          "name": "stdout",
          "text": [
            "Array reestructurado:\n",
            " [[ 0  1  2  3]\n",
            " [ 4  5  6  7]\n",
            " [ 8  9 10 11]]\n"
          ]
        }
      ]
    },
    {
      "cell_type": "markdown",
      "source": [
        "**Ejemplo 2:** Reshape con -1"
      ],
      "metadata": {
        "id": "wTsrHxKQLpk0"
      }
    },
    {
      "cell_type": "code",
      "source": [
        "# NumPy calcula automáticamente el tamaño faltante\n",
        "reshaped_array = array.reshape(2, -1)\n",
        "print(\"Array reestructurado con -1:\\n\", reshaped_array)\n"
      ],
      "metadata": {
        "id": "I9GVSmOfLuNM",
        "colab": {
          "base_uri": "https://localhost:8080/"
        },
        "outputId": "08d53de0-9e7b-4589-d7c8-9586a75ebdc9"
      },
      "execution_count": 50,
      "outputs": [
        {
          "output_type": "stream",
          "name": "stdout",
          "text": [
            "Array reestructurado con -1:\n",
            " [[ 0  1  2  3  4  5]\n",
            " [ 6  7  8  9 10 11]]\n"
          ]
        }
      ]
    },
    {
      "cell_type": "markdown",
      "source": [
        "**Ejercicios**\n",
        "\n",
        "Convierte un array de forma (6,) en uno de forma (2, 3).\n"
      ],
      "metadata": {
        "id": "xFrtwPcILxiV"
      }
    },
    {
      "cell_type": "code",
      "source": [
        "x = np.arange(6)\n",
        "print(x)\n",
        "print(x.reshape(2,3))"
      ],
      "metadata": {
        "id": "pArTpgpALzyF",
        "colab": {
          "base_uri": "https://localhost:8080/"
        },
        "outputId": "36ca842f-4a61-4b95-88ac-5c2c173f1ea1"
      },
      "execution_count": 51,
      "outputs": [
        {
          "output_type": "stream",
          "name": "stdout",
          "text": [
            "[0 1 2 3 4 5]\n",
            "[[0 1 2]\n",
            " [3 4 5]]\n"
          ]
        }
      ]
    },
    {
      "cell_type": "markdown",
      "source": [
        "Dado un array de forma (4, 3), conviértelo en uno de forma (2, 2, 3).\n"
      ],
      "metadata": {
        "id": "t0XuWwrdL0HC"
      }
    },
    {
      "cell_type": "code",
      "source": [
        "x = np.random.randint(0,100,(4,3))\n",
        "print(x)\n",
        "print(\"\\n\")\n",
        "print(x.reshape(2,2,3))"
      ],
      "metadata": {
        "id": "9q0njuxFL1ac",
        "colab": {
          "base_uri": "https://localhost:8080/"
        },
        "outputId": "7025d1f6-3bdf-4aa3-997b-e66f312596d3"
      },
      "execution_count": 53,
      "outputs": [
        {
          "output_type": "stream",
          "name": "stdout",
          "text": [
            "[[29 37  1]\n",
            " [63 59 20]\n",
            " [32 75 57]\n",
            " [21 88 48]]\n",
            "\n",
            "\n",
            "[[[29 37  1]\n",
            "  [63 59 20]]\n",
            "\n",
            " [[32 75 57]\n",
            "  [21 88 48]]]\n"
          ]
        }
      ]
    },
    {
      "cell_type": "markdown",
      "source": [
        "Aplana un array multidimensional a un array unidimensional."
      ],
      "metadata": {
        "id": "P-mXYzDrL1tk"
      }
    },
    {
      "cell_type": "code",
      "source": [
        "x.flatten()"
      ],
      "metadata": {
        "id": "nXzfrF39L2KE",
        "colab": {
          "base_uri": "https://localhost:8080/"
        },
        "outputId": "cd80f684-b132-4894-bd70-6c42c5adeb5d"
      },
      "execution_count": 54,
      "outputs": [
        {
          "output_type": "execute_result",
          "data": {
            "text/plain": [
              "array([29, 37,  1, 63, 59, 20, 32, 75, 57, 21, 88, 48])"
            ]
          },
          "metadata": {},
          "execution_count": 54
        }
      ]
    },
    {
      "cell_type": "markdown",
      "source": [
        "### 6.2. Transposición\n",
        "\n",
        "Intercambia los ejes de un array."
      ],
      "metadata": {
        "id": "TFnrJvXzL33n"
      }
    },
    {
      "cell_type": "markdown",
      "source": [
        "**Ejemplo 1:** Transposición de Matriz"
      ],
      "metadata": {
        "id": "tI4uLHpaL7Tw"
      }
    },
    {
      "cell_type": "code",
      "source": [
        "matrix = np.array([[1, 2], [3, 4], [5, 6]])\n",
        "transposed_matrix = matrix.T\n",
        "print(\"Matriz original:\\n\", matrix)\n",
        "print(\"Matriz transpuesta:\\n\", transposed_matrix)\n"
      ],
      "metadata": {
        "id": "pNW8t7itL6xm",
        "colab": {
          "base_uri": "https://localhost:8080/"
        },
        "outputId": "b8fa28f3-75ae-42f6-a478-e61690de185a"
      },
      "execution_count": 55,
      "outputs": [
        {
          "output_type": "stream",
          "name": "stdout",
          "text": [
            "Matriz original:\n",
            " [[1 2]\n",
            " [3 4]\n",
            " [5 6]]\n",
            "Matriz transpuesta:\n",
            " [[1 3 5]\n",
            " [2 4 6]]\n"
          ]
        }
      ]
    },
    {
      "cell_type": "markdown",
      "source": [
        "**Ejemplo 2:** Transposición de Arrays de Mayor Dimensión"
      ],
      "metadata": {
        "id": "_AI5fOwlL-4A"
      }
    },
    {
      "cell_type": "code",
      "source": [
        "array = np.arange(24).reshape(2, 3, 4)\n",
        "print(array)\n",
        "transposed_array = array.transpose(1, 0, 2)\n",
        "print(\"Array transpuesto:\\n\", transposed_array.shape)\n",
        "print(transposed_array)"
      ],
      "metadata": {
        "id": "78kfzyp8MCGo",
        "colab": {
          "base_uri": "https://localhost:8080/"
        },
        "outputId": "55c3f8da-d9fd-4962-866d-9ca24f6947f1"
      },
      "execution_count": 57,
      "outputs": [
        {
          "output_type": "stream",
          "name": "stdout",
          "text": [
            "[[[ 0  1  2  3]\n",
            "  [ 4  5  6  7]\n",
            "  [ 8  9 10 11]]\n",
            "\n",
            " [[12 13 14 15]\n",
            "  [16 17 18 19]\n",
            "  [20 21 22 23]]]\n",
            "Array transpuesto:\n",
            " (3, 2, 4)\n",
            "[[[ 0  1  2  3]\n",
            "  [12 13 14 15]]\n",
            "\n",
            " [[ 4  5  6  7]\n",
            "  [16 17 18 19]]\n",
            "\n",
            " [[ 8  9 10 11]\n",
            "  [20 21 22 23]]]\n"
          ]
        }
      ]
    },
    {
      "cell_type": "markdown",
      "source": [
        "**Ejercicios**\n",
        "\n",
        "Transpón una matriz de forma (5, 3).\n"
      ],
      "metadata": {
        "id": "XzHttlewMEM8"
      }
    },
    {
      "cell_type": "code",
      "source": [
        "x = np.random.randint(0,100,(5,3))\n",
        "print(x)\n",
        "print(\"\\n\")\n",
        "print(x.T)"
      ],
      "metadata": {
        "id": "dnulkEUjMGc6",
        "colab": {
          "base_uri": "https://localhost:8080/"
        },
        "outputId": "f49442e0-ac33-4eaf-a11f-8b10e739b7d4"
      },
      "execution_count": 58,
      "outputs": [
        {
          "output_type": "stream",
          "name": "stdout",
          "text": [
            "[[90 58 41]\n",
            " [91 59 79]\n",
            " [14 61 61]\n",
            " [46 61 50]\n",
            " [54 63  2]]\n",
            "\n",
            "\n",
            "[[90 91 14 46 54]\n",
            " [58 59 61 61 63]\n",
            " [41 79 61 50  2]]\n"
          ]
        }
      ]
    },
    {
      "cell_type": "markdown",
      "source": [
        "Dado un array de forma (2, 3, 4), reorganiza sus ejes para obtener un array de forma (4, 2, 3).\n"
      ],
      "metadata": {
        "id": "_h4vJO46MG0r"
      }
    },
    {
      "cell_type": "code",
      "source": [
        "x = np.random.randint(0,100,(2,3,4))\n",
        "print(x)\n",
        "print(\"\\n\")\n",
        "print(x.transpose(2,0,1))"
      ],
      "metadata": {
        "id": "wlOawsFFMIPr",
        "colab": {
          "base_uri": "https://localhost:8080/"
        },
        "outputId": "6544c813-0b96-4574-c527-e979c25b2e71"
      },
      "execution_count": 59,
      "outputs": [
        {
          "output_type": "stream",
          "name": "stdout",
          "text": [
            "[[[50  6 20 72]\n",
            "  [38 17  3 88]\n",
            "  [59 13  8 89]]\n",
            "\n",
            " [[52  1 83 91]\n",
            "  [59 70 43  7]\n",
            "  [46 34 77 80]]]\n",
            "\n",
            "\n",
            "[[[50 38 59]\n",
            "  [52 59 46]]\n",
            "\n",
            " [[ 6 17 13]\n",
            "  [ 1 70 34]]\n",
            "\n",
            " [[20  3  8]\n",
            "  [83 43 77]]\n",
            "\n",
            " [[72 88 89]\n",
            "  [91  7 80]]]\n"
          ]
        }
      ]
    },
    {
      "cell_type": "markdown",
      "source": [
        "Verifica que la transposición de una matriz simétrica es igual a la matriz original."
      ],
      "metadata": {
        "id": "m3ygS37XMImF"
      }
    },
    {
      "cell_type": "code",
      "source": [
        "x = np.random.randint(0,100,(5,5))\n",
        "\n",
        "x_T = x.T\n",
        "\n",
        "x_symmetric = (x + x_T)/2\n",
        "\n",
        "print(x_symmetric)\n",
        "print(\"\\n\")\n",
        "print(x_symmetric.T)"
      ],
      "metadata": {
        "id": "83OyARYcMJXZ",
        "colab": {
          "base_uri": "https://localhost:8080/"
        },
        "outputId": "040cbd50-9b89-4ba9-c49a-7564107867a5"
      },
      "execution_count": 67,
      "outputs": [
        {
          "output_type": "stream",
          "name": "stdout",
          "text": [
            "[[12.  29.  63.  70.5 86.5]\n",
            " [29.  65.  23.  36.5 61. ]\n",
            " [63.  23.  27.  44.  69.5]\n",
            " [70.5 36.5 44.  74.  45.5]\n",
            " [86.5 61.  69.5 45.5 26. ]]\n",
            "\n",
            "\n",
            "[[12.  29.  63.  70.5 86.5]\n",
            " [29.  65.  23.  36.5 61. ]\n",
            " [63.  23.  27.  44.  69.5]\n",
            " [70.5 36.5 44.  74.  45.5]\n",
            " [86.5 61.  69.5 45.5 26. ]]\n"
          ]
        }
      ]
    },
    {
      "cell_type": "markdown",
      "source": [
        "### 6.3. Concatenación y División de Arrays\n",
        "\n",
        "Combina o divide arrays."
      ],
      "metadata": {
        "id": "Qc2skN72MLCv"
      }
    },
    {
      "cell_type": "markdown",
      "source": [
        "**Ejemplo 1:** Concatenación"
      ],
      "metadata": {
        "id": "vIMadNdRMOs1"
      }
    },
    {
      "cell_type": "code",
      "source": [
        "a = np.array([1, 2, 3])\n",
        "b = np.array([4, 5, 6])\n",
        "\n",
        "# Concatenación unidimensional\n",
        "concat_array = np.concatenate((a, b))\n",
        "print(\"Array concatenado:\", concat_array)\n",
        "\n",
        "# Concatenación bidimensional\n",
        "array1 = np.array([[1, 2], [3, 4]])\n",
        "array2 = np.array([[5, 6]])\n",
        "\n",
        "concat_2d = np.concatenate((array1, array2), axis=0)\n",
        "print(\"Array 2D concatenado:\\n\", concat_2d)\n"
      ],
      "metadata": {
        "id": "yVyNl1AZMRS1",
        "colab": {
          "base_uri": "https://localhost:8080/"
        },
        "outputId": "3521492d-6a54-4235-b46a-38c44594e103"
      },
      "execution_count": 71,
      "outputs": [
        {
          "output_type": "stream",
          "name": "stdout",
          "text": [
            "Array concatenado: [1 2 3 4 5 6]\n",
            "Array 2D concatenado:\n",
            " [[1 2]\n",
            " [3 4]\n",
            " [5 6]]\n"
          ]
        }
      ]
    },
    {
      "cell_type": "markdown",
      "source": [
        "**Ejemplo 2:** División\n"
      ],
      "metadata": {
        "id": "z7BjilPiMS1O"
      }
    },
    {
      "cell_type": "code",
      "source": [
        "# División en arrays más pequeños\n",
        "split_array = np.array_split(concat_array, 3)\n",
        "print(\"Arrays divididos:\", split_array)\n"
      ],
      "metadata": {
        "id": "dUgLs1SBMVi8",
        "colab": {
          "base_uri": "https://localhost:8080/"
        },
        "outputId": "34440b78-437e-4b06-8723-ea31770fab92"
      },
      "execution_count": 72,
      "outputs": [
        {
          "output_type": "stream",
          "name": "stdout",
          "text": [
            "Arrays divididos: [array([1, 2]), array([3, 4]), array([5, 6])]\n"
          ]
        }
      ]
    },
    {
      "cell_type": "markdown",
      "source": [
        "**Ejercicios**\n",
        "\n",
        "Une dos matrices de forma (2, 2) para crear una de forma (2, 4).\n"
      ],
      "metadata": {
        "id": "mb8oGeA_MXoC"
      }
    },
    {
      "cell_type": "code",
      "source": [
        "np.random.seed(42)\n",
        "\n",
        "x = np.random.randint(0,100,(2,2))\n",
        "y = np.random.randint(0,100,(2,2))\n",
        "\n",
        "print(x)\n",
        "print(\"\\n\")\n",
        "print(y)\n",
        "print(\"\\n\")\n",
        "\n",
        "print(np.concatenate((x,y), axis=1))"
      ],
      "metadata": {
        "id": "qg7yKTyHMZfS",
        "colab": {
          "base_uri": "https://localhost:8080/"
        },
        "outputId": "5108021c-454f-461a-928b-341f45d7a2d2"
      },
      "execution_count": 101,
      "outputs": [
        {
          "output_type": "stream",
          "name": "stdout",
          "text": [
            "[[51 92]\n",
            " [14 71]]\n",
            "\n",
            "\n",
            "[[60 20]\n",
            " [82 86]]\n",
            "\n",
            "\n",
            "[[51 92 60 20]\n",
            " [14 71 82 86]]\n"
          ]
        }
      ]
    },
    {
      "cell_type": "markdown",
      "source": [
        "Divide un array de forma (12,) en tres arrays iguales.\n"
      ],
      "metadata": {
        "id": "81cnqVV4MZ2k"
      }
    },
    {
      "cell_type": "code",
      "source": [
        "x = np.arange(12)\n",
        "print(x)\n",
        "print(\"\\n\")\n",
        "print(np.array_split(x,3))"
      ],
      "metadata": {
        "id": "0zMqE5LoMavw",
        "colab": {
          "base_uri": "https://localhost:8080/"
        },
        "outputId": "153ddcb2-5b61-440b-b7c7-bffe74a2f414"
      },
      "execution_count": 102,
      "outputs": [
        {
          "output_type": "stream",
          "name": "stdout",
          "text": [
            "[ 0  1  2  3  4  5  6  7  8  9 10 11]\n",
            "\n",
            "\n",
            "[array([0, 1, 2, 3]), array([4, 5, 6, 7]), array([ 8,  9, 10, 11])]\n"
          ]
        }
      ]
    },
    {
      "cell_type": "markdown",
      "source": [
        "Combina verticalmente dos arrays de forma (3, 2)."
      ],
      "metadata": {
        "id": "ZfNxDrzaMbEH"
      }
    },
    {
      "cell_type": "code",
      "source": [
        "x = np.random.randint(0,100,(3,2))\n",
        "y = np.random.randint(0,100,(3,2))\n",
        "\n",
        "print(x)\n",
        "print(\"\\n\")\n",
        "print(y)\n",
        "print(\"\\n\")\n",
        "\n",
        "print(np.concatenate((x,y), axis=0))\n"
      ],
      "metadata": {
        "id": "pVzdVF2RMbf1",
        "colab": {
          "base_uri": "https://localhost:8080/"
        },
        "outputId": "99a4715c-5381-49a2-e23e-9975a0974fc0"
      },
      "execution_count": 103,
      "outputs": [
        {
          "output_type": "stream",
          "name": "stdout",
          "text": [
            "[[74 74]\n",
            " [87 99]\n",
            " [23  2]]\n",
            "\n",
            "\n",
            "[[21 52]\n",
            " [ 1 87]\n",
            " [29 37]]\n",
            "\n",
            "\n",
            "[[74 74]\n",
            " [87 99]\n",
            " [23  2]\n",
            " [21 52]\n",
            " [ 1 87]\n",
            " [29 37]]\n"
          ]
        }
      ]
    },
    {
      "cell_type": "code",
      "source": [
        "# concatenation of 2 matrices of shape 2,2,4 on the thrid dimention\n",
        "np.random.seed(42)\n",
        "\n",
        "x = np.random.randint(0,100,(2,2,3))\n",
        "y = np.random.randint(0,100,(2,2,3))\n",
        "\n",
        "print(x)\n",
        "print(\"\\n\")\n",
        "print(y)\n",
        "print(\"\\n\")\n",
        "\n",
        "print(np.concatenate((x,y), axis=1, out=None))\n"
      ],
      "metadata": {
        "id": "8OLH5iUjBAkb",
        "outputId": "092142b1-f00c-4542-eabf-4ddace47b866",
        "colab": {
          "base_uri": "https://localhost:8080/"
        }
      },
      "execution_count": 114,
      "outputs": [
        {
          "output_type": "stream",
          "name": "stdout",
          "text": [
            "[[[51 92 14]\n",
            "  [71 60 20]]\n",
            "\n",
            " [[82 86 74]\n",
            "  [74 87 99]]]\n",
            "\n",
            "\n",
            "[[[23  2 21]\n",
            "  [52  1 87]]\n",
            "\n",
            " [[29 37  1]\n",
            "  [63 59 20]]]\n",
            "\n",
            "\n",
            "[[[51 92 14]\n",
            "  [71 60 20]\n",
            "  [23  2 21]\n",
            "  [52  1 87]]\n",
            "\n",
            " [[82 86 74]\n",
            "  [74 87 99]\n",
            "  [29 37  1]\n",
            "  [63 59 20]]]\n"
          ]
        }
      ]
    },
    {
      "cell_type": "markdown",
      "source": [
        "## 7. Broadcasting\n",
        "\n",
        "\n",
        "Broadcasting en NumPy es una poderosa técnica que permite realizar operaciones entre arreglos de diferentes formas (shapes) de manera eficiente y sin necesidad de escribir bucles explícitos. Se utiliza para extender las dimensiones de un arreglo más pequeño para que sea compatible con el arreglo más grande en una operación."
      ],
      "metadata": {
        "id": "Mi8xYzraMdP8"
      }
    },
    {
      "cell_type": "markdown",
      "source": [
        "**Ejemplo 1:** Suma con Broadcasting"
      ],
      "metadata": {
        "id": "OFAGBVBaMfVr"
      }
    },
    {
      "cell_type": "code",
      "source": [
        "a = np.array([1, 2, 3]) # Forma: (3,)\n",
        "b = np.array([[10], [20], [30]]) # Forma: (3, 1)\n",
        "\n",
        "result = a + b\n",
        "print(\"Resultado de broadcasting:\\n\", result)"
      ],
      "metadata": {
        "id": "HK1zoui5Mhxn",
        "colab": {
          "base_uri": "https://localhost:8080/"
        },
        "outputId": "d72e4ae4-0fcb-4ff9-ec4c-624721a15fde"
      },
      "execution_count": 73,
      "outputs": [
        {
          "output_type": "stream",
          "name": "stdout",
          "text": [
            "Resultado de broadcasting:\n",
            " [[11 12 13]\n",
            " [21 22 23]\n",
            " [31 32 33]]\n"
          ]
        }
      ]
    },
    {
      "cell_type": "markdown",
      "source": [
        "**Ejemplo 2:** Multiplicación con Broadcasting"
      ],
      "metadata": {
        "id": "E5DO-ezhMjFn"
      }
    },
    {
      "cell_type": "code",
      "source": [
        "array = np.array([[1, 2, 3], [4, 5, 6]])\n",
        "scalar = 2\n",
        "\n",
        "result = array * scalar\n",
        "print(\"Multiplicación por escalar:\\n\", result)\n"
      ],
      "metadata": {
        "id": "Cx7HVNsYMmKp",
        "colab": {
          "base_uri": "https://localhost:8080/"
        },
        "outputId": "83fb57d7-17cc-44cd-a579-ba21580f282a"
      },
      "execution_count": 74,
      "outputs": [
        {
          "output_type": "stream",
          "name": "stdout",
          "text": [
            "Multiplicación por escalar:\n",
            " [[ 2  4  6]\n",
            " [ 8 10 12]]\n"
          ]
        }
      ]
    },
    {
      "cell_type": "code",
      "source": [
        "a = np.array([1, 2])  # Forma: (2,)\n",
        "b = np.array([[10],   # Forma: (3, 1)\n",
        "              [20],\n",
        "              [30]])\n",
        "\n",
        "# Esto lanza un error\n",
        "result = a + b\n",
        "result\n",
        "# El error ocurre porque las dimensiones (2,) y (3, 1) no son compatibles."
      ],
      "metadata": {
        "id": "cAdEfNMZxKwR",
        "colab": {
          "base_uri": "https://localhost:8080/"
        },
        "outputId": "738abc7a-8457-445e-e0f6-9d99116c1312"
      },
      "execution_count": 78,
      "outputs": [
        {
          "output_type": "execute_result",
          "data": {
            "text/plain": [
              "array([[11, 12],\n",
              "       [21, 22],\n",
              "       [31, 32]])"
            ]
          },
          "metadata": {},
          "execution_count": 78
        }
      ]
    },
    {
      "cell_type": "code",
      "source": [
        "a = np.array([[1, 2, 3], [4, 5, 6]])  # Forma: (2, 3)\n",
        "b = np.array([10, 20, 30])            # Forma: (3,)\n",
        "\n",
        "result = a + b\n",
        "print(result)\n"
      ],
      "metadata": {
        "id": "1VtgTXN5xUEw",
        "colab": {
          "base_uri": "https://localhost:8080/"
        },
        "outputId": "85ef65cc-6ed7-472a-8918-f5d4770bcdf1"
      },
      "execution_count": 79,
      "outputs": [
        {
          "output_type": "stream",
          "name": "stdout",
          "text": [
            "[[11 22 33]\n",
            " [14 25 36]]\n"
          ]
        }
      ]
    },
    {
      "cell_type": "markdown",
      "source": [
        "**Normalización de Datos:**\n",
        "\n",
        "Supongamos que tienes un arreglo con datos y quieres normalizar cada columna restando el promedio y dividiendo entre la desviación estándar:"
      ],
      "metadata": {
        "id": "ikCG36TUxZkq"
      }
    },
    {
      "cell_type": "code",
      "source": [
        "data = np.array([[1, 2, 3],\n",
        "                 [4, 5, 6],\n",
        "                 [7, 8, 9]])\n",
        "\n",
        "mean = data.mean(axis=0)  # Promedio de cada columna\n",
        "std = data.std(axis=0)    # Desviación estándar de cada columna\n",
        "\n",
        "normalized = (data - mean) / std\n",
        "print(normalized)\n"
      ],
      "metadata": {
        "id": "STMbCmqGxaBI",
        "colab": {
          "base_uri": "https://localhost:8080/"
        },
        "outputId": "2eb349f5-3962-450e-ba2b-f229aed6f595"
      },
      "execution_count": 80,
      "outputs": [
        {
          "output_type": "stream",
          "name": "stdout",
          "text": [
            "[[-1.22474487 -1.22474487 -1.22474487]\n",
            " [ 0.          0.          0.        ]\n",
            " [ 1.22474487  1.22474487  1.22474487]]\n"
          ]
        }
      ]
    },
    {
      "cell_type": "markdown",
      "source": [
        "Si intentas operar arreglos con formas incompatibles, obtendrás un error como:\n",
        "\n"
      ],
      "metadata": {
        "id": "LXt9tCpMxiD3"
      }
    },
    {
      "cell_type": "markdown",
      "source": [
        "Ejercicios\n",
        "\n",
        "Suma un vector de forma (3,) a una matriz de forma (3, 3).\n"
      ],
      "metadata": {
        "id": "6GnTY3WyMoTc"
      }
    },
    {
      "cell_type": "code",
      "source": [],
      "metadata": {
        "id": "LVDCyji4MtPC"
      },
      "execution_count": null,
      "outputs": []
    },
    {
      "cell_type": "markdown",
      "source": [
        "Multiplica cada columna de una matriz de forma (4, 3) por un vector de forma (3,).\n"
      ],
      "metadata": {
        "id": "_7LyIs6-Mtgc"
      }
    },
    {
      "cell_type": "code",
      "source": [],
      "metadata": {
        "id": "eYeoNlxBMudM"
      },
      "execution_count": null,
      "outputs": []
    },
    {
      "cell_type": "markdown",
      "source": [
        "Resta un escalar de todos los elementos de un array.\n"
      ],
      "metadata": {
        "id": "kqUHVR8PMuzI"
      }
    },
    {
      "cell_type": "code",
      "source": [],
      "metadata": {
        "id": "qKzEd0FmMvR5"
      },
      "execution_count": null,
      "outputs": []
    },
    {
      "cell_type": "markdown",
      "source": [
        "## 8. Álgebra Lineal\n",
        "\n",
        "NumPy proporciona funciones avanzadas para realizar operaciones de álgebra lineal.\n",
        "\n"
      ],
      "metadata": {
        "id": "qwCQCFpPMw3A"
      }
    },
    {
      "cell_type": "markdown",
      "source": [
        "### 8.1. Producto Punto y Producto Cruz\n",
        "\n"
      ],
      "metadata": {
        "id": "3hxZV1dRMzsW"
      }
    },
    {
      "cell_type": "markdown",
      "source": [
        "### **Producto Punto (o Escalar)**\n",
        "\n",
        "El producto punto de dos vectores es una operación que resulta en un número escalar. Se calcula multiplicando las componentes correspondientes de los vectores y sumándolas.\n",
        "\n"
      ],
      "metadata": {
        "id": "EbUCUy7JdBHV"
      }
    },
    {
      "cell_type": "markdown",
      "source": [
        "\n",
        "Dado dos vectores:\n",
        "$\n",
        "\\mathbf{A} = (a_1, \\; a_2, \\; a_3) \\quad \\text{y} \\quad \\mathbf{B} = (b_1, \\; b_2, \\; b_3)\n",
        "$\n",
        "\n"
      ],
      "metadata": {
        "id": "aHbHuk7beNnZ"
      }
    },
    {
      "cell_type": "markdown",
      "source": [
        "Cálculo del producto punto\n"
      ],
      "metadata": {
        "id": "X0QiuRrjh59U"
      }
    },
    {
      "cell_type": "markdown",
      "source": [
        "\n",
        "$\n",
        "\\mathbf{A} \\cdot \\mathbf{B} = a_1 b_1 + a_2 b_2 + a_3 b_3\n",
        "$"
      ],
      "metadata": {
        "id": "AGNbVHLThvj-"
      }
    },
    {
      "cell_type": "markdown",
      "source": [
        "**Ejemplo 1:** Producto Punto\n"
      ],
      "metadata": {
        "id": "2pMPVmL8kTYj"
      }
    },
    {
      "cell_type": "code",
      "source": [
        "import numpy as np\n",
        "\n",
        "vector1 = np.array([1, 2, 3])\n",
        "vector2 = np.array([3, 4, 5])\n",
        "\n",
        "dot_product = np.dot(vector1, vector2)\n",
        "print(\"Producto punto:\", dot_product)\n"
      ],
      "metadata": {
        "id": "6XKNhROtM2vr",
        "outputId": "57c705f9-36ab-4cb1-f09b-c7292ed9fd68",
        "colab": {
          "base_uri": "https://localhost:8080/"
        }
      },
      "execution_count": 81,
      "outputs": [
        {
          "output_type": "stream",
          "name": "stdout",
          "text": [
            "Producto punto: 26\n"
          ]
        }
      ]
    },
    {
      "cell_type": "markdown",
      "source": [
        "### **Producto Cruz (o Vectorial)**\n",
        "\n",
        "El producto cruz de dos vectores da como resultado un nuevo vector perpendicular a ambos vectores originales.\n",
        "\n"
      ],
      "metadata": {
        "id": "TlVRoNYVfavl"
      }
    },
    {
      "cell_type": "markdown",
      "source": [
        "\n",
        "Dado dos vectores:\n",
        "$\n",
        "\\mathbf{A} = (a_1, \\; a_2, \\; a_3) \\quad \\text{y} \\quad \\mathbf{B} = (b_1, \\; b_2, \\; b_3)\n",
        "$\n",
        "\n"
      ],
      "metadata": {
        "id": "cmqdY9GjisO0"
      }
    },
    {
      "cell_type": "markdown",
      "source": [
        "Cálculo del producto cruz Usando componentes:"
      ],
      "metadata": {
        "id": "t_1fRT4viwGC"
      }
    },
    {
      "cell_type": "markdown",
      "source": [
        "$\n",
        "\\mathbf{A} \\times \\mathbf{B} = \\left( a_2 b_3 - a_3 b_2, \\; a_3 b_1 - a_1 b_3, \\; a_1 b_2 - a_2 b_1 \\right)\n",
        "$"
      ],
      "metadata": {
        "id": "vEOEwDcxf3oB"
      }
    },
    {
      "cell_type": "markdown",
      "source": [
        "O utilizando el determinante de una matriz:\n"
      ],
      "metadata": {
        "id": "CZ-B_SA9jYA8"
      }
    },
    {
      "cell_type": "markdown",
      "source": [
        "$\n",
        "\\mathbf{A} \\times \\mathbf{B} = \\begin{vmatrix}\n",
        "\\mathbf{i} & \\mathbf{j} & \\mathbf{k} \\\\\n",
        "a_1 & a_2 & a_3 \\\\\n",
        "b_1 & b_2 & b_3 \\\\\n",
        "\\end{vmatrix}\n",
        "$"
      ],
      "metadata": {
        "id": "lKgEndJni8zp"
      }
    },
    {
      "cell_type": "markdown",
      "source": [
        "Desarrollando el determinante:"
      ],
      "metadata": {
        "id": "gmka7mpUgGOK"
      }
    },
    {
      "cell_type": "markdown",
      "source": [
        "$\n",
        "\\mathbf{A} \\times \\mathbf{B} = \\left( a_2 b_3 - a_3 b_2 \\right) \\mathbf{i} - \\left( a_1 b_3 - a_3 b_1 \\right) \\mathbf{j} + \\left( a_1 b_2 - a_2 b_1 \\right) \\mathbf{k}\n",
        "$"
      ],
      "metadata": {
        "id": "gBzIXfqVf8lm"
      }
    },
    {
      "cell_type": "markdown",
      "source": [
        "**Ejemplo 2:** Producto Cruz"
      ],
      "metadata": {
        "id": "musW8j88M4Ce"
      }
    },
    {
      "cell_type": "code",
      "source": [
        "vector1 = np.array([1, 2, 3])\n",
        "vector2 = np.array([3, 4, 5])\n",
        "\n",
        "cross_product = np.cross(vector1, vector2)\n",
        "print(\"Producto cruz:\", cross_product)"
      ],
      "metadata": {
        "id": "DVV5Ct9UM7jI",
        "outputId": "149b986a-9bc7-4847-b538-d35617b48dee",
        "colab": {
          "base_uri": "https://localhost:8080/"
        }
      },
      "execution_count": 85,
      "outputs": [
        {
          "output_type": "stream",
          "name": "stdout",
          "text": [
            "Producto cruz: [-2  4 -2]\n"
          ]
        }
      ]
    },
    {
      "cell_type": "markdown",
      "source": [
        "**Ejercicios**\n",
        "\n",
        "Calcula el producto punto de dos vectores de tamaño 3.\n"
      ],
      "metadata": {
        "id": "9KKx0vUoM9om"
      }
    },
    {
      "cell_type": "code",
      "source": [],
      "metadata": {
        "id": "_lIBQXRdM_ss"
      },
      "execution_count": null,
      "outputs": []
    },
    {
      "cell_type": "markdown",
      "source": [
        "Encuentra el producto cruz de los vectores [2, 3, 4] y [5, 6, 7].\n"
      ],
      "metadata": {
        "id": "UdGwmryrNANS"
      }
    },
    {
      "cell_type": "code",
      "source": [],
      "metadata": {
        "id": "AbXYhb8xNBAd"
      },
      "execution_count": null,
      "outputs": []
    },
    {
      "cell_type": "markdown",
      "source": [
        "Verifica que el producto punto de dos vectores perpendiculares es cero."
      ],
      "metadata": {
        "id": "uxbUPwheNBWt"
      }
    },
    {
      "cell_type": "code",
      "source": [],
      "metadata": {
        "id": "psxC7t8uNCA9",
        "collapsed": true
      },
      "execution_count": null,
      "outputs": []
    },
    {
      "cell_type": "markdown",
      "source": [
        "### 8.2. Operaciones con Matrices\n",
        "\n"
      ],
      "metadata": {
        "id": "9GD5btdhNG5g"
      }
    },
    {
      "cell_type": "markdown",
      "source": [
        "**Operación Matmul (Multiplicación de Matrices)**\n",
        "\n",
        "La operación matmul, abreviatura de matrix multiplication (multiplicación de matrices), es una operación fundamental en álgebra lineal que combina dos matrices para producir una tercera matriz. Esta operación es esencial en campos como matemáticas, física, ingeniería y ciencias de la computación."
      ],
      "metadata": {
        "id": "jWwVl5pFl9Yz"
      }
    },
    {
      "cell_type": "markdown",
      "source": [
        "\n",
        "\n",
        "<img src=\"https://www.includehelp.com/python/images/numpy-1.jpg\" alt=\"HTML5 Icon\" width=\"700\" height=\"200\" >\n",
        "\n"
      ],
      "metadata": {
        "id": "Zp-U8VCQoLP_"
      }
    },
    {
      "cell_type": "markdown",
      "source": [
        "**Ejemplo 1:**  Multiplicación de Matrices"
      ],
      "metadata": {
        "id": "wRQX-iKIl--B"
      }
    },
    {
      "cell_type": "code",
      "source": [
        "matrix1 = np.array([[1, 2], [3, 4]])\n",
        "matrix2 = np.array([[2, 0], [1, 2]])\n",
        "\n",
        "product = np.matmul(matrix1, matrix2)\n",
        "print(\"Producto de matrices:\\n\", product)\n"
      ],
      "metadata": {
        "id": "ux8COFLsNL0W",
        "colab": {
          "base_uri": "https://localhost:8080/"
        },
        "outputId": "4b5a39f0-61ea-4ed0-c2bf-b457fd5a2d54"
      },
      "execution_count": 96,
      "outputs": [
        {
          "output_type": "stream",
          "name": "stdout",
          "text": [
            "Producto de matrices:\n",
            " [[ 4  4]\n",
            " [10  8]]\n"
          ]
        },
        {
          "output_type": "execute_result",
          "data": {
            "text/plain": [
              "array([[2, 0, 4, 0],\n",
              "       [1, 2, 2, 4],\n",
              "       [6, 0, 8, 0],\n",
              "       [3, 6, 4, 8]])"
            ]
          },
          "metadata": {},
          "execution_count": 96
        }
      ]
    },
    {
      "cell_type": "markdown",
      "source": [
        "**Inversa**"
      ],
      "metadata": {
        "id": "2NBCIXI8NNSn"
      }
    },
    {
      "cell_type": "markdown",
      "source": [
        "La inversa de una matriz es un concepto fundamental en álgebra lineal. Dada una matriz cuadrada A, su inversa, denotada como\n",
        "A**(−1), es otra matriz que cumple con la siguiente propiedad:"
      ],
      "metadata": {
        "id": "X43jLSpzpmve"
      }
    },
    {
      "cell_type": "markdown",
      "source": [
        "$\n",
        "\\mathbf{A} \\times \\mathbf{A}^{-1} = \\mathbf{A}^{-1} \\times \\mathbf{A} = \\mathbf{I}\n",
        "$\n"
      ],
      "metadata": {
        "id": "_V-UdPoZp09d"
      }
    },
    {
      "cell_type": "code",
      "source": [
        "matrix = np.array([[4, 7], [2, 6]])\n",
        "\n",
        "# Inversa\n",
        "inverse = np.linalg.inv(matrix)\n",
        "print(\"Inversa de la matriz:\\n\", inverse)\n",
        "\n"
      ],
      "metadata": {
        "id": "Jj3v2s7NNQUy",
        "colab": {
          "base_uri": "https://localhost:8080/"
        },
        "outputId": "8406a353-f827-4d5d-e293-756e5c8fc452"
      },
      "execution_count": 87,
      "outputs": [
        {
          "output_type": "stream",
          "name": "stdout",
          "text": [
            "Inversa de la matriz:\n",
            " [[ 0.6 -0.7]\n",
            " [-0.2  0.4]]\n"
          ]
        }
      ]
    },
    {
      "cell_type": "markdown",
      "source": [
        "**Determinante**"
      ],
      "metadata": {
        "id": "zz8WueKgqI5r"
      }
    },
    {
      "cell_type": "markdown",
      "source": [
        "El determinante es una función que asigna a cada matriz cuadrada un número escalar. Es una herramienta fundamental en álgebra lineal, utilizada para determinar si una matriz es invertible, calcular áreas, volúmenes y resolver sistemas de ecuaciones lineales."
      ],
      "metadata": {
        "id": "_wmKTeLRrBHF"
      }
    },
    {
      "cell_type": "markdown",
      "source": [
        "Considera la matriz:"
      ],
      "metadata": {
        "id": "_z4qb9MOrZ2H"
      }
    },
    {
      "cell_type": "markdown",
      "source": [
        "$\n",
        "\\boldsymbol{A} = \\begin{pmatrix}\n",
        "a_{11} & a_{12} & a_{13} \\\\\n",
        "a_{21} & a_{22} & a_{23} \\\\\n",
        "a_{31} & a_{32} & a_{33} \\\\\n",
        "\\end{pmatrix}\n",
        "$"
      ],
      "metadata": {
        "id": "SrVgHTDarUiE"
      }
    },
    {
      "cell_type": "markdown",
      "source": [
        "El determinante se calcula mediante la regla de Sarrus o por expansión de cofactores.\n",
        "\n",
        "**Regla de Sarrus:**"
      ],
      "metadata": {
        "id": "2xrhxsZTrcbX"
      }
    },
    {
      "cell_type": "markdown",
      "source": [
        "\n",
        "\n",
        " <img src=\"https://upload.wikimedia.org/wikipedia/commons/f/fd/Regla_de_Sarrus_01.svg\" alt=\"HTML5 Icon\" width=\"300\" height=\"300\" >\n"
      ],
      "metadata": {
        "id": "Sl2HgAwUrsvZ"
      }
    },
    {
      "cell_type": "markdown",
      "source": [
        "$\n",
        "\\det(\\boldsymbol{A}) = a_{11}a_{22}a_{33} + a_{12}a_{23}a_{31} + a_{13}a_{21}a_{32} - (a_{13}a_{22}a_{31} + a_{11}a_{23}a_{32} + a_{12}a_{21}a_{33})\n",
        "$"
      ],
      "metadata": {
        "id": "XckBEUFArf-X"
      }
    },
    {
      "cell_type": "code",
      "source": [
        "# Determinante\n",
        "determinante = np.linalg.det(matrix)\n",
        "print(\"Determinante de la matriz:\", determinante)\n"
      ],
      "metadata": {
        "id": "UuO9Mon6qJ34",
        "colab": {
          "base_uri": "https://localhost:8080/"
        },
        "outputId": "cd6db810-10ad-48e0-802b-1c4ab6981a26"
      },
      "execution_count": 88,
      "outputs": [
        {
          "output_type": "stream",
          "name": "stdout",
          "text": [
            "Determinante de la matriz: 10.000000000000002\n"
          ]
        }
      ]
    },
    {
      "cell_type": "markdown",
      "source": [
        "**Ejercicios**\n",
        "\n",
        "Calcula el determinante de una matriz de 3x3.\n"
      ],
      "metadata": {
        "id": "F7gr4WrENP8T"
      }
    },
    {
      "cell_type": "code",
      "source": [],
      "metadata": {
        "id": "dgkHn3INNUYh"
      },
      "execution_count": null,
      "outputs": []
    },
    {
      "cell_type": "markdown",
      "source": [
        "Encuentra la matriz inversa de una matriz cuadrada.\n"
      ],
      "metadata": {
        "id": "lGSjm1zrNUw9"
      }
    },
    {
      "cell_type": "code",
      "source": [],
      "metadata": {
        "id": "mZR5WSB1NVgS"
      },
      "execution_count": null,
      "outputs": []
    },
    {
      "cell_type": "markdown",
      "source": [
        "Verifica que el producto de una matriz y su inversa es la matriz identidad."
      ],
      "metadata": {
        "id": "GLh5imFcNV0n"
      }
    },
    {
      "cell_type": "code",
      "source": [],
      "metadata": {
        "id": "3IAoS6gYNWOR"
      },
      "execution_count": null,
      "outputs": []
    },
    {
      "cell_type": "markdown",
      "source": [
        "**Ejercicio 1:** Multiplicación de Matrices y Producto Punto\n",
        "\n",
        "- Crea dos matrices A y B de dimensiones compatibles.\n",
        "- Calcula la multiplicación de matrices C=A×B.\n",
        "- Calcula el producto punto de dos vectores.\n",
        "- Verifica si la multiplicación de matrices es conmutativa en este caso (es decir, si A×B=B×A)."
      ],
      "metadata": {
        "id": "paCjwWe5tG4H"
      }
    },
    {
      "cell_type": "code",
      "source": [],
      "metadata": {
        "id": "Gu8zG4lBtOao"
      },
      "execution_count": null,
      "outputs": []
    },
    {
      "cell_type": "markdown",
      "source": [
        "**Ejercicio 2:** Cálculo de la Inversa y Verificación\n",
        "\n",
        "- Crea una matriz cuadrada invertible A.\n",
        "- Calcula la inversa de A.\n",
        "- Verifica que A×A**(−1) es la matriz identidad."
      ],
      "metadata": {
        "id": "Gxo8fCZNtSxW"
      }
    },
    {
      "cell_type": "code",
      "source": [],
      "metadata": {
        "id": "80LJelKGtfiW"
      },
      "execution_count": null,
      "outputs": []
    },
    {
      "cell_type": "markdown",
      "source": [
        "**Ejercicio 3:** Cálculo de Determinante, Valores y Vectores Propios\n",
        "\n",
        "- Crea una matriz cuadrada A.\n",
        "- Calcula el determinante de A.\n",
        "- Calcula los valores propios y vectores propios de A.\n",
        "- Verifica la relación A×v=λv para un par valor propio y vector propio."
      ],
      "metadata": {
        "id": "wSTrLOEKtkMv"
      }
    },
    {
      "cell_type": "code",
      "source": [],
      "metadata": {
        "id": "B0aCxCLHts_N"
      },
      "execution_count": null,
      "outputs": []
    },
    {
      "cell_type": "markdown",
      "source": [
        "### 8.3. Sistemas de Ecuaciones Lineales\n",
        "\n",
        "Resuelve sistemas de ecuaciones lineales utilizando NumPy.\n",
        "\n",
        "\n"
      ],
      "metadata": {
        "id": "cWDRPmBtNZ8H"
      }
    },
    {
      "cell_type": "markdown",
      "source": [
        "**Ejemplo 1:** Sistema de Ecuaciones\n",
        "\n",
        "Resuelve el siguiente sistema:\n",
        "\n",
        "2x + 3y =  8\n",
        "\n",
        " x − 4y = −2\n"
      ],
      "metadata": {
        "id": "9YWckbt9knKa"
      }
    },
    {
      "cell_type": "code",
      "source": [
        "# Coeficientes de las variables\n",
        "A = np.array([[2, 3], [1, -4]])\n",
        "\n",
        "# Vector de constantes\n",
        "B = np.array([8, -2])\n",
        "\n",
        "# Solución\n",
        "solution = np.linalg.solve(A, B)\n",
        "print(\"Solución del sistema:\", solution)\n"
      ],
      "metadata": {
        "id": "CTzE5lAGk0k7",
        "colab": {
          "base_uri": "https://localhost:8080/"
        },
        "outputId": "3734111b-a565-42e5-8dd3-701c85d16a29"
      },
      "execution_count": 89,
      "outputs": [
        {
          "output_type": "stream",
          "name": "stdout",
          "text": [
            "Solución del sistema: [2.36363636 1.09090909]\n"
          ]
        }
      ]
    },
    {
      "cell_type": "markdown",
      "source": [
        "**Ejemplo 2:** Sistema de Ecuaciones de Mayor Dimensión\n",
        "\n",
        "Resuelve el sistema:\n",
        "  \n",
        " x +  y +  z =  6\n",
        "\n",
        "2x + 5y +  z = −4\n",
        "\n",
        "2x + 3y + 8z = 27"
      ],
      "metadata": {
        "id": "Uhqx7kLKk4R8"
      }
    },
    {
      "cell_type": "code",
      "source": [
        "A = np.array([[1, 1, 1], [2, 5, 1], [2, 3, 8]])\n",
        "B = np.array([6, -4, 27])\n",
        "\n",
        "solution = np.linalg.solve(A, B)\n",
        "print(\"Solución del sistema:\", solution)\n"
      ],
      "metadata": {
        "id": "7FVsicntk2_w",
        "colab": {
          "base_uri": "https://localhost:8080/"
        },
        "outputId": "dea768cb-8c8e-470e-84b7-a538adb7f0a5"
      },
      "execution_count": 90,
      "outputs": [
        {
          "output_type": "stream",
          "name": "stdout",
          "text": [
            "Solución del sistema: [ 7.05263158 -4.26315789  3.21052632]\n"
          ]
        }
      ]
    },
    {
      "cell_type": "markdown",
      "source": [
        "**Ejercicios**\n",
        "\n",
        "Resuelve un sistema de ecuaciones de 3 variables y 3 ecuaciones.\n",
        "\n",
        "$\n",
        "\\begin{aligned}\n",
        "2x + 3y - z &= 5 \\\\\n",
        "4x + y + 2z &= 6 \\\\\n",
        "-3x + 2y + 3z &= -4\n",
        "\\end{aligned}\n",
        "$"
      ],
      "metadata": {
        "id": "ZMp2aQo7lNBJ"
      }
    },
    {
      "cell_type": "code",
      "source": [],
      "metadata": {
        "id": "IzPgFJnzlQL-"
      },
      "execution_count": null,
      "outputs": []
    },
    {
      "cell_type": "markdown",
      "source": [
        "Verifica la solución del sistema sustituyendo los valores encontrados en las ecuaciones originales.\n"
      ],
      "metadata": {
        "id": "xxQCcluOlPoX"
      }
    },
    {
      "cell_type": "code",
      "source": [],
      "metadata": {
        "id": "tTOgOVWnlSBD"
      },
      "execution_count": null,
      "outputs": []
    },
    {
      "cell_type": "markdown",
      "source": [
        "Intenta resolver un sistema de ecuaciones linealmente dependiente y observa el resultado.\n",
        "\n",
        "$\n",
        "\\begin{aligned}\n",
        "x + y &= 2 \\\\\n",
        "2x + 2y &= 4\n",
        "\\end{aligned}\n",
        "$"
      ],
      "metadata": {
        "id": "_nLDtZKVlSbj"
      }
    },
    {
      "cell_type": "code",
      "source": [],
      "metadata": {
        "id": "FblMZbWNlTEK"
      },
      "execution_count": null,
      "outputs": []
    },
    {
      "cell_type": "markdown",
      "source": [
        "## 9. Ejercicios Prácticos"
      ],
      "metadata": {
        "id": "_bEo7-mqlVf9"
      }
    },
    {
      "cell_type": "markdown",
      "source": [
        "**Ejercicio 1: Estadísticas**\n",
        "\n",
        "- Genera un array aleatorio de forma (4, 5) con números enteros entre 0 y 100.\n",
        "- Calcula el promedio, el valor mínimo y su índice global.\n",
        "- Encuentra el valor máximo de cada fila y de cada columna."
      ],
      "metadata": {
        "id": "qrHq4ppSmDOQ"
      }
    },
    {
      "cell_type": "code",
      "source": [],
      "metadata": {
        "id": "VZtm4M9umKZO"
      },
      "execution_count": null,
      "outputs": []
    },
    {
      "cell_type": "markdown",
      "source": [
        "**Ejercicio 2: Manipulación de Forma**\n",
        "\n",
        "- Crea una matriz de 3x3 con números consecutivos del 1 al 9.\n",
        "- Transpón la matriz y aplana el resultado.\n",
        "- Reshapea el array a una forma de (9, 1)."
      ],
      "metadata": {
        "id": "-dTGPcVMmK51"
      }
    },
    {
      "cell_type": "code",
      "source": [],
      "metadata": {
        "id": "wXBV4apdmTSh"
      },
      "execution_count": null,
      "outputs": []
    },
    {
      "cell_type": "markdown",
      "source": [
        "**Ejercicio 3: Álgebra Lineal**\n",
        "\n",
        "Resuelve el sistema de ecuaciones:\n",
        "\n",
        "3x +  2y −  z =  1\n",
        "\n",
        "2x −  2y + 4z = −2\n",
        "\n",
        "−x + 21y −  z =  0​\n",
        "\n",
        "\n",
        "- Encuentra la solución para las variables x, y, z.\n",
        "- Comprueba la solución sustituyéndola en las ecuaciones originales.\n",
        "- Calcula el determinante de la matriz de coeficientes.\n"
      ],
      "metadata": {
        "id": "Ik5SYZ_kmTwR"
      }
    },
    {
      "cell_type": "code",
      "source": [],
      "metadata": {
        "id": "UTSxGfpomvDe"
      },
      "execution_count": null,
      "outputs": []
    },
    {
      "cell_type": "markdown",
      "source": [
        "---\n",
        "\n",
        "# Gracias por completar este laboratorio!\n",
        "\n",
        "---"
      ],
      "metadata": {
        "id": "zxDh8KHMl33r"
      }
    }
  ]
}